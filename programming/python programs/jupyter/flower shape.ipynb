{
 "cells": [
  {
   "cell_type": "code",
   "execution_count": 2,
   "id": "4ceed962",
   "metadata": {},
   "outputs": [],
   "source": [
    "from turtle import Turtle, Screen\n",
    "s=Screen()\n",
    "t=Turtle()\n",
    "s.bgcolor('black')\n",
    "t.color('white')\n",
    "t.penup()\n",
    "speed=4\n",
    "def new():\n",
    "    s.bye()\n",
    "def travel():\n",
    "    t.forward(speed)\n",
    "    s.ontimer(travel, 10)\n",
    "s.onkey(lambda: t.setheading(90),'Up')\n",
    "s.onkey(lambda: t.setheading(180),'Left')\n",
    "s.onkey(lambda: t.setheading(0),'Right')\n",
    "s.onkey(lambda: t.setheading(270),'Down')\n",
    "s.onkey(new,'space')\n",
    "\n",
    "s.listen()\n",
    "\n",
    "travel()\n",
    "\n",
    "s.mainloop()"
   ]
  },
  {
   "cell_type": "code",
   "execution_count": 1,
   "id": "a7c05a74",
   "metadata": {
    "scrolled": true
   },
   "outputs": [],
   "source": [
    "import turtle as t\n",
    "def quit():\n",
    "    t.bye()\n",
    "c=[\"red\",\"lime\",\"blue\",\"yellow\",\"magenta\",\"cyan\"]   \n",
    "t.setup(750, 780, 300, 10)\n",
    "t.setpos(0,-45)\n",
    "t.bgcolor(\"black\")\n",
    "t.width(2)\n",
    "t.pensize(2)\n",
    "t.tracer(10)\n",
    "t.speed(0)\n",
    "t.hideturtle()\n",
    "x=35\n",
    "if x>20:\n",
    "    y=5\n",
    "    for i in range(x):\n",
    "        for j in range(y):\n",
    "            t.color(c[i%6])\n",
    "            t.right(90)\n",
    "            t.circle(250-i*4,90)\n",
    "            t.left(90)\n",
    "            t.circle(250-i*4,90)\n",
    "            t.right(180)\n",
    "            t.circle(50,24)\n",
    "            t.onkey(quit,'Escape')\n",
    "            t.listen()\n",
    "    for i in range(x):\n",
    "        for j in range(y):\n",
    "            t.color(c[i%6])\n",
    "            t.right(90)\n",
    "            t.circle(250-i*4,90)\n",
    "            t.left(90)\n",
    "            t.circle(250-i*4,90)\n",
    "            t.right(180)\n",
    "            t.circle(50,24)\n",
    "            t.onkey(quit,'Escape')\n",
    "            t.listen()\n",
    "    t.bye"
   ]
  },
  {
   "cell_type": "code",
   "execution_count": 23,
   "id": "45a591fc",
   "metadata": {},
   "outputs": [],
   "source": [
    "import turtle as t\n",
    "def quit():\n",
    "    t.bye()\n",
    "c=['red','green','blue','yellow']\n",
    "t.setup(750, 680, 300, 10)\n",
    "t.setpos(0,-50)\n",
    "t.bgcolor(\"black\")\n",
    "t.pensize(2)\n",
    "t.tracer(5)\n",
    "t.speed(0)\n",
    "t.hideturtle()\n",
    "#c=['red','yellow','violet','green']\n",
    "for i in range(20):\n",
    "    for j in range(49):\n",
    "        t.color(c[i%4])\n",
    "        t.right(90)\n",
    "        t.circle(200-i*4,90)\n",
    "        t.left(90)\n",
    "        t.circle(200-i*4,90)\n",
    "        t.right(180)\n",
    "        t.circle(50,24-i)\n",
    "        t.onkey(quit,'space')\n",
    "        t.listen()\n",
    "t.bye()"
   ]
  }
 ],
 "metadata": {
  "kernelspec": {
   "display_name": "Python 3 (ipykernel)",
   "language": "python",
   "name": "python3"
  },
  "language_info": {
   "codemirror_mode": {
    "name": "ipython",
    "version": 3
   },
   "file_extension": ".py",
   "mimetype": "text/x-python",
   "name": "python",
   "nbconvert_exporter": "python",
   "pygments_lexer": "ipython3",
   "version": "3.9.12"
  }
 },
 "nbformat": 4,
 "nbformat_minor": 5
}
