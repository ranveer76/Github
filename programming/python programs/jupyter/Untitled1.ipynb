{
 "cells": [
  {
   "cell_type": "code",
   "execution_count": 158,
   "id": "4de7bd2d",
   "metadata": {},
   "outputs": [
    {
     "name": "stdout",
     "output_type": "stream",
     "text": [
      "enterprint\n",
      "i\n",
      "a\n",
      "prant\n"
     ]
    }
   ],
   "source": [
    "n=input('enter: ')\n",
    "a=input()\n",
    "b=input()\n",
    "l=len(n)\n",
    "d=''\n",
    "for i in range(l):\n",
    "    k=n[i]\n",
    "    if k==a:\n",
    "        k=b\n",
    "    d+=k\n",
    "print(d)"
   ]
  },
  {
   "cell_type": "code",
   "execution_count": 155,
   "id": "72645645",
   "metadata": {},
   "outputs": [
    {
     "name": "stdout",
     "output_type": "stream",
     "text": [
      "chitkara\n",
      "i\n"
     ]
    },
    {
     "ename": "AttributeError",
     "evalue": "'int' object has no attribute 'rep'",
     "output_type": "error",
     "traceback": [
      "\u001b[1;31m---------------------------------------------------------------------------\u001b[0m",
      "\u001b[1;31mAttributeError\u001b[0m                            Traceback (most recent call last)",
      "Input \u001b[1;32mIn [155]\u001b[0m, in \u001b[0;36m<cell line: 4>\u001b[1;34m()\u001b[0m\n\u001b[0;32m      7\u001b[0m         \u001b[38;5;28mprint\u001b[39m(i)\n\u001b[0;32m      8\u001b[0m         \u001b[38;5;28;01mif\u001b[39;00m i\u001b[38;5;241m==\u001b[39m\u001b[38;5;124m'\u001b[39m\u001b[38;5;124mi\u001b[39m\u001b[38;5;124m'\u001b[39m:\n\u001b[1;32m----> 9\u001b[0m             s\u001b[38;5;241m=\u001b[39m\u001b[43ma\u001b[49m\u001b[38;5;241;43m.\u001b[39;49m\u001b[43mrep\u001b[49m(\u001b[38;5;124m'\u001b[39m\u001b[38;5;124mi\u001b[39m\u001b[38;5;124m'\u001b[39m,\u001b[38;5;124m'\u001b[39m\u001b[38;5;124ma\u001b[39m\u001b[38;5;124m'\u001b[39m)\n\u001b[0;32m     11\u001b[0m \u001b[38;5;28mprint\u001b[39m(n)\n",
      "\u001b[1;31mAttributeError\u001b[0m: 'int' object has no attribute 'rep'"
     ]
    }
   ],
   "source": [
    "n=input()\n",
    "m=len(n)\n",
    "k=['a','i','o','u','A','I','O','U']\n",
    "for j in range(m):\n",
    "    i=n[j]\n",
    "    if i in k:\n",
    "        print(i)\n",
    "        if i=='i':\n",
    "            s=a.rep('i','a')\n",
    "\n",
    "print(n)"
   ]
  },
  {
   "cell_type": "code",
   "execution_count": 80,
   "id": "9f8cfec3",
   "metadata": {},
   "outputs": [
    {
     "name": "stdout",
     "output_type": "stream",
     "text": [
      "5\n",
      "            1 \n",
      "          2 1 2 \n",
      "        3 2 1 2 3 \n",
      "      4 3 2 1 2 3 4 \n",
      "    5 4 3 2 1 2 3 4 5 \n"
     ]
    }
   ],
   "source": [
    "n=int(input())\n",
    "for i in range(n):\n",
    "    for j in range(n-i+1):\n",
    "        print(end='  ')\n",
    "    for j in range(i+1,0,-1):\n",
    "        print(j,end=' ')\n",
    "    for j in range(1,i+1):\n",
    "        print(j+1,end=' ')\n",
    "    print()"
   ]
  },
  {
   "cell_type": "code",
   "execution_count": 50,
   "id": "caec5a8f",
   "metadata": {},
   "outputs": [
    {
     "name": "stdout",
     "output_type": "stream",
     "text": [
      "python\n",
      "          n   \n",
      "        n   o   \n",
      "      n   o   h   \n",
      "    n   o   h   t   \n",
      "  n   o   h   t   y   \n",
      "n   o   h   t   y   p   \n"
     ]
    }
   ],
   "source": [
    "n=input()\n",
    "a=len(n)\n",
    "for i in range(a):\n",
    "    for j in range(a-i-1):\n",
    "        print(end='  ')\n",
    "    for j in range(-1,-(i+2),-1):\n",
    "        print(n[j],end='   ')\n",
    "    print()"
   ]
  },
  {
   "cell_type": "code",
   "execution_count": 20,
   "id": "5dcb4fc9",
   "metadata": {},
   "outputs": [
    {
     "name": "stdout",
     "output_type": "stream",
     "text": [
      "5\n",
      "        *   \n",
      "      *   *   \n",
      "    *   *   *   \n",
      "  *   *   *   *   \n",
      "*   *   *   *   *   \n"
     ]
    }
   ],
   "source": [
    "n=int(input())\n",
    "for i in range(n):\n",
    "    for j in range(n-i-1):\n",
    "        print(' ',end=' ')\n",
    "    for j in range(i+1):\n",
    "        print('*',end='   ')\n",
    "    print()"
   ]
  },
  {
   "cell_type": "code",
   "execution_count": 103,
   "id": "2574f514",
   "metadata": {},
   "outputs": [
    {
     "name": "stdout",
     "output_type": "stream",
     "text": [
      "5\n",
      "1\t2\t3\t4\t5\t\n",
      "\n",
      "11\t12\t13\t14\t15\t\n",
      "\n",
      "21\t22\t23\t24\t25\t\n",
      "\n",
      "16\t17\t18\t19\t20\t\n",
      "\n",
      "6\t7\t8\t9\t10\t\n",
      "\n"
     ]
    }
   ],
   "source": [
    "n=int(input())\n",
    "top=0\n",
    "c=1\n",
    "m=[[0 for i in range(n)] for j in range(n)]\n",
    "b=-1\n",
    "for i in range(n):\n",
    "    if i%2==0:\n",
    "        for j in range(n):\n",
    "            m[top][j]=c\n",
    "            c+=1\n",
    "        top+=1\n",
    "    else:\n",
    "        for j in range(n):\n",
    "            m[b][j]=c\n",
    "            c+=1\n",
    "        b-=1\n",
    "for i in range(n):\n",
    "    for j in range(n):\n",
    "        print(m[i][j],end='\\t')\n",
    "    print('\\n')"
   ]
  },
  {
   "cell_type": "code",
   "execution_count": 87,
   "id": "f2672834",
   "metadata": {},
   "outputs": [
    {
     "name": "stdout",
     "output_type": "stream",
     "text": [
      "5\n",
      "[[0, 0, 0, 0, 0], [0, 0, 0, 0, 0], [0, 0, 0, 0, 0], [0, 0, 0, 0, 0], [0, 0, 0, 0, 0]]\n",
      "0 0 0 0 0 \n",
      "0 0 0 0 0 \n",
      "0 0 0 0 0 \n",
      "0 0 0 0 0 \n",
      "0 0 0 0 0 \n"
     ]
    }
   ],
   "source": [
    "n=int(input())\n",
    "m=[[0 for i in range(n)] for j in range(n)]\n",
    "print(m)\n",
    "for i in range(n):\n",
    "    for j in range(n):\n",
    "        print(m[i][j],end=' ')\n",
    "    print()"
   ]
  }
 ],
 "metadata": {
  "kernelspec": {
   "display_name": "Python 3 (ipykernel)",
   "language": "python",
   "name": "python3"
  },
  "language_info": {
   "codemirror_mode": {
    "name": "ipython",
    "version": 3
   },
   "file_extension": ".py",
   "mimetype": "text/x-python",
   "name": "python",
   "nbconvert_exporter": "python",
   "pygments_lexer": "ipython3",
   "version": "3.9.12"
  }
 },
 "nbformat": 4,
 "nbformat_minor": 5
}
