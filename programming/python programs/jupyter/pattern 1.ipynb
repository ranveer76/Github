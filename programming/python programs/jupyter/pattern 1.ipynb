{
 "cells": [
  {
   "cell_type": "markdown",
   "id": "8a3823ab",
   "metadata": {},
   "source": [
    "Code : Square Pattern"
   ]
  },
  {
   "cell_type": "code",
   "execution_count": 3,
   "id": "b9d6a9fa",
   "metadata": {
    "scrolled": false
   },
   "outputs": [
    {
     "name": "stdout",
     "output_type": "stream",
     "text": [
      "5\n",
      "55555\n",
      "55555\n",
      "55555\n",
      "55555\n",
      "55555\n"
     ]
    }
   ],
   "source": [
    "n=int(input())\n",
    "for x in range(1,n+1):\n",
    "    for y in range(1,n):\n",
    "        print(n,end='')\n",
    "    print(n)"
   ]
  },
  {
   "cell_type": "markdown",
   "id": "9911d2ea",
   "metadata": {},
   "source": [
    "Code : Triangular Star Pattern"
   ]
  },
  {
   "cell_type": "code",
   "execution_count": 9,
   "id": "b0e82dc2",
   "metadata": {},
   "outputs": [
    {
     "name": "stdout",
     "output_type": "stream",
     "text": [
      "5\n",
      "*\n",
      "**\n",
      "***\n",
      "****\n",
      "*****\n"
     ]
    }
   ],
   "source": [
    "n=int(input())\n",
    "for i in range(1,n+1):\n",
    "    for j in range(1,i+1):\n",
    "        print(\"*\",end='')\n",
    "    print('')"
   ]
  },
  {
   "cell_type": "markdown",
   "id": "b82c3269",
   "metadata": {},
   "source": [
    "Code : Triangle Number Pattern"
   ]
  },
  {
   "cell_type": "code",
   "execution_count": 10,
   "id": "67ce5b8c",
   "metadata": {},
   "outputs": [
    {
     "name": "stdout",
     "output_type": "stream",
     "text": [
      "5\n",
      "1\n",
      "22\n",
      "333\n",
      "4444\n",
      "55555\n"
     ]
    }
   ],
   "source": [
    "n=int(input())\n",
    "for i in range(1,n+1):\n",
    "    for j in range(1,i):\n",
    "        print(i,end='')\n",
    "    print(i)"
   ]
  },
  {
   "cell_type": "markdown",
   "id": "f5569266",
   "metadata": {},
   "source": [
    "Code : Reverse Number Pattern"
   ]
  },
  {
   "cell_type": "code",
   "execution_count": 11,
   "id": "fe2e8a59",
   "metadata": {
    "scrolled": true
   },
   "outputs": [
    {
     "name": "stdout",
     "output_type": "stream",
     "text": [
      "5\n",
      "1\n",
      "21\n",
      "321\n",
      "4321\n",
      "54321\n"
     ]
    }
   ],
   "source": [
    "n=int(input())\n",
    "for i in range(n):\n",
    "    for j in range(i,-1,-1):\n",
    "        print(j+1,end='')\n",
    "    print()"
   ]
  },
  {
   "cell_type": "markdown",
   "id": "20546511",
   "metadata": {},
   "source": [
    "Code : Character Pattern"
   ]
  },
  {
   "cell_type": "code",
   "execution_count": 13,
   "id": "e29aeee2",
   "metadata": {
    "scrolled": false
   },
   "outputs": [
    {
     "name": "stdout",
     "output_type": "stream",
     "text": [
      "5\n",
      "A\n",
      "BC\n",
      "CDE\n",
      "DEFG\n",
      "EFGHI\n"
     ]
    }
   ],
   "source": [
    "n=int(input())\n",
    "for i in range(n):\n",
    "    k=ord(\"A\")+i\n",
    "    for j in range(i+1):\n",
    "        print(chr(k),end='')\n",
    "        k=k+1\n",
    "    print()"
   ]
  },
  {
   "cell_type": "markdown",
   "id": "8ddb31fb",
   "metadata": {},
   "source": [
    "Code : Interesting Alphabets"
   ]
  },
  {
   "cell_type": "code",
   "execution_count": 15,
   "id": "8b283478",
   "metadata": {},
   "outputs": [
    {
     "name": "stdout",
     "output_type": "stream",
     "text": [
      "5\n",
      "E\n",
      "DE\n",
      "CDE\n",
      "BCDE\n",
      "ABCDE\n"
     ]
    }
   ],
   "source": [
    "n=int(input())\n",
    "i=1\n",
    "while (i<=n):\n",
    "    j=1\n",
    "    k=ord(\"A\")+n-i\n",
    "    while (j<=i):\n",
    "        print(chr(k),end=\"\")\n",
    "        j+=1\n",
    "        k=k+1\n",
    "    print()\n",
    "    i+=1"
   ]
  },
  {
   "cell_type": "markdown",
   "id": "4148407d",
   "metadata": {},
   "source": [
    "Number Pattern 1"
   ]
  },
  {
   "cell_type": "code",
   "execution_count": 16,
   "id": "a74cda41",
   "metadata": {},
   "outputs": [
    {
     "name": "stdout",
     "output_type": "stream",
     "text": [
      "5\n",
      "1\n",
      "11\n",
      "111\n",
      "1111\n",
      "11111\n"
     ]
    }
   ],
   "source": [
    "n=int(input())\n",
    "for i in range(1,n+1):\n",
    "    for j in range(1,i+1):\n",
    "        print(1,end='')\n",
    "    print('')"
   ]
  },
  {
   "cell_type": "markdown",
   "id": "b76bf322",
   "metadata": {},
   "source": [
    "Number Pattern 2"
   ]
  },
  {
   "cell_type": "code",
   "execution_count": 17,
   "id": "6dcde8c7",
   "metadata": {},
   "outputs": [
    {
     "name": "stdout",
     "output_type": "stream",
     "text": [
      "5\n",
      "1\n",
      "11\n",
      "202\n",
      "3003\n",
      "40004\n"
     ]
    }
   ],
   "source": [
    "def F(i,j):\n",
    "    if i==j or j==0:\n",
    "        if i==0 and j==0:\n",
    "            return i+1 \n",
    "        return i\n",
    "    else:\n",
    "        return 0\n",
    "n=int(input())\n",
    "for i in range(n):\n",
    "    for j in range(i+1):\n",
    "        print(F(i,j),end='')\n",
    "    print()"
   ]
  },
  {
   "cell_type": "markdown",
   "id": "91522562",
   "metadata": {},
   "source": [
    "Number Pattern 3"
   ]
  },
  {
   "cell_type": "code",
   "execution_count": 18,
   "id": "543ab52a",
   "metadata": {},
   "outputs": [
    {
     "name": "stdout",
     "output_type": "stream",
     "text": [
      "5\n",
      "1\n",
      "11\n",
      "121\n",
      "1221\n",
      "12221\n"
     ]
    }
   ],
   "source": [
    "def F(i,j):\n",
    "    if i==j or j==0:\n",
    "        return 1\n",
    "    else:\n",
    "        return 2\n",
    "n=int(input())\n",
    "for i in range(n):\n",
    "    for j in range(i+1):\n",
    "        print(F(i,j),end='')\n",
    "    print()"
   ]
  },
  {
   "cell_type": "markdown",
   "id": "dcb64a0a",
   "metadata": {},
   "source": [
    "Number Pattern"
   ]
  },
  {
   "cell_type": "code",
   "execution_count": 19,
   "id": "794f698d",
   "metadata": {},
   "outputs": [
    {
     "name": "stdout",
     "output_type": "stream",
     "text": [
      "5\n",
      "12345\n",
      "1234\n",
      "123\n",
      "12\n",
      "1\n"
     ]
    }
   ],
   "source": [
    "n=int(input())\n",
    "for i in range(n):\n",
    "    for j in range(n-i):\n",
    "        print(j+1,end='')\n",
    "    print()"
   ]
  },
  {
   "cell_type": "markdown",
   "id": "c5207f0f",
   "metadata": {},
   "source": [
    "Alpha Pattern"
   ]
  },
  {
   "cell_type": "code",
   "execution_count": 14,
   "id": "4360ecbf",
   "metadata": {},
   "outputs": [
    {
     "name": "stdout",
     "output_type": "stream",
     "text": [
      "5\n",
      "A\n",
      "BB\n",
      "CCC\n",
      "DDDD\n",
      "EEEEE\n"
     ]
    }
   ],
   "source": [
    "n=int(input())\n",
    "for i in range(65,n+65):\n",
    "    for j in range(65,i):\n",
    "        print(chr(i),end='')\n",
    "    print(chr(i))"
   ]
  }
 ],
 "metadata": {
  "kernelspec": {
   "display_name": "Python 3 (ipykernel)",
   "language": "python",
   "name": "python3"
  },
  "language_info": {
   "codemirror_mode": {
    "name": "ipython",
    "version": 3
   },
   "file_extension": ".py",
   "mimetype": "text/x-python",
   "name": "python",
   "nbconvert_exporter": "python",
   "pygments_lexer": "ipython3",
   "version": "3.9.12"
  }
 },
 "nbformat": 4,
 "nbformat_minor": 5
}
