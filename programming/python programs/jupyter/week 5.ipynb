{
 "cells": [
  {
   "cell_type": "code",
   "execution_count": 4,
   "id": "425f8e0a",
   "metadata": {},
   "outputs": [
    {
     "name": "stdout",
     "output_type": "stream",
     "text": [
      "2\n",
      "manjeet\n",
      "1\n",
      "akash\n",
      "1 8 9\n",
      "{'manjeet': [], 'akash': [8, 9]}\n"
     ]
    }
   ],
   "source": [
    "d={}\n",
    "n=int(input())\n",
    "for i in range(n):\n",
    "    a=input()\n",
    "    d[a]=[int(x) for x in input().split()]\n",
    "for i in d:\n",
    "    a=[]\n",
    "    for j in d[i]:\n",
    "        for e in range(2):\n",
    "            for x in d:\n",
    "                if i!=x and (j in d[x]):\n",
    "                    for k in d[x]:\n",
    "                        if j==k:\n",
    "                            d[x].remove(k)\n",
    "                            a.append(k)\n",
    "                            break\n",
    "        for c in a:\n",
    "            if c==j and c in d[i]:\n",
    "                d[i].remove(j)\n",
    "print(d)"
   ]
  },
  {
   "cell_type": "code",
   "execution_count": 26,
   "id": "3194ba58",
   "metadata": {},
   "outputs": [
    {
     "name": "stdout",
     "output_type": "stream",
     "text": [
      "1 1 1 5 5 3 1 3 3 1 4 4 4 2 2 2 2\n",
      "1: 5\n",
      "2: 4\n",
      "3: 3\n",
      "4: 3\n",
      "5: 2\n"
     ]
    }
   ],
   "source": [
    "a=[int(x)for x in input().split()]\n",
    "x=a\n",
    "l=len(a)\n",
    "a.sort()\n",
    "lis={}\n",
    "t=1\n",
    "for i in range(l):\n",
    "    if a[i] not in lis:\n",
    "        lis[a[i]]=t\n",
    "    else:\n",
    "        lis[a[i]]+=1\n",
    "for i in lis:\n",
    "    print(str(i)+':',lis[i])"
   ]
  },
  {
   "cell_type": "code",
   "execution_count": 31,
   "id": "b56921fb",
   "metadata": {},
   "outputs": [
    {
     "name": "stdout",
     "output_type": "stream",
     "text": [
      "python is great and java is also great\n",
      "python is great and java also \n"
     ]
    }
   ],
   "source": [
    "a=input().split()\n",
    "l=len(a)\n",
    "x=''\n",
    "for i in a:\n",
    "    if i not in x:\n",
    "        x+=i+' '\n",
    "print(x)"
   ]
  }
 ],
 "metadata": {
  "kernelspec": {
   "display_name": "Python 3 (ipykernel)",
   "language": "python",
   "name": "python3"
  },
  "language_info": {
   "codemirror_mode": {
    "name": "ipython",
    "version": 3
   },
   "file_extension": ".py",
   "mimetype": "text/x-python",
   "name": "python",
   "nbconvert_exporter": "python",
   "pygments_lexer": "ipython3",
   "version": "3.9.12"
  }
 },
 "nbformat": 4,
 "nbformat_minor": 5
}
