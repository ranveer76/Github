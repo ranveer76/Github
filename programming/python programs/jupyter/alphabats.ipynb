{
 "cells": [
  {
   "cell_type": "code",
   "execution_count": 28,
   "id": "5fa20c32",
   "metadata": {},
   "outputs": [
    {
     "name": "stdout",
     "output_type": "stream",
     "text": [
      "9\n",
      "         \n",
      "         \n",
      "         \n",
      "         \n",
      " *** *** \n",
      "*   *   *\n",
      "*   *   *\n",
      "*   *   *\n",
      "*   *   *\n"
     ]
    }
   ],
   "source": [
    "K=int(input())\n",
    "for x in range(K):\n",
    "    for j in range(K):\n",
    "        if((x==K//2 and (j!=(K//2) and j!=0 and j!=K-1))or((j==0 or j==(K//2) or j==K-1) and x>(K//2))):\n",
    "            print('*',end='')\n",
    "        else:\n",
    "            print(' ',end='')\n",
    "    print()"
   ]
  },
  {
   "cell_type": "code",
   "execution_count": 62,
   "id": "120c8ded",
   "metadata": {},
   "outputs": [
    {
     "name": "stdout",
     "output_type": "stream",
     "text": [
      "9\n",
      "  *    * \n",
      "  *   *  \n",
      "  *  *   \n",
      "  * *    \n",
      "  **     \n",
      "  * *    \n",
      "  *  *   \n",
      "  *   *  \n",
      "  *    * \n"
     ]
    }
   ],
   "source": [
    "n='j'\n",
    "K=int(input())\n",
    "for x in range(K):\n",
    "    for i in n:\n",
    "        for j in range(K):\n",
    "            if ((x==j+1 or x+j==K-2)and j>2) or j==2:\n",
    "                print('*',end='')\n",
    "            else:\n",
    "                print(' ',end='')\n",
    "    print()"
   ]
  },
  {
   "cell_type": "code",
   "execution_count": 39,
   "id": "37567ea2",
   "metadata": {},
   "outputs": [
    {
     "name": "stdout",
     "output_type": "stream",
     "text": [
      "15\n",
      " *********** **\n",
      "*           *  \n",
      "*           *  \n",
      "*           *  \n",
      "*           *  \n",
      "*           *  \n",
      " ***********   \n",
      "*              \n",
      " ***********   \n",
      "*           *  \n",
      "*           *  \n",
      "*           *  \n",
      "*           *  \n",
      " ***********   \n",
      "               \n"
     ]
    }
   ],
   "source": [
    "K=int(input())\n",
    "for x in range(K):\n",
    "    for j in range(K):\n",
    "        if (x==0 and j>=K-2)or(x==K//2 and j==0)or((x==0 or x==K-2 or x==(K//2)-1 or x==(K//2)+1)and(j>0 and j<K-3)or((j==0 or j==K-3)and ((x>0 and x<(K//2)-1) or (x>(K//2)+1 and x<K-2)))):\n",
    "            print('*',end='')\n",
    "        else:\n",
    "            print(' ',end='')\n",
    "    print()"
   ]
  },
  {
   "cell_type": "code",
   "execution_count": 15,
   "id": "15a1009b",
   "metadata": {},
   "outputs": [
    {
     "name": "stdout",
     "output_type": "stream",
     "text": [
      "3\n",
      "3\n",
      "1\n",
      "1\n",
      "1\n",
      "0\n",
      "1\n",
      "1\n",
      "0\n",
      "0\n",
      "1\n",
      "111\n",
      "011\n",
      "001\n",
      "upper triangle matrix\n"
     ]
    }
   ],
   "source": [
    "def inop():\n",
    "    return int(input())\n",
    "m=inop()\n",
    "n=inop()\n",
    "a=[[int(input())for x in range(m)]for i in range(n)]\n",
    "for i in range(n):\n",
    "    for j in range(m):\n",
    "        print(a[i][j],end='')\n",
    "        if i>j:\n",
    "            if a[i][j]==0:\n",
    "                b='upper triangle matrix'\n",
    "            else:\n",
    "                b='square matrix'\n",
    "                break\n",
    "    print()\n",
    "print(b)"
   ]
  },
  {
   "cell_type": "code",
   "execution_count": 50,
   "id": "1321c813",
   "metadata": {},
   "outputs": [
    {
     "name": "stdout",
     "output_type": "stream",
     "text": [
      "5\n",
      "5\n",
      "*       * \n",
      "* *   * * \n",
      "*   *   * \n",
      "*       * \n",
      "*       * \n"
     ]
    }
   ],
   "source": [
    "def inop():\n",
    "    return int(input())\n",
    "m=inop()\n",
    "n=inop()\n",
    "'''a=[[int(input())for x in range(m)]for i in range(n)]'''\n",
    "for i in range(n):\n",
    "    for j in range(m):\n",
    "        if (j==0 or j==n-1)or((i==j or (i+j)==n-1)and(i<=n//2)):\n",
    "            print('*',end=' ')\n",
    "        else:\n",
    "            print(' ',end=' ')\n",
    "    print()"
   ]
  },
  {
   "cell_type": "code",
   "execution_count": 54,
   "id": "cb99e5fe",
   "metadata": {},
   "outputs": [
    {
     "name": "stdout",
     "output_type": "stream",
     "text": [
      "7\n",
      "7\n",
      "*           * \n",
      "* *         * \n",
      "*   *       * \n",
      "*     *     * \n",
      "*       *   * \n",
      "*         * * \n",
      "*           * \n"
     ]
    }
   ],
   "source": [
    "def inop():\n",
    "    return int(input())\n",
    "m=inop()\n",
    "n=inop()\n",
    "'''a=[[int(input())for x in range(m)]for i in range(n)]'''\n",
    "for i in range(n):\n",
    "    for j in range(m):\n",
    "        if (j==0 or j==n-1)or i==j:\n",
    "            print('*',end=' ')\n",
    "        else:\n",
    "            print(' ',end=' ')\n",
    "    print()"
   ]
  },
  {
   "cell_type": "code",
   "execution_count": 62,
   "id": "12d482e9",
   "metadata": {},
   "outputs": [
    {
     "name": "stdout",
     "output_type": "stream",
     "text": [
      "7\n",
      "7\n",
      "****** \n",
      "*     *\n",
      "*     *\n",
      "****** \n",
      "*      \n",
      "*      \n",
      "*      \n"
     ]
    }
   ],
   "source": [
    "def inop():\n",
    "    return int(input())\n",
    "m=inop()\n",
    "n=inop()\n",
    "'''a=[[int(input())for x in range(m)]for i in range(n)]'''\n",
    "for i in range(n):\n",
    "    for j in range(m):\n",
    "        if ((j==0 or i==0 or i==n//2 or (j==n-1 and i<=n//2)))and (not((j==n-1) and(i==0 or i==n//2))):\n",
    "            print('*',end='')\n",
    "        else:\n",
    "            print(' ',end='')\n",
    "    print()"
   ]
  },
  {
   "cell_type": "code",
   "execution_count": 89,
   "id": "b3277d4d",
   "metadata": {},
   "outputs": [
    {
     "name": "stdout",
     "output_type": "stream",
     "text": [
      "9\n",
      "9\n",
      "******** \n",
      "*       *\n",
      "*       *\n",
      "*       *\n",
      "******** \n",
      "*    *   \n",
      "*     *  \n",
      "*      * \n",
      "*       *\n"
     ]
    }
   ],
   "source": [
    "def inop():\n",
    "    return int(input())\n",
    "m=inop()\n",
    "n=inop()\n",
    "'''a=[[int(input())for x in range(m)]for i in range(n)]'''\n",
    "for i in range(n):\n",
    "    for j in range(m):\n",
    "        if ((j==0 or i==0 or i==n//2 or(i>=n//2 and(j==i))or (j==n-1 and i<=n//2)))and (not((j==n-1) and(i==0 or i==n//2))):\n",
    "            print('*',end='')\n",
    "        else:\n",
    "            print(' ',end='')\n",
    "    print()"
   ]
  },
  {
   "cell_type": "code",
   "execution_count": 86,
   "id": "835123a7",
   "metadata": {},
   "outputs": [
    {
     "name": "stdout",
     "output_type": "stream",
     "text": [
      "9\n",
      "9\n",
      " *****   \n",
      "*     *  \n",
      "*     *  \n",
      "*     *  \n",
      "*   * *  \n",
      "*    **  \n",
      "*     *  \n",
      "*     ** \n",
      " *****  *\n"
     ]
    }
   ],
   "source": [
    "def inop():\n",
    "    return int(input())\n",
    "m=inop()\n",
    "n=inop()\n",
    "'''a=[[int(input())for x in range(m)]for i in range(n)]'''\n",
    "for i in range(n):\n",
    "    for j in range(m):\n",
    "        if (j==0 or((i==0 or i==n-1)and j<=(n//2)+2) or j==(n//2)+2 or(i>=n//2 and i==j))and(not((i==0 or i==n-1)and(j==0 or j==(n//2)+2))):\n",
    "            print('*',end='')\n",
    "        else:\n",
    "            print(' ',end='')\n",
    "    print()"
   ]
  },
  {
   "cell_type": "code",
   "execution_count": 122,
   "id": "de7d2610",
   "metadata": {},
   "outputs": [
    {
     "name": "stdout",
     "output_type": "stream",
     "text": [
      "9\n",
      "9\n",
      " ******* \n",
      "*       *\n",
      "*        \n",
      "*        \n",
      " ******* \n",
      "        *\n",
      "        *\n",
      "*       *\n",
      " ******* \n"
     ]
    }
   ],
   "source": [
    "def inop():\n",
    "    return int(input())\n",
    "m=inop()\n",
    "n=inop()\n",
    "'''a=[[int(input())for x in range(m)]for i in range(n)]'''\n",
    "for i in range(n):\n",
    "    for j in range(m):\n",
    "        if ((i==0 or i==n//2 or i==n-1)and(j>0 and j<n-1))or(j==0 and(i<n//2 and i>0))or(j==n-1 and(i>n//2 and i<n-1))or((i==1 and j==n-1)or(i==n-2 and(j==0))):\n",
    "            print('*',end='')\n",
    "        else:\n",
    "            print(' ',end='')\n",
    "    print()"
   ]
  },
  {
   "cell_type": "code",
   "execution_count": 124,
   "id": "aa9aa8d2",
   "metadata": {},
   "outputs": [
    {
     "name": "stdout",
     "output_type": "stream",
     "text": [
      "7\n",
      "7\n",
      "*******\n",
      "   *   \n",
      "   *   \n",
      "   *   \n",
      "   *   \n",
      "   *   \n",
      "   *   \n"
     ]
    }
   ],
   "source": [
    "def inop():\n",
    "    return int(input())\n",
    "m=inop()\n",
    "n=inop()\n",
    "'''a=[[int(input())for x in range(m)]for i in range(n)]'''\n",
    "for i in range(n):\n",
    "    for j in range(m):\n",
    "        if (i==0 or j==n//2):\n",
    "            print('*',end='')\n",
    "        else:\n",
    "            print(' ',end='')\n",
    "    print()"
   ]
  },
  {
   "cell_type": "code",
   "execution_count": 127,
   "id": "09101c48",
   "metadata": {},
   "outputs": [
    {
     "name": "stdout",
     "output_type": "stream",
     "text": [
      "7\n",
      "7\n",
      "*     *\n",
      " *   * \n",
      "  * *  \n",
      "   *   \n",
      "  * *  \n",
      " *   * \n",
      "*     *\n"
     ]
    }
   ],
   "source": [
    "def inop():\n",
    "    return int(input())\n",
    "m=inop()\n",
    "n=inop()\n",
    "'''a=[[int(input())for x in range(m)]for i in range(n)]'''\n",
    "for i in range(n):\n",
    "    for j in range(m):\n",
    "        if (i==j or (i+j==n-1)):\n",
    "            print('*',end='')\n",
    "        else:\n",
    "            print(' ',end='')\n",
    "    print()"
   ]
  },
  {
   "cell_type": "code",
   "execution_count": 132,
   "id": "22dbffa8",
   "metadata": {},
   "outputs": [
    {
     "name": "stdout",
     "output_type": "stream",
     "text": [
      "7\n",
      "7\n",
      "*     *\n",
      "*     *\n",
      "*     *\n",
      "*  *  *\n",
      "* * * *\n",
      "**   **\n",
      "*     *\n"
     ]
    }
   ],
   "source": [
    "def inop():\n",
    "    return int(input())\n",
    "m=inop()\n",
    "n=inop()\n",
    "'''a=[[int(input())for x in range(m)]for i in range(n)]'''\n",
    "for i in range(n):\n",
    "    for j in range(m):\n",
    "        if j==0 or j==n-1 or((i==j or (i+j==n-1))and(i>=n//2)):\n",
    "            print('*',end='')\n",
    "        else:\n",
    "            print(' ',end='')\n",
    "    print()"
   ]
  },
  {
   "cell_type": "code",
   "execution_count": 134,
   "id": "ab500b26",
   "metadata": {},
   "outputs": [
    {
     "name": "stdout",
     "output_type": "stream",
     "text": [
      "7\n",
      "7\n",
      "*     *\n",
      " *   * \n",
      "  * *  \n",
      "   *   \n",
      "   *   \n",
      "   *   \n",
      "   *   \n"
     ]
    }
   ],
   "source": [
    "def inop():\n",
    "    return int(input())\n",
    "m=inop()\n",
    "n=inop()\n",
    "'''a=[[int(input())for x in range(m)]for i in range(n)]'''\n",
    "for i in range(n):\n",
    "    for j in range(m):\n",
    "        if ((i==j or (i+j==n-1))and(i<=n//2))or(j==n//2 and i>=n//2):\n",
    "            print('*',end='')\n",
    "        else:\n",
    "            print(' ',end='')\n",
    "    print()"
   ]
  },
  {
   "cell_type": "code",
   "execution_count": 135,
   "id": "706f4ba5",
   "metadata": {},
   "outputs": [
    {
     "name": "stdout",
     "output_type": "stream",
     "text": [
      "7\n",
      "7\n",
      "*******\n",
      "     * \n",
      "    *  \n",
      "   *   \n",
      "  *    \n",
      " *     \n",
      "*******\n"
     ]
    }
   ],
   "source": [
    "def inop():\n",
    "    return int(input())\n",
    "m=inop()\n",
    "n=inop()\n",
    "'''a=[[int(input())for x in range(m)]for i in range(n)]'''\n",
    "for i in range(n):\n",
    "    for j in range(m):\n",
    "        if (i==0 or i==n-1 or(i+j==n-1)):\n",
    "            print('*',end='')\n",
    "        else:\n",
    "            print(' ',end='')\n",
    "    print()"
   ]
  }
 ],
 "metadata": {
  "kernelspec": {
   "display_name": "Python 3 (ipykernel)",
   "language": "python",
   "name": "python3"
  },
  "language_info": {
   "codemirror_mode": {
    "name": "ipython",
    "version": 3
   },
   "file_extension": ".py",
   "mimetype": "text/x-python",
   "name": "python",
   "nbconvert_exporter": "python",
   "pygments_lexer": "ipython3",
   "version": "3.9.12"
  }
 },
 "nbformat": 4,
 "nbformat_minor": 5
}
