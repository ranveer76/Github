{
 "cells": [
  {
   "cell_type": "markdown",
   "id": "2df7b27b",
   "metadata": {},
   "source": [
    "1) Add two matrix nxn"
   ]
  },
  {
   "cell_type": "code",
   "execution_count": 1,
   "id": "53ca195c",
   "metadata": {},
   "outputs": [
    {
     "name": "stdout",
     "output_type": "stream",
     "text": [
      "4\n",
      "3\n",
      "1 2 3\n",
      "2 3 4 \n",
      "3 4 5\n",
      "4 5 6\n",
      "\n",
      "2 3 4\n",
      "3 4 5\n",
      "4 5 6\n",
      "5 6 7\n",
      "\n",
      "3 5 7 \n",
      "5 7 9 \n",
      "7 9 11 \n",
      "9 11 13 \n"
     ]
    }
   ],
   "source": [
    "m=int(input())\n",
    "n=int(input())\n",
    "a=[[int(x) for x in input().split()]for j in range(m)]\n",
    "print()\n",
    "b=[[int(x) for x in input().split()]for j in range(m)]\n",
    "print()\n",
    "for i in range(m):\n",
    "    if (len(a[i]))!=n:\n",
    "        break\n",
    "    for j in range(n):\n",
    "        a[i][j]+=b[i][j]\n",
    "for i in range(m):\n",
    "    if (len(a[i]))!=n:\n",
    "        break\n",
    "    for j in range(n):\n",
    "        print(a[i][j],end=' ')\n",
    "    print()"
   ]
  },
  {
   "cell_type": "markdown",
   "id": "fa845386",
   "metadata": {},
   "source": [
    "2) Multiply two matrix"
   ]
  },
  {
   "cell_type": "code",
   "execution_count": 48,
   "id": "f35b315c",
   "metadata": {},
   "outputs": [
    {
     "name": "stdout",
     "output_type": "stream",
     "text": [
      "3\n",
      "3\n",
      "1 2 3\n",
      "2 3 4\n",
      "3 4 5\n",
      "\n",
      "3\n",
      "3\n",
      "3 4 5\n",
      "4 5 6\n",
      "5 6 7\n",
      "\n",
      "26 32 38 \n",
      "38 47 56 \n",
      "50 62 74 \n"
     ]
    }
   ],
   "source": [
    "n=int(input())\n",
    "m=int(input())\n",
    "a=[[int(x) for x in input().split()]for j in range(n)]\n",
    "print()\n",
    "r=int(input())\n",
    "c=int(input())\n",
    "b=[[int(x) for x in input().split()]for j in range(r)]\n",
    "print()\n",
    "if m==r:\n",
    "    matrix=[[0 for x in range(n)]for j in range(c)]\n",
    "    for i in range(n):\n",
    "        for j in range(c):\n",
    "            for y in range(r):\n",
    "                matrix[i][j]+=((a[i][y])*(b[y][j]))\n",
    "    for i in range(n):\n",
    "        for j in range(c):\n",
    "            print(matrix[i][j],end=' ')\n",
    "        print()"
   ]
  },
  {
   "cell_type": "markdown",
   "id": "6c79a3ff",
   "metadata": {},
   "source": [
    "3) sum of row"
   ]
  },
  {
   "cell_type": "code",
   "execution_count": 15,
   "id": "7123e524",
   "metadata": {},
   "outputs": [
    {
     "name": "stdout",
     "output_type": "stream",
     "text": [
      "3\n",
      "4\n",
      "2 11 7 12\n",
      "5 2 9 15\n",
      "8 3 10 42\n",
      "\n",
      "32\n",
      "31\n",
      "63\n"
     ]
    }
   ],
   "source": [
    "n=int(input())\n",
    "m=int(input())\n",
    "a=[[int(x) for x in input().split()]for j in range(n)]\n",
    "s=[]\n",
    "for i in range(n):\n",
    "    b=sum(a[i])\n",
    "    s.append(b)\n",
    "print()\n",
    "for i in s:\n",
    "    print(i)"
   ]
  },
  {
   "cell_type": "markdown",
   "id": "984ae14b",
   "metadata": {},
   "source": [
    "4) print 0 above diagonal of 1 and below it"
   ]
  },
  {
   "cell_type": "code",
   "execution_count": 1,
   "id": "226cdc85",
   "metadata": {},
   "outputs": [
    {
     "name": "stdout",
     "output_type": "stream",
     "text": [
      "5\n",
      "0 0 0 0 1 \n",
      "0 0 0 1 2 \n",
      "0 0 1 2 2 \n",
      "0 1 2 2 2 \n",
      "1 2 2 2 2 \n"
     ]
    }
   ],
   "source": [
    "n=int(input())\n",
    "l=[]\n",
    "for i in range(n):\n",
    "    a=[]\n",
    "    for j in range(n-i-1):\n",
    "        a.append(0)\n",
    "    for j in range(1):\n",
    "        a.append(1)\n",
    "    for j in range(i):\n",
    "        a.append(2)\n",
    "    l.append(a)\n",
    "for i in range(n):\n",
    "    for j in range(n):\n",
    "        print(l[i][j],end=' ')\n",
    "    print()"
   ]
  },
  {
   "cell_type": "markdown",
   "id": "68bc803c",
   "metadata": {},
   "source": [
    "5) swap columns"
   ]
  },
  {
   "cell_type": "code",
   "execution_count": 7,
   "id": "00972965",
   "metadata": {},
   "outputs": [
    {
     "name": "stdout",
     "output_type": "stream",
     "text": [
      "3 3\n",
      "1 2 3\n",
      "4 5 6\n",
      "7 8 9\n",
      "2 1\n",
      "1 3 2 \n",
      "4 6 5 \n",
      "7 9 8 \n"
     ]
    }
   ],
   "source": [
    "n=[int(x)for x in input().split()]\n",
    "a=[[int(x)for x in input().split()]for j in range(n[0])]\n",
    "m=[int(x)for x in input().split()]\n",
    "for i in range(n[0]):\n",
    "    a[i][m[0]],(a[i][m[1]])=a[i][m[1]],a[i][m[0]]\n",
    "for i in range(n[0]):\n",
    "    for j in range(n[1]):\n",
    "        print(a[i][j],end=' ')\n",
    "    print()"
   ]
  },
  {
   "cell_type": "markdown",
   "id": "71045a90",
   "metadata": {},
   "source": [
    "6) swap first element of string with last"
   ]
  },
  {
   "cell_type": "code",
   "execution_count": 40,
   "id": "d5f60f8f",
   "metadata": {},
   "outputs": [
    {
     "name": "stdout",
     "output_type": "stream",
     "text": [
      "HELLO\n",
      "OELLH\n"
     ]
    }
   ],
   "source": [
    "a=input()\n",
    "l=len(a)\n",
    "a=a[l-1]+a[1:l-1]+a[0]\n",
    "print(a)"
   ]
  },
  {
   "cell_type": "markdown",
   "id": "f6c29320",
   "metadata": {},
   "source": [
    "7) shift one position to left"
   ]
  },
  {
   "cell_type": "code",
   "execution_count": 39,
   "id": "ffc9525c",
   "metadata": {},
   "outputs": [
    {
     "name": "stdout",
     "output_type": "stream",
     "text": [
      "examination 2021\n",
      "xamination 2021e\n"
     ]
    }
   ],
   "source": [
    "a=input()\n",
    "a=a[1::]+a[0]\n",
    "print(a)"
   ]
  },
  {
   "cell_type": "markdown",
   "id": "33a29fc5",
   "metadata": {},
   "source": [
    "8) String in reverse"
   ]
  },
  {
   "cell_type": "code",
   "execution_count": 38,
   "id": "8ae1e224",
   "metadata": {},
   "outputs": [
    {
     "name": "stdout",
     "output_type": "stream",
     "text": [
      "EXAM\n",
      "MAXE\n"
     ]
    }
   ],
   "source": [
    "a=input()\n",
    "a=a[::-1]\n",
    "print(a)"
   ]
  },
  {
   "cell_type": "markdown",
   "id": "3a15de63",
   "metadata": {},
   "source": [
    "9) shift strings"
   ]
  },
  {
   "cell_type": "code",
   "execution_count": 37,
   "id": "9ae7088e",
   "metadata": {},
   "outputs": [
    {
     "name": "stdout",
     "output_type": "stream",
     "text": [
      "shift\n",
      "shift\n",
      "hifts\n",
      "iftsh\n",
      "ftshi\n",
      "tshif\n",
      "shift\n"
     ]
    }
   ],
   "source": [
    "n=input()\n",
    "l=len(n)\n",
    "for i in range(l+1):\n",
    "    print(n)\n",
    "    n=n[1:l:1]+n[0]"
   ]
  },
  {
   "cell_type": "markdown",
   "id": "322e4b01",
   "metadata": {},
   "source": [
    "10) Palindrome"
   ]
  },
  {
   "cell_type": "code",
   "execution_count": 35,
   "id": "61fcc572",
   "metadata": {},
   "outputs": [
    {
     "name": "stdout",
     "output_type": "stream",
     "text": [
      "ranveer\n",
      "ranveer is not palindrome.\n"
     ]
    }
   ],
   "source": [
    "a=input()\n",
    "b=a[::-1]\n",
    "if a==b:\n",
    "    print(a,'is palindrome.')\n",
    "else:\n",
    "    print(a,'is not palindrome.')"
   ]
  }
 ],
 "metadata": {
  "kernelspec": {
   "display_name": "Python 3 (ipykernel)",
   "language": "python",
   "name": "python3"
  },
  "language_info": {
   "codemirror_mode": {
    "name": "ipython",
    "version": 3
   },
   "file_extension": ".py",
   "mimetype": "text/x-python",
   "name": "python",
   "nbconvert_exporter": "python",
   "pygments_lexer": "ipython3",
   "version": "3.9.12"
  }
 },
 "nbformat": 4,
 "nbformat_minor": 5
}
