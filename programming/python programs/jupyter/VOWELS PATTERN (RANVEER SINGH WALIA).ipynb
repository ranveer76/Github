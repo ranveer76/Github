{
 "cells": [
  {
   "cell_type": "code",
   "execution_count": 5,
   "id": "2597ff98",
   "metadata": {
    "scrolled": true
   },
   "outputs": [
    {
     "name": "stdout",
     "output_type": "stream",
     "text": [
      "iou\n",
      "7\n",
      "   *   \n",
      "       \n",
      "****   \n",
      "   *   \n",
      "   *   \n",
      "   *   \n",
      "*******\n",
      "       \n",
      "       \n",
      "   *** \n",
      "  *   *\n",
      "  *   *\n",
      "  *   *\n",
      "   *** \n",
      "       \n",
      "       \n",
      "  *   *\n",
      "  *   *\n",
      "  *   *\n",
      "  *   *\n",
      "   *** \n"
     ]
    }
   ],
   "source": [
    "def I():\n",
    "    global x,j,K\n",
    "    if x==0 or j==K//2 or x==K-1:\n",
    "        print('*',end='')\n",
    "    else:\n",
    "        print(' ',end='')\n",
    "        \n",
    "def U():\n",
    "    if (x==K-1 or j==0 or j==K-1)and not(x==K-1 and(j==0 or j==K-1)):\n",
    "        print('*',end='')\n",
    "    else:\n",
    "        print(' ',end='')\n",
    "        \n",
    "def E():\n",
    "    if x==0 or x==K-1 or j==0 or x==K//2:\n",
    "        print('*',end='')\n",
    "    else:\n",
    "        print(' ',end='')\n",
    "        \n",
    "def A():\n",
    "    if (x==0 or j==0 or j==K-1 or x==K//2)and not(x==0 and (j==0 or j==K-1)):\n",
    "        print('*',end='')\n",
    "    else:\n",
    "        print(' ',end='')\n",
    "        \n",
    "def O():\n",
    "    if((x==0 or x==K-1 or j==0 or j==K-1))and not((x==0 or x==K-1)and(j==0 or j==K-1)):\n",
    "        print('*',end='')\n",
    "    else:\n",
    "        print(' ',end='')\n",
    "        \n",
    "def o():\n",
    "    if((x==(K//2)-1 or x==K-1 or j==(K//2)-1 or j==K-1))and not(((x==(K//2)-1 or x==K-1)and(j==(K//2)-1 or j==K-1))or((j<(K//2)-1)or(x<(K//2)-1))):\n",
    "        print('*',end='')\n",
    "    else:\n",
    "        print(' ',end='')\n",
    "def u():\n",
    "    if (x==K-1 or j==(K//2)-1 or j==K-1)and not((x==K-1 and(j==(K//2)-1 or j==K-1))or((x<(K//2)-1)or(j<(K//2)-1))):\n",
    "        print('*',end='')\n",
    "    else:\n",
    "        print(' ',end='')\n",
    "def X():\n",
    "        if ((x==K-1)or(j==K//2)or(x==2 and (j<=(K//2)))) and not(x==1):\n",
    "            print('*',end='')\n",
    "        else:\n",
    "            print(' ',end='')\n",
    "def e():\n",
    "        if (x==(K//2)-1 or x==K-1 or(j==K-1) or j==(K//2)-1 or x==((K//2)+(K//4)-1))and not((j<(K//2)-1)or ((x>(K//2)+(K//4)-1)and(j==K-1)) or(j==K-1 and(x==(K//2)-1))or(x<(K//2)-1)or((j==(K//2)-1)and(x==K-1 or x==(K//2)-1))):\n",
    "            print('*',end='')\n",
    "        else:\n",
    "            print(' ',end='')\n",
    "def a():\n",
    "        if (x==(K//2)-1 or (j==(K//2)-1)or x==K-1 or x==((K//2)+(K//4))-1 or j==K-1)and not(((x<=((K//2)+(K//4))-1)and(j==(K//2)-1))or(x<(K//2)-1)or(j<(K//2)-1)or((x==K-1 or(x==(K//2)-1))and((j==(K//2)-1)or(j==K-1)))):\n",
    "            print('*',end='')\n",
    "        else:\n",
    "            print(' ',end='')\n",
    "n=input()\n",
    "K=int(input())\n",
    "\n",
    "d={'I':I,'U':U,'O':O,'A':A,'E':E,'o':o,'u':u,'i':X,'e':e,'a':a}\n",
    "\n",
    "if K>=5:\n",
    "    if K%2==0:\n",
    "        K+=1\n",
    "        \n",
    "    for i in n:\n",
    "        if i in d:\n",
    "            \n",
    "            \n",
    "            for x in range(K):\n",
    "                for j in range(K):\n",
    "                    d[i]()\n",
    "                print()"
   ]
  },
  {
   "cell_type": "code",
   "execution_count": 38,
   "id": "1ce93bc8",
   "metadata": {},
   "outputs": [
    {
     "name": "stdout",
     "output_type": "stream",
     "text": [
      "ranveer\n",
      "r a n v e e r \n",
      "r a n v e e \n",
      "r a n v e \n",
      "r a n v \n",
      "r a n \n",
      "r a \n",
      "r \n"
     ]
    }
   ],
   "source": [
    "n=input()\n",
    "a=len(n)\n",
    "for i in range(a):\n",
    "    for j in range(a-i):\n",
    "        print(n[j],end=' ')\n",
    "    print()"
   ]
  }
 ],
 "metadata": {
  "kernelspec": {
   "display_name": "Python 3 (ipykernel)",
   "language": "python",
   "name": "python3"
  },
  "language_info": {
   "codemirror_mode": {
    "name": "ipython",
    "version": 3
   },
   "file_extension": ".py",
   "mimetype": "text/x-python",
   "name": "python",
   "nbconvert_exporter": "python",
   "pygments_lexer": "ipython3",
   "version": "3.9.12"
  }
 },
 "nbformat": 4,
 "nbformat_minor": 5
}
