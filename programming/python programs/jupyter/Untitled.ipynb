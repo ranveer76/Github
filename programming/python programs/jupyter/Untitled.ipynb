{
 "cells": [
  {
   "cell_type": "code",
   "execution_count": 2,
   "id": "5b368165",
   "metadata": {
    "scrolled": true
   },
   "outputs": [
    {
     "name": "stdout",
     "output_type": "stream",
     "text": [
      "list: 4 3 5 2 1 7 8 6 9 0\n",
      "for search enter: 1\n",
      "for sort enter: 2\n",
      "1\n",
      "you are Searching from List.\n",
      "no. you want to search: 9\n",
      "\n",
      "for binary search enter: 1\n",
      "for sequential search enter: 2\n",
      "\n",
      "1\n",
      "for bubble sort enter: 1\n",
      "for insertion enter: 2\n",
      "for selection enter: 3\n",
      "for merge sort enter: 4\n",
      "1\n",
      "\n",
      "Bubble Sorted list:\n",
      " [0, 1, 2, 3, 4, 5, 6, 7, 8, 9] \n",
      "\n",
      "\n",
      "9 is on index no. 9\n",
      "loop runned 4 times.\n"
     ]
    }
   ],
   "source": [
    "from searching import *\n",
    "from sorting import *\n",
    "\n",
    "def search(List):\n",
    "    \n",
    "    search=int(input('no. you want to search: '))\n",
    "    l1=[bn,lin]\n",
    "    print('\\nfor binary search enter: 1\\nfor sequential search enter: 2\\n')\n",
    "    x1=int(input())\n",
    "    a1=True\n",
    "    a1,a,t=l1[x1-1](List,search)\n",
    "    if a1 == True:\n",
    "        print(search,'is on index no.',a)\n",
    "        print('loop runned',t,'times.')\n",
    "    else:\n",
    "        print(str(search)+t,a)\n",
    "\n",
    "def sort(a):\n",
    "    l1=[bubblesort,insertionsort,selectionsort,m]\n",
    "    l2=['Bubble','Insertion','Selection','Merge']\n",
    "    t=1\n",
    "    \n",
    "    print('for bubble sort enter: 1\\n'+'for insertion enter: 2\\n'+'for selection enter: 3\\n'+'for merge sort enter: 4')\n",
    "    x1=int(input())#select sorting method\n",
    "    print()\n",
    "    a,t=l1[x1-1](a,t)\n",
    "    print(l2[x1-1],'Sorted list:\\n',a,'\\n')\n",
    "    print('loop runs',t,'times.')\n",
    "\n",
    "\n",
    "List=[int(x) for x in input('list: ').split()]\n",
    "pro=[search,sort]\n",
    "pr=['Searching from','Sorting']\n",
    "xc=int(input('for search enter: 1\\nfor sort enter: 2\\n'))\n",
    "print('you are',pr[xc-1],'List.')\n",
    "pro[xc-1](List)"
   ]
  },
  {
   "cell_type": "code",
   "execution_count": 22,
   "id": "baf315a9",
   "metadata": {},
   "outputs": [
    {
     "name": "stdout",
     "output_type": "stream",
     "text": [
      "9\n",
      "9 9 9 9 \n",
      "9 9 9 9 \n",
      "9 9 9 9 \n",
      "9 9 9 9 \n",
      "9 9 9 9 \n",
      "9 9 9 9 \n",
      "9 9 9 9 \n",
      "9 9 9 9 \n",
      "9 9 9 9 \n"
     ]
    }
   ],
   "source": [
    "global n\n",
    "def f():\n",
    "    return n\n",
    "def x():\n",
    "    return n//2\n",
    "\n",
    "n=int(input())\n",
    "\n",
    "z=f()\n",
    "k=x()\n",
    "if n%2==0:\n",
    "    z,k=k,z\n",
    "for i in range(z):\n",
    "    for j in range(k):\n",
    "        print(n,end=' ')\n",
    "    print()"
   ]
  }
 ],
 "metadata": {
  "kernelspec": {
   "display_name": "Python 3 (ipykernel)",
   "language": "python",
   "name": "python3"
  },
  "language_info": {
   "codemirror_mode": {
    "name": "ipython",
    "version": 3
   },
   "file_extension": ".py",
   "mimetype": "text/x-python",
   "name": "python",
   "nbconvert_exporter": "python",
   "pygments_lexer": "ipython3",
   "version": "3.9.12"
  }
 },
 "nbformat": 4,
 "nbformat_minor": 5
}
