{
 "cells": [
  {
   "cell_type": "code",
   "execution_count": 49,
   "id": "d4d5ac31",
   "metadata": {
    "scrolled": true
   },
   "outputs": [
    {
     "name": "stdout",
     "output_type": "stream",
     "text": [
      "111\n",
      "not prime\n"
     ]
    }
   ],
   "source": [
    "n=int(input())\n",
    "a=0\n",
    "for i in range(1,n+1):\n",
    "    if n%i==0:\n",
    "        a+=1\n",
    "if a==2:\n",
    "    print('prime')\n",
    "else:\n",
    "    print('not prime')"
   ]
  },
  {
   "cell_type": "code",
   "execution_count": 48,
   "id": "4eb75f6d",
   "metadata": {
    "scrolled": true
   },
   "outputs": [
    {
     "name": "stdout",
     "output_type": "stream",
     "text": [
      "1\n",
      "111\n",
      "1 2 3 5 7 11 13 17 19 23 29 31 37 41 43 47 53 59 61 67 71 73 79 83 89 97 101 103 107 109 "
     ]
    }
   ],
   "source": [
    "k=int(input())\n",
    "n=int(input())\n",
    "for i in range(k,n+1):\n",
    "    a=0\n",
    "    for j in range(1,i):\n",
    "        if i%j==0:\n",
    "            a+=1\n",
    "    \n",
    "    if a==1 or a==0:\n",
    "        print(i,end=' ')"
   ]
  },
  {
   "cell_type": "markdown",
   "id": "2ebf171a",
   "metadata": {},
   "source": [
    "Remove duplicate"
   ]
  },
  {
   "cell_type": "code",
   "execution_count": null,
   "id": "c6aadd8b",
   "metadata": {},
   "outputs": [],
   "source": [
    "n=[int(x) for x in input().split()]\n",
    "l=len(n)\n",
    "d=[]\n",
    "for i in range(l):\n",
    "    if n[i] not in d:\n",
    "        d.append(n[i])\n",
    "print(d)"
   ]
  }
 ],
 "metadata": {
  "kernelspec": {
   "display_name": "Python 3 (ipykernel)",
   "language": "python",
   "name": "python3"
  },
  "language_info": {
   "codemirror_mode": {
    "name": "ipython",
    "version": 3
   },
   "file_extension": ".py",
   "mimetype": "text/x-python",
   "name": "python",
   "nbconvert_exporter": "python",
   "pygments_lexer": "ipython3",
   "version": "3.9.12"
  }
 },
 "nbformat": 4,
 "nbformat_minor": 5
}
