{
 "cells": [
  {
   "cell_type": "code",
   "execution_count": 8,
   "id": "a4ec18b9",
   "metadata": {},
   "outputs": [
    {
     "name": "stdout",
     "output_type": "stream",
     "text": [
      "2\n",
      "2\n",
      "1 2\n",
      "2 3\n",
      "4\n",
      "[[1, 4], [2, 4]]\n"
     ]
    }
   ],
   "source": [
    "n=int(input())\n",
    "m=int(input())\n",
    "l=[(tuple(map(int,input().split())))for i in range(n)]\n",
    "a=int(input())\n",
    "for i in range(n):\n",
    "    x=list(l[i])\n",
    "    x[-1]=a\n",
    "    l[i]=x\n",
    "    \n",
    "print(l)"
   ]
  },
  {
   "cell_type": "code",
   "execution_count": 14,
   "id": "5d95ad73",
   "metadata": {},
   "outputs": [
    {
     "name": "stdout",
     "output_type": "stream",
     "text": [
      "2\n",
      "1 2\n",
      "3 4\n",
      "5\n",
      "[(1, 5), (3, 5)]\n"
     ]
    }
   ],
   "source": [
    "n=int(input())\n",
    "l=[(tuple(map(int,input().split())))for i in range(n)]\n",
    "ch= int(input())\n",
    "a=[x[: -1]+(ch,) for x in l]\n",
    "print(a)"
   ]
  },
  {
   "cell_type": "code",
   "execution_count": 27,
   "id": "7a3cd7cc",
   "metadata": {},
   "outputs": [
    {
     "name": "stdout",
     "output_type": "stream",
     "text": [
      "Red\n",
      "True\n",
      "Red in a[0][0]\n"
     ]
    }
   ],
   "source": [
    "a=(('Red','White','Blue'),('Green','Pink','Purple'),('Orange','Yellow','Lime'))\n",
    "n=input()\n",
    "for i in a:\n",
    "    z=True\n",
    "    if n in i:\n",
    "        x=i.index(n)\n",
    "        j=a.index(i)\n",
    "        break\n",
    "    else:\n",
    "        z=False\n",
    "print(z)\n",
    "if z:\n",
    "    print(n,'in a[{0}][{1}]'.format(j,x))\n"
   ]
  },
  {
   "cell_type": "code",
   "execution_count": 50,
   "id": "02bc5ddd",
   "metadata": {},
   "outputs": [
    {
     "name": "stdout",
     "output_type": "stream",
     "text": [
      "4\n",
      "1 2\n",
      "2 3 4 5\n",
      "2 3\n",
      "3 4 5\n",
      "[(1, 2), (2, 3), (3, 4, 5), (2, 3, 4, 5)]\n"
     ]
    }
   ],
   "source": [
    "n=int(input())\n",
    "a=[(tuple(map(int,input().split()))) for x in range(n)]\n",
    "for i in range(n):\n",
    "    for j in range(i,n):\n",
    "        if (len(a[i]))>(len(a[j])):\n",
    "            t=a[i]\n",
    "            a[i]=a[j]\n",
    "            a[j]=t\n",
    "print(a)"
   ]
  },
  {
   "cell_type": "code",
   "execution_count": 49,
   "id": "66336be6",
   "metadata": {},
   "outputs": [
    {
     "name": "stdout",
     "output_type": "stream",
     "text": [
      "[1, 1, 2, 2, 3, 3, 5]\n"
     ]
    }
   ],
   "source": [
    "n=[1,2,3,5,3,2,1]\n",
    "l=len(n)\n",
    "for i in range(l):\n",
    "    for j in range(i,l):\n",
    "        if n[i]>n[j]:\n",
    "            t=n[i]\n",
    "            n[i]=n[j]\n",
    "            n[j]=t\n",
    "print(n)"
   ]
  },
  {
   "cell_type": "code",
   "execution_count": 107,
   "id": "72919470",
   "metadata": {},
   "outputs": [
    {
     "name": "stdout",
     "output_type": "stream",
     "text": [
      "abc def bca\n",
      "abc def\n",
      "['abc', 'def', 'bca'] \n",
      " ['abc', 'def']\n",
      "{'abc', 'bca', 'def'} \n",
      " {'abc', 'def'}\n",
      "3 2\n"
     ]
    }
   ],
   "source": [
    "l=list(input().split())\n",
    "a=list(input().split())\n",
    "print(l,'\\n',a)\n",
    "l=set(l)\n",
    "a=set(a)\n",
    "print(l,'\\n',a)\n",
    "print(len(l),len(a))"
   ]
  },
  {
   "cell_type": "code",
   "execution_count": 104,
   "id": "f982fd26",
   "metadata": {},
   "outputs": [
    {
     "name": "stdout",
     "output_type": "stream",
     "text": [
      "chitkara university\n",
      "chitkara university is not heterogram.\n"
     ]
    }
   ],
   "source": [
    "a=input()\n",
    "l=list(a)\n",
    "if (len(set(l)))==len(a):\n",
    "    x='is'\n",
    "else:\n",
    "    x='is not'\n",
    "print(a,'{} heterogram.'.format(x))"
   ]
  }
 ],
 "metadata": {
  "kernelspec": {
   "display_name": "Python 3 (ipykernel)",
   "language": "python",
   "name": "python3"
  },
  "language_info": {
   "codemirror_mode": {
    "name": "ipython",
    "version": 3
   },
   "file_extension": ".py",
   "mimetype": "text/x-python",
   "name": "python",
   "nbconvert_exporter": "python",
   "pygments_lexer": "ipython3",
   "version": "3.9.12"
  }
 },
 "nbformat": 4,
 "nbformat_minor": 5
}
