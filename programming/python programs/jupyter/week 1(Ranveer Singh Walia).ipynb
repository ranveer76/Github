{
 "cells": [
  {
   "cell_type": "markdown",
   "id": "77f32900",
   "metadata": {},
   "source": [
    "Armstrong"
   ]
  },
  {
   "cell_type": "code",
   "execution_count": 91,
   "id": "186595e4",
   "metadata": {},
   "outputs": [
    {
     "name": "stdout",
     "output_type": "stream",
     "text": [
      "1634\n",
      "1634 is Armstrong.\n"
     ]
    }
   ],
   "source": [
    "n=int(input())\n",
    "arm=0\n",
    "a=n\n",
    "p=len(str(n))\n",
    "while a>0:\n",
    "    arm+=((a%10)**p)\n",
    "    a//=10\n",
    "if arm==n:\n",
    "    print(arm,'is Armstrong.')\n",
    "else:\n",
    "    print(n,'is not Armstrong.')"
   ]
  },
  {
   "cell_type": "markdown",
   "id": "97f53325",
   "metadata": {},
   "source": [
    "Print all prime number in interval"
   ]
  },
  {
   "cell_type": "code",
   "execution_count": 1,
   "id": "b08ad1ed",
   "metadata": {},
   "outputs": [
    {
     "name": "stdout",
     "output_type": "stream",
     "text": [
      "0\n",
      "9\n",
      "2  3  5  7  "
     ]
    }
   ],
   "source": [
    "k=int(input())\n",
    "n=int(input())\n",
    "for i in range(k,n+1):\n",
    "    j=1\n",
    "    a=1\n",
    "    while j<i:\n",
    "        if i%j==0:\n",
    "            a+=1\n",
    "        j+=1\n",
    "    if a==2:\n",
    "        print(i,end='  ')"
   ]
  },
  {
   "cell_type": "code",
   "execution_count": 16,
   "id": "2320271d",
   "metadata": {},
   "outputs": [
    {
     "name": "stdout",
     "output_type": "stream",
     "text": [
      "1234567890\n",
      "2\n",
      "3\n",
      "5\n",
      "7\n"
     ]
    }
   ],
   "source": [
    "n=(input())\n",
    "for i in n:\n",
    "    a=1\n",
    "    for j in range(1,(int(i))):\n",
    "        if int(i)%j==0:\n",
    "            a+=1\n",
    "    if a==2:\n",
    "        print(i)"
   ]
  },
  {
   "cell_type": "markdown",
   "id": "1a2e29de",
   "metadata": {},
   "source": [
    "Check number is fabonacci"
   ]
  },
  {
   "cell_type": "code",
   "execution_count": 96,
   "id": "f3ea6f34",
   "metadata": {},
   "outputs": [
    {
     "name": "stdout",
     "output_type": "stream",
     "text": [
      "4\n",
      "4 is not fabonacci\n"
     ]
    }
   ],
   "source": [
    "n=int(input())\n",
    "r1=5*(n*n)+4\n",
    "r2=5*(n*n)-4\n",
    "a=int(r1**0.5)\n",
    "b=(r2**0.5)\n",
    "if a*a==r1 or b*b==r2:\n",
    "    print(n,'is fabonacci')\n",
    "else:\n",
    "    print(n,'is not fabonacci')"
   ]
  },
  {
   "cell_type": "markdown",
   "id": "e0ac628f",
   "metadata": {},
   "source": [
    "Cube sum of n natural numbers"
   ]
  },
  {
   "cell_type": "code",
   "execution_count": 5,
   "id": "2707e4c7",
   "metadata": {
    "scrolled": true
   },
   "outputs": [
    {
     "name": "stdout",
     "output_type": "stream",
     "text": [
      "3\n",
      "36\n"
     ]
    }
   ],
   "source": [
    "n=int(input())\n",
    "s=0\n",
    "for i in range(1,n+1):\n",
    "    s+=(i**3)\n",
    "print(s)"
   ]
  },
  {
   "cell_type": "markdown",
   "id": "3acd2d23",
   "metadata": {},
   "source": [
    "All odd numbers in range"
   ]
  },
  {
   "cell_type": "code",
   "execution_count": 102,
   "id": "4b7bc738",
   "metadata": {},
   "outputs": [
    {
     "name": "stdout",
     "output_type": "stream",
     "text": [
      "19\n",
      "1 3 5 7 9 11 13 15 17 19 "
     ]
    }
   ],
   "source": [
    "n=int(input())\n",
    "for i in range(1,n+1,2):\n",
    "    print(i,end=' ')"
   ]
  },
  {
   "cell_type": "markdown",
   "id": "1d00c1b3",
   "metadata": {},
   "source": [
    "Interchange first and last element in a list"
   ]
  },
  {
   "cell_type": "code",
   "execution_count": 99,
   "id": "5d8ab347",
   "metadata": {
    "scrolled": true
   },
   "outputs": [
    {
     "name": "stdout",
     "output_type": "stream",
     "text": [
      "1 2 3 4\n",
      "[4, 2, 3, 1]\n"
     ]
    }
   ],
   "source": [
    "n=[int(x) for x in input().split()]\n",
    "l=len(n)\n",
    "n[0],n[l-1]=n[l-1],n[0]\n",
    "print(n)"
   ]
  },
  {
   "cell_type": "markdown",
   "id": "91431aee",
   "metadata": {},
   "source": [
    "Check if a is in list"
   ]
  },
  {
   "cell_type": "code",
   "execution_count": 42,
   "id": "7e006ee3",
   "metadata": {},
   "outputs": [
    {
     "name": "stdout",
     "output_type": "stream",
     "text": [
      "1 2 3 4\n",
      "2\n",
      "2 is in list\n"
     ]
    }
   ],
   "source": [
    "n=[int(x) for x in input().split()]\n",
    "a=int(input())\n",
    "if a in n:\n",
    "    print(a,'is in list')\n",
    "else:\n",
    "    print(a,'is not in list')"
   ]
  },
  {
   "cell_type": "markdown",
   "id": "aa5b697c",
   "metadata": {},
   "source": [
    "Sum of numbers in list"
   ]
  },
  {
   "cell_type": "code",
   "execution_count": 48,
   "id": "cddf50d9",
   "metadata": {},
   "outputs": [
    {
     "name": "stdout",
     "output_type": "stream",
     "text": [
      "1 2 3 4  5\n",
      "15\n"
     ]
    }
   ],
   "source": [
    "n=[int(x) for x in input().split()]\n",
    "print(sum(n))"
   ]
  },
  {
   "cell_type": "markdown",
   "id": "fa0c83c1",
   "metadata": {},
   "source": [
    "Second largest in list"
   ]
  },
  {
   "cell_type": "code",
   "execution_count": 6,
   "id": "aa814555",
   "metadata": {},
   "outputs": [
    {
     "name": "stdout",
     "output_type": "stream",
     "text": [
      "12 2 4 5 6\n",
      "6\n"
     ]
    }
   ],
   "source": [
    "d=[int(x) for x in input().split()]\n",
    "n=d\n",
    "n[(n.index(max(n)))]=-1\n",
    "a=n[(n.index(max(n)))]\n",
    "print(a)"
   ]
  },
  {
   "cell_type": "markdown",
   "id": "64b708e7",
   "metadata": {},
   "source": [
    "Print duplicate from list"
   ]
  },
  {
   "cell_type": "code",
   "execution_count": 4,
   "id": "d72f00fa",
   "metadata": {},
   "outputs": [
    {
     "name": "stdout",
     "output_type": "stream",
     "text": [
      "1 2 3 4 1 2 3 4 1 2 3 4 1 2 3 4\n",
      "\n",
      "1 1 1 2 2 2 3 3 3 4 4 4 "
     ]
    }
   ],
   "source": [
    "n=[int(x) for x in input().split()]\n",
    "l=len(n)\n",
    "d=[]\n",
    "j=[]\n",
    "for i in range(l):\n",
    "    if (n.count(n[i]))>1 and n[i] not in d:\n",
    "        d.append(n[i])\n",
    "        j.append(n.count(n[i]))\n",
    "print()\n",
    "J=len(j)\n",
    "D=len(d)\n",
    "for i in range(J):\n",
    "    for x in range((j[i])-1):\n",
    "        print(d[i],end=' ')"
   ]
  },
  {
   "cell_type": "code",
   "execution_count": 17,
   "id": "45e0260c",
   "metadata": {},
   "outputs": [
    {
     "name": "stdout",
     "output_type": "stream",
     "text": [
      "4\n",
      "5 7 5\n",
      "6 12 5\n",
      "5 34 12\n",
      "6 4 9\n",
      "10\n",
      "18\n",
      "15\n",
      "6\n"
     ]
    }
   ],
   "source": []
  }
 ],
 "metadata": {
  "kernelspec": {
   "display_name": "Python 3 (ipykernel)",
   "language": "python",
   "name": "python3"
  },
  "language_info": {
   "codemirror_mode": {
    "name": "ipython",
    "version": 3
   },
   "file_extension": ".py",
   "mimetype": "text/x-python",
   "name": "python",
   "nbconvert_exporter": "python",
   "pygments_lexer": "ipython3",
   "version": "3.9.12"
  }
 },
 "nbformat": 4,
 "nbformat_minor": 5
}
