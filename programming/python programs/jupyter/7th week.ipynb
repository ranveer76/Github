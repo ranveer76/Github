{
 "cells": [
  {
   "cell_type": "code",
   "execution_count": 246,
   "id": "a086cb66",
   "metadata": {},
   "outputs": [
    {
     "name": "stdout",
     "output_type": "stream",
     "text": [
      "8\n",
      "[61, 32, 41, 5, 6, 90, 33, 99]\n",
      "[5, 6, 32, 33, 41, 61, 90, 99] \n",
      "11\n"
     ]
    }
   ],
   "source": [
    "import random\n",
    "\n",
    "k = 0\n",
    "\n",
    "c = random.randint(5, 20)\n",
    "x = random.randint(20, 150)\n",
    "a = range(x)\n",
    "n = random.sample(a, c)\n",
    "print(c)\n",
    "print(n)\n",
    "\n",
    "for i in range(c):\n",
    "    for j in range(i+1, c):\n",
    "        if n[i] > n[j]:\n",
    "            t = n[i]\n",
    "            n[i] = n[j]\n",
    "            n[j] = t\n",
    "            k += 1\n",
    "print(n, '\\n'+str(k))\n"
   ]
  },
  {
   "cell_type": "code",
   "execution_count": 200,
   "id": "a9ec747c",
   "metadata": {},
   "outputs": [
    {
     "name": "stdout",
     "output_type": "stream",
     "text": [
      "8\n"
     ]
    }
   ],
   "source": [
    "import random\n",
    "c = random.randint(0, 10)\n",
    "print(c)\n"
   ]
  },
  {
   "cell_type": "code",
   "execution_count": 222,
   "id": "d5145529",
   "metadata": {},
   "outputs": [
    {
     "name": "stdout",
     "output_type": "stream",
     "text": [
      "17\n",
      "[2, 3, 23, 25, 33, 35, 48, 79, 84, 85, 89, 90, 91, 92, 97, 99, 100]\n",
      "99\n",
      "15\n",
      "3\n"
     ]
    }
   ],
   "source": [
    "import random\n",
    "\n",
    "c = random.randint(5, 20)\n",
    "x = random.randint(20, 150)\n",
    "a = range(x)\n",
    "n = random.sample(a, c)\n",
    "n.sort()\n",
    "p = random.choice(n)\n",
    "t = lo = 0\n",
    "print(c)\n",
    "print(n)\n",
    "print(p)\n",
    "\n",
    "while lo < c:\n",
    "    mi = (lo+c)//2\n",
    "    if n[mi] == p:\n",
    "        print(mi)\n",
    "        break\n",
    "    elif n[mi] > p:\n",
    "        c = mi\n",
    "    elif n[mi] < p:\n",
    "        lo = mi\n",
    "    t += 1\n",
    "print(t)\n"
   ]
  },
  {
   "cell_type": "code",
   "execution_count": 27,
   "id": "74f9c723",
   "metadata": {},
   "outputs": [
    {
     "name": "stdout",
     "output_type": "stream",
     "text": [
      "27 34 46 57 64\n",
      "[27, 34, 46, 57, 64]\n",
      "64\n",
      "4\n",
      "3\n"
     ]
    }
   ],
   "source": [
    "a = list(map(int, input().split()))\n",
    "t = 1\n",
    "a.sort()\n",
    "print(a)\n",
    "x = int(input())\n",
    "low = 0\n",
    "upp = len(a)\n",
    "if x in a:\n",
    "    while low < upp:\n",
    "        mid = (low+upp)//2\n",
    "        if a[mid] == x:\n",
    "            print(mid)\n",
    "            break\n",
    "        elif a[mid] > x:\n",
    "            upp = mid\n",
    "        elif a[mid] < x:\n",
    "            low = mid\n",
    "        t += 1\n",
    "else:\n",
    "    print(x, 'is not in', a)\n",
    "print(t)\n"
   ]
  },
  {
   "cell_type": "code",
   "execution_count": 26,
   "id": "c838db69",
   "metadata": {},
   "outputs": [
    {
     "name": "stdout",
     "output_type": "stream",
     "text": [
      "27 34 46 57 64\n",
      "[27, 34, 46, 57, 64]\n",
      "64\n",
      "4\n",
      "5\n"
     ]
    }
   ],
   "source": [
    "a = list(map(int, input().split()))\n",
    "t = 1\n",
    "print(a)\n",
    "x = int(input())\n",
    "\n",
    "upp = len(a)\n",
    "\n",
    "if x not in a:\n",
    "    print(x, 'is not in', a)\n",
    "else:\n",
    "    for i in a:\n",
    "        if i == x:\n",
    "            print(a.index(i))\n",
    "            break\n",
    "        t += 1\n",
    "print(t)\n"
   ]
  },
  {
   "cell_type": "code",
   "execution_count": 709,
   "id": "8c555d4e",
   "metadata": {},
   "outputs": [
    {
     "name": "stdout",
     "output_type": "stream",
     "text": [
      "0.8444218515250481\n"
     ]
    }
   ],
   "source": [
    "import random\n",
    "print(random.Random(0).random())\n"
   ]
  },
  {
   "cell_type": "code",
   "execution_count": 501,
   "id": "6af23b6b",
   "metadata": {},
   "outputs": [
    {
     "name": "stdout",
     "output_type": "stream",
     "text": [
      "enter range of element150\n",
      "no. of elements in list12\n",
      "no. of elements you wnt to select2\n",
      "[146, 23, 132, 19, 109, 52, 74, 137, 106, 123, 99, 59]\n",
      "[146, 99]\n"
     ]
    }
   ],
   "source": [
    "import random\n",
    "x = int(input('enter range of element:\\n'))\n",
    "a = range(x)\n",
    "c = int(input('no. of elements in list:\\n'))\n",
    "c1 = int(input('no. of elements you wnt to select:\\n'))\n",
    "n = random.sample(a, c)\n",
    "print(n)\n",
    "r = random.sample(n, c1)\n",
    "print(r)\n"
   ]
  },
  {
   "cell_type": "code",
   "execution_count": 417,
   "id": "b7417d95",
   "metadata": {},
   "outputs": [
    {
     "name": "stdout",
     "output_type": "stream",
     "text": [
      "0.5275731301676146\n"
     ]
    }
   ],
   "source": [
    "import random\n",
    "r = random.uniform(0, 1)\n",
    "print(r)\n"
   ]
  },
  {
   "cell_type": "code",
   "execution_count": 829,
   "id": "0a5c81fe",
   "metadata": {},
   "outputs": [
    {
     "name": "stdout",
     "output_type": "stream",
     "text": [
      "0 7 3\n"
     ]
    }
   ],
   "source": [
    "import random\n",
    "r = random.randrange(0, 6)\n",
    "r1 = random.randrange(5, 10)\n",
    "r2 = random.randrange(0, 10, 3)\n",
    "print(r, r1, r2)\n"
   ]
  },
  {
   "cell_type": "code",
   "execution_count": 856,
   "id": "5fe79d1c",
   "metadata": {},
   "outputs": [
    {
     "name": "stdout",
     "output_type": "stream",
     "text": [
      "2022-02-22\n"
     ]
    }
   ],
   "source": [
    "import random\n",
    "import datetime\n",
    "s = datetime.date(2022, 2, 3)\n",
    "d = datetime.date(2022, 3, 3)\n",
    "t = d-s\n",
    "d1 = t.days\n",
    "r = random.randrange(d1)\n",
    "ra = s+datetime.timedelta(days=r)\n",
    "print(ra)\n"
   ]
  },
  {
   "cell_type": "code",
   "execution_count": 887,
   "id": "16a9d2f6",
   "metadata": {},
   "outputs": [
    {
     "name": "stdout",
     "output_type": "stream",
     "text": [
      "cebc18\n"
     ]
    }
   ],
   "source": [
    "import random\n",
    "c = '%06x' % random.randint(0, 0xFFFFFF)\n",
    "print(c)\n"
   ]
  },
  {
   "cell_type": "code",
   "execution_count": null,
   "id": "10fc05fe",
   "metadata": {},
   "outputs": [],
   "source": [
    "import random\n",
    "a = '123456789sdfghjkbvcxzdfuyuktyterew'\n"
   ]
  }
 ],
 "metadata": {
  "kernelspec": {
   "display_name": "Python 3 (ipykernel)",
   "language": "python",
   "name": "python3"
  },
  "language_info": {
   "codemirror_mode": {
    "name": "ipython",
    "version": 3
   },
   "file_extension": ".py",
   "mimetype": "text/x-python",
   "name": "python",
   "nbconvert_exporter": "python",
   "pygments_lexer": "ipython3",
   "version": "3.9.12"
  }
 },
 "nbformat": 4,
 "nbformat_minor": 5
}
