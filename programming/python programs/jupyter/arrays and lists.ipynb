{
 "cells": [
  {
   "cell_type": "markdown",
   "id": "20750904",
   "metadata": {},
   "source": [
    "Array Sum"
   ]
  },
  {
   "cell_type": "code",
   "execution_count": null,
   "id": "61dbbc0c",
   "metadata": {},
   "outputs": [],
   "source": [
    "n=int(input())\n",
    "a=[int(x) for x in input().split()]\n",
    "print(sum(a))"
   ]
  },
  {
   "cell_type": "markdown",
   "id": "4b191fb8",
   "metadata": {},
   "source": [
    "Swap Alternate"
   ]
  },
  {
   "cell_type": "code",
   "execution_count": null,
   "id": "9f579e5e",
   "metadata": {},
   "outputs": [],
   "source": [
    "t=int(input())\n",
    "for i in range(t):\n",
    "    n=int(input())\n",
    "    if 0<n<=10**5:\n",
    "        a=[int(x) for x in input().split()]\n",
    "        for i in range(n):\n",
    "            if i%2==0:\n",
    "                b=a[i]\n",
    "                if i<n-1:\n",
    "                    a[i]=a[i+1]\n",
    "                    a[i+1]=b\n",
    "        for i in a:\n",
    "            print(i,end=' ')\n",
    "        print()"
   ]
  },
  {
   "cell_type": "markdown",
   "id": "64330e9c",
   "metadata": {},
   "source": [
    "Find Unique"
   ]
  },
  {
   "cell_type": "code",
   "execution_count": null,
   "id": "5c2a09ad",
   "metadata": {},
   "outputs": [],
   "source": [
    "t=int(input())\n",
    "for i in range(t):\n",
    "    n=int(input())\n",
    "    if 0<n:\n",
    "        a=[int(x) for x in input().split()]\n",
    "        for i in a:\n",
    "            b=0\n",
    "            for j in a:\n",
    "                if i==j:\n",
    "                    b+=1\n",
    "            if b==1:\n",
    "                c=i\n",
    "                break\n",
    "        print(c)"
   ]
  },
  {
   "cell_type": "markdown",
   "id": "8b902be9",
   "metadata": {},
   "source": [
    "Find Duplicate"
   ]
  },
  {
   "cell_type": "code",
   "execution_count": null,
   "id": "7ccb92cb",
   "metadata": {},
   "outputs": [],
   "source": [
    "t=int(input())\n",
    "for i in range(t):\n",
    "    n=int(input())\n",
    "    if 0<n:\n",
    "        a=[int(x) for x in input().split()]\n",
    "        for i in a:\n",
    "            b=0\n",
    "            for j in a:\n",
    "                if i==j:\n",
    "                    b+=1\n",
    "            if b>1:\n",
    "                c=i\n",
    "                break\n",
    "        print(c) "
   ]
  },
  {
   "cell_type": "markdown",
   "id": "818a8f7e",
   "metadata": {},
   "source": [
    "Intersection of Two Arrays II"
   ]
  },
  {
   "cell_type": "code",
   "execution_count": null,
   "id": "116442af",
   "metadata": {},
   "outputs": [],
   "source": [
    "t=int(input())\n",
    "for i in range(t):\n",
    "    n=int(input())\n",
    "    if 0<n:\n",
    "        a=[int(x) for x in input().split()]\n",
    "    m=int(input())\n",
    "    if 0<m:\n",
    "        b=[int(x) for x in input().split()]\n",
    "        l=len(b)\n",
    "    if 0<n and 0<m:\n",
    "        for i in a:\n",
    "            for j in range(l):\n",
    "                if i==b[j]:\n",
    "                    b[j]=b[j]*(-1)\n",
    "                    print(i,end=' ')\n",
    "                    break\n",
    "        print()"
   ]
  },
  {
   "cell_type": "markdown",
   "id": "c52c1fb3",
   "metadata": {},
   "source": [
    "Pair Sum"
   ]
  },
  {
   "cell_type": "code",
   "execution_count": null,
   "id": "7ecf97e9",
   "metadata": {},
   "outputs": [],
   "source": [
    "from sys import stdin\n",
    "def pairSum(arr, n, x) :\n",
    "    s=0\n",
    "    for i in range(n-1):\n",
    "        for j in range(i+1,n):\n",
    "            if arr[i]+arr[j]==x:\n",
    "                s+=1\n",
    "    return int(s)\n",
    "\n",
    "def takeInput() :\n",
    "    n = int(stdin.readline().strip())\n",
    "    if n == 0:\n",
    "        return list(), 0\n",
    "\n",
    "    arr = list(map(int, stdin.readline().strip().split(\" \")))\n",
    "    return arr, n\n",
    "\n",
    "t = int(stdin.readline().strip())\n",
    "while t > 0 :\n",
    "    arr, n = takeInput()\n",
    "    x = int(stdin.readline().strip())\n",
    "    print(pairSum(arr, n, x))\n",
    "    t -= 1"
   ]
  },
  {
   "cell_type": "markdown",
   "id": "3d929a2a",
   "metadata": {},
   "source": [
    "Triplet Sum"
   ]
  },
  {
   "cell_type": "code",
   "execution_count": null,
   "id": "2281bb20",
   "metadata": {},
   "outputs": [],
   "source": [
    "from sys import stdin\n",
    "def findTriplet(arr, n, x) :\n",
    "    s=0\n",
    "    for i in range(n-2):\n",
    "        for j in range(i+1,n-1):\n",
    "            for l in range(j+1,n):\n",
    "                if arr[i]+arr[j]+arr[l]==x:\n",
    "                    s+=1\n",
    "    return int(s)\n",
    "    \n",
    "#Taking Input Using Fast I/O\n",
    "def takeInput() :\n",
    "    n = int(stdin.readline().strip())\n",
    "\n",
    "    if n == 0 :\n",
    "        return list(), 0\n",
    "\n",
    "    arr = list(map(int, stdin.readline().strip().split(\" \")))\n",
    "    return arr, n\n",
    "\n",
    "\n",
    "\n",
    "#main\n",
    "t = int(stdin.readline().strip())\n",
    "\n",
    "while t > 0 :\n",
    "\n",
    "    arr, n = takeInput()\n",
    "    x = int(stdin.readline().strip())\n",
    "    print(findTriplet(arr, n, x))\n",
    "    t -= 1"
   ]
  },
  {
   "cell_type": "markdown",
   "id": "df8ede03",
   "metadata": {},
   "source": [
    "Sort 0 1"
   ]
  },
  {
   "cell_type": "code",
   "execution_count": null,
   "id": "53ababc6",
   "metadata": {},
   "outputs": [],
   "source": [
    "from sys import stdin\n",
    "\n",
    "def sortZeroesAndOne(arr, n) :\n",
    "    #Your code goes here \n",
    "    s=0\n",
    "    a=0\n",
    "    for i in range(n):\n",
    "        if arr[i]==0:\n",
    "            s+=1\n",
    "        else:\n",
    "            a+=1\n",
    "    for i in range(s):\n",
    "        arr[i]=0\n",
    "    for i in range(s,n):\n",
    "        arr[i]=1\n",
    "    return arr\n",
    "#Taking Input Using Fast I/O\n",
    "def takeInput() :\n",
    "    n = int(stdin.readline().strip())\n",
    "    if n == 0 :\n",
    "        return list(), 0\n",
    "    arr = list(map(int, stdin.readline().strip().split(\" \")))\n",
    "    return arr, n\n",
    "def printList(arr, n) :\n",
    "    for i in range(n) :\n",
    "        print(arr[i], end = ' ')\n",
    "    print()\n",
    "#main\n",
    "t = int(stdin.readline().strip())\n",
    "while t > 0 :\n",
    "    arr, n = takeInput()\n",
    "    sortZeroesAndOne(arr, n)\n",
    "    printList(arr, n)\n",
    "    print()\n",
    "    t -= 1"
   ]
  }
 ],
 "metadata": {
  "kernelspec": {
   "display_name": "Python 3 (ipykernel)",
   "language": "python",
   "name": "python3"
  },
  "language_info": {
   "codemirror_mode": {
    "name": "ipython",
    "version": 3
   },
   "file_extension": ".py",
   "mimetype": "text/x-python",
   "name": "python",
   "nbconvert_exporter": "python",
   "pygments_lexer": "ipython3",
   "version": "3.9.12"
  }
 },
 "nbformat": 4,
 "nbformat_minor": 5
}
