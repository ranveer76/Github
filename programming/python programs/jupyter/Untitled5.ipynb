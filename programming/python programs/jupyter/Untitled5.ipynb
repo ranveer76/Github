{
 "cells": [
  {
   "cell_type": "code",
   "execution_count": 7,
   "id": "0b96610e",
   "metadata": {},
   "outputs": [
    {
     "name": "stdout",
     "output_type": "stream",
     "text": [
      "11\n",
      "abnormal creature\n"
     ]
    }
   ],
   "source": [
    "n=int(input())\n",
    "if n<150 and n>100:\n",
    "    print('dwarf')\n",
    "elif n>=150 and n<165:\n",
    "    print('average height')\n",
    "elif n>165:\n",
    "    print('tall')\n",
    "else:\n",
    "    print('abnormal creature')"
   ]
  },
  {
   "cell_type": "code",
   "execution_count": 27,
   "id": "80725baf",
   "metadata": {},
   "outputs": [
    {
     "name": "stdout",
     "output_type": "stream",
     "text": [
      "5\n",
      "15\n"
     ]
    }
   ],
   "source": [
    "n=int(input())\n",
    "s=0\n",
    "for i in range(1,n+1):\n",
    "    s+=i\n",
    "print(s)"
   ]
  },
  {
   "cell_type": "code",
   "execution_count": 32,
   "id": "0f7ba21e",
   "metadata": {},
   "outputs": [
    {
     "data": {
      "text/plain": [
       "1000"
      ]
     },
     "execution_count": 32,
     "metadata": {},
     "output_type": "execute_result"
    }
   ],
   "source": [
    "10**3"
   ]
  }
 ],
 "metadata": {
  "kernelspec": {
   "display_name": "Python 3 (ipykernel)",
   "language": "python",
   "name": "python3"
  },
  "language_info": {
   "codemirror_mode": {
    "name": "ipython",
    "version": 3
   },
   "file_extension": ".py",
   "mimetype": "text/x-python",
   "name": "python",
   "nbconvert_exporter": "python",
   "pygments_lexer": "ipython3",
   "version": "3.9.12"
  }
 },
 "nbformat": 4,
 "nbformat_minor": 5
}
