{
 "cells": [
  {
   "cell_type": "code",
   "execution_count": 19,
   "id": "e95bb1fe",
   "metadata": {},
   "outputs": [
    {
     "name": "stdout",
     "output_type": "stream",
     "text": [
      "[1, 2, 3, 4, 5, 2, 3, 4, 5, 6]\n"
     ]
    }
   ],
   "source": [
    "a=[1,2,3,4,5]\n",
    "b=[2,3,4,5,6]\n",
    "a+=b\n",
    "print(a)"
   ]
  },
  {
   "cell_type": "code",
   "execution_count": 23,
   "id": "86977515",
   "metadata": {},
   "outputs": [
    {
     "name": "stdout",
     "output_type": "stream",
     "text": [
      "1 0 0 2 3 2 4 4 5 6 8 7 90\n",
      "[0, 0, 1, '2', 2, 3, '4', '4', '5', '6', 7, 8, '90']\n"
     ]
    }
   ],
   "source": [
    "arr=input().split()\n",
    "l=len(arr)\n",
    "for i in range(l):\n",
    "    for j in range(i+1,l):\n",
    "        if int(arr[i])>int(arr[j]):\n",
    "            temp=int(arr[i])\n",
    "            arr[i]=int(arr[j])\n",
    "            arr[j]=int(temp)\n",
    "print(arr)"
   ]
  },
  {
   "cell_type": "code",
   "execution_count": 14,
   "id": "00b53e77",
   "metadata": {},
   "outputs": [
    {
     "name": "stdout",
     "output_type": "stream",
     "text": [
      "1\n",
      "4\n",
      "6 7 9 0\n",
      "3\n",
      "6 5 7\n",
      "7 4 4 7 "
     ]
    }
   ],
   "source": [
    "t=int(input())\n",
    "if t>0:\n",
    "    for i in range(t):\n",
    "        n=int(input())\n",
    "        if n>0:\n",
    "            arr=input().split()\n",
    "            m=int(input())\n",
    "            if m>0:\n",
    "                arr2=input().split()\n",
    "                j=''\n",
    "                for i in range(n):\n",
    "                    j+=arr[i]\n",
    "                l=''\n",
    "                for i in range(m):\n",
    "                    l+=arr2[i]\n",
    "                c=int(l)+int(j)\n",
    "                c=str(c)\n",
    "                if n>m:\n",
    "                    x=c\n",
    "                    c='0'+x\n",
    "                    s=n\n",
    "                else:\n",
    "                    s=m\n",
    "                for i in range(s):\n",
    "                    print(c[i],end=' ')"
   ]
  },
  {
   "cell_type": "code",
   "execution_count": 8,
   "id": "bdb00587",
   "metadata": {},
   "outputs": [
    {
     "name": "stdout",
     "output_type": "stream",
     "text": [
      "3 5\n",
      "[0, 0, 0, 1, 1, 1, 1, 1]\n"
     ]
    }
   ],
   "source": [
    "arr=[1,1,1,0,0,1,0,1]\n",
    "n=len(arr)\n",
    "s=0\n",
    "a=0\n",
    "for i in range(n):\n",
    "    if arr[i]==0:\n",
    "        s+=1\n",
    "    else:\n",
    "        a+=1\n",
    "print(s,a)\n",
    "for i in range(s):\n",
    "    arr[i]=0\n",
    "for i in range(s,n):\n",
    "    arr[i]=1\n",
    "print(arr)"
   ]
  },
  {
   "cell_type": "code",
   "execution_count": 16,
   "id": "d3a1472c",
   "metadata": {},
   "outputs": [
    {
     "name": "stdout",
     "output_type": "stream",
     "text": [
      "5\n",
      "1\n",
      "11\n",
      "121\n",
      "1221\n",
      "12221\n"
     ]
    }
   ],
   "source": [
    "n=int(input())\n",
    "r=0\n",
    "while r<=n-1:\n",
    "    col=1\n",
    "    while col<=r+1:\n",
    "        if(col==1 or col>=r+1):\n",
    "            print(1,end='')\n",
    "        else:\n",
    "            print(2,end='')\n",
    "        col+=1\n",
    "    print()\n",
    "    r+=1"
   ]
  },
  {
   "cell_type": "code",
   "execution_count": 27,
   "id": "8eca463e",
   "metadata": {},
   "outputs": [
    {
     "name": "stdout",
     "output_type": "stream",
     "text": [
      "5\n",
      "*0000*0000*\n",
      "0*000*000*0\n",
      "00*00*00*00\n",
      "000*0*0*000\n",
      "0000***0000\n"
     ]
    }
   ],
   "source": [
    "def f(i,j,n):\n",
    "    for J in range(i):\n",
    "        print(0,end='')\n",
    "def d(i,j,n):\n",
    "    for j in range(1):\n",
    "        print('*',end='')\n",
    "def g(i,j,n):\n",
    "    for j in range(n-i-1):\n",
    "        print(0,end='')\n",
    "n=int(input())\n",
    "for i in range(n):\n",
    "    f(i,j,n)\n",
    "    d(i,j,n)\n",
    "    g(i,j,n)\n",
    "    d(i,j,n)\n",
    "    g(i,j,n)\n",
    "    d(i,j,n)\n",
    "    f(i,j,n)\n",
    "    print()"
   ]
  },
  {
   "cell_type": "code",
   "execution_count": 52,
   "id": "b50bd91c",
   "metadata": {},
   "outputs": [
    {
     "name": "stdout",
     "output_type": "stream",
     "text": [
      "13\n",
      "6.2270208e^9\n"
     ]
    }
   ],
   "source": [
    "def fact(n):\n",
    "    if n==0:\n",
    "        return 1\n",
    "    elif 1<=n<=2969:\n",
    "        return n*fact(n-1)\n",
    "    else:\n",
    "        return 'error'\n",
    "n=int(input())\n",
    "a=fact(n)\n",
    "j=a\n",
    "if j == 'error':\n",
    "    print(a)\n",
    "else:\n",
    "    s=-1\n",
    "    while j>0:\n",
    "        s+=1\n",
    "        j//=10\n",
    "    if n<=12:\n",
    "        print(a)\n",
    "    else:\n",
    "        print(str(a/(10**s))+'e^'+str(s))"
   ]
  },
  {
   "cell_type": "code",
   "execution_count": 65,
   "id": "c86b8fbc",
   "metadata": {},
   "outputs": [
    {
     "name": "stdout",
     "output_type": "stream",
     "text": [
      "enter range of table or q to quit: q\n"
     ]
    }
   ],
   "source": [
    "def c(n,a):\n",
    "\n",
    "    for i in range(1,n+1):\n",
    "        print(a,'x',i,'=',a*i)\n",
    "        \n",
    "while True:   \n",
    "    n=input('enter range of table or q to quit: ')\n",
    "    if n=='q' or n=='Q':\n",
    "        break\n",
    "    else:\n",
    "        a=int(input('enter number: '))\n",
    "        n=int(n)\n",
    "        c(n,a)\n",
    "        print('\\n')"
   ]
  },
  {
   "cell_type": "code",
   "execution_count": 69,
   "id": "ea45445b",
   "metadata": {
    "scrolled": true
   },
   "outputs": [
    {
     "name": "stdout",
     "output_type": "stream",
     "text": [
      "1\n",
      "2\n",
      "3\n",
      "5\n",
      "2\n",
      "3\n",
      "4\n",
      "-1\n",
      "3\n",
      "4\n",
      "5\n",
      "20\n",
      "4\n",
      "5\n",
      "6\n",
      "0\n",
      "5\n",
      "6\n",
      "7\n",
      "6\n",
      "7\n",
      "Invalid Operation\n",
      "6\n"
     ]
    }
   ],
   "source": [
    "def add(b,c):\n",
    "    return b+c\n",
    "\n",
    "def sub(b,c):\n",
    "    return b-c\n",
    "\n",
    "def mul(b,c):\n",
    "    return b*c\n",
    "\n",
    "def div(b,c):\n",
    "    return b//c\n",
    "\n",
    "def mod(b,c):\n",
    "    return b%c\n",
    "\n",
    "while True:\n",
    "    a=int(input())\n",
    "    if a==6:\t\t#to stop press 6\n",
    "        break\n",
    "        \n",
    "    elif a<0 or a>6:\n",
    "        print('Invalid Operation')\n",
    "        continue\n",
    "        \n",
    "    b=int(input())\n",
    "    c=int(input())\n",
    "    if a==1:\n",
    "        x=add(b,c)\n",
    "    elif a==2:\n",
    "        x=sub(b,c)\n",
    "    elif a==3:\n",
    "        x=mul(b,c)\n",
    "    elif a==4:\n",
    "        x=div(b,c)\n",
    "    elif a==5:\n",
    "        x=mod(b,c)\n",
    "    print(x)\n"
   ]
  },
  {
   "cell_type": "code",
   "execution_count": null,
   "id": "baafde51",
   "metadata": {},
   "outputs": [],
   "source": [
    "while True:\n",
    "    a=int(input())\n",
    "        \n",
    "    if a<0 or a>=6:\n",
    "        if a==6:\n",
    "            break\n",
    "        print('Invalid Operation')\n",
    "        continue\n",
    "        \n",
    "    b=int(input())\n",
    "    c=int(input())\n",
    "    \n",
    "        \n",
    "    if a==1:\n",
    "        print(b+c)\n",
    "        \n",
    "    elif a==2:\n",
    "        print(b-c)\n",
    "        \n",
    "    elif a==3:\n",
    "        print(b*c)\n",
    "        \n",
    "    elif a==4:\n",
    "        print(b//c)\n",
    "        \n",
    "    elif a==5:\n",
    "        print(b%c)"
   ]
  },
  {
   "cell_type": "code",
   "execution_count": null,
   "id": "50d1bb8d",
   "metadata": {},
   "outputs": [],
   "source": [
    "while True:\n",
    "    a=int(input())\n",
    "        \n",
    "    if a<0 or a>=6:\n",
    "        if a==6:\n",
    "            break\n",
    "        print('Invalid Operation')\n",
    "        continue\n",
    "        \n",
    "    b=int(input())\n",
    "    c=int(input())\n",
    "    \n",
    "        \n",
    "    if a==1:\n",
    "        print(b+c)\n",
    "        \n",
    "    elif a==2:\n",
    "        print(b-c)\n",
    "        \n",
    "    elif a==3:\n",
    "        print(b*c)\n",
    "        \n",
    "    elif a==4:\n",
    "        print(b//c)\n",
    "        \n",
    "    elif a==5:\n",
    "        print(b%c)"
   ]
  }
 ],
 "metadata": {
  "kernelspec": {
   "display_name": "Python 3 (ipykernel)",
   "language": "python",
   "name": "python3"
  },
  "language_info": {
   "codemirror_mode": {
    "name": "ipython",
    "version": 3
   },
   "file_extension": ".py",
   "mimetype": "text/x-python",
   "name": "python",
   "nbconvert_exporter": "python",
   "pygments_lexer": "ipython3",
   "version": "3.9.12"
  }
 },
 "nbformat": 4,
 "nbformat_minor": 5
}
