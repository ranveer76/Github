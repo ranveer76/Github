{
 "cells": [
  {
   "cell_type": "code",
   "execution_count": 5,
   "id": "5b2d8ba4",
   "metadata": {},
   "outputs": [
    {
     "name": "stdout",
     "output_type": "stream",
     "text": [
      "1 2 3 4 5\n",
      "2\n",
      "2 4 "
     ]
    }
   ],
   "source": [
    "a=input().split()\n",
    "l=len(a)\n",
    "n=int(input())\n",
    "for i in range(n-1,l,2):\n",
    "       print(a[i],end=' ')"
   ]
  },
  {
   "cell_type": "code",
   "execution_count": 8,
   "id": "b10ac5dc",
   "metadata": {},
   "outputs": [
    {
     "name": "stdout",
     "output_type": "stream",
     "text": [
      "1\n",
      "2\n",
      "3\n",
      "5\n",
      "2\n",
      "3\n",
      "4\n",
      "-1\n",
      "3\n",
      "4\n",
      "5\n",
      "20\n",
      "4\n",
      "5\n",
      "6\n",
      "0\n",
      "5\n",
      "6\n",
      "7\n",
      "6\n",
      "7\n",
      "Invalide Statement\n",
      "6\n"
     ]
    }
   ],
   "source": [
    "def add():\n",
    "    global a,b\n",
    "    return a+b\n",
    "def sub():\n",
    "    return a-b\n",
    "def prod():\n",
    "    return a*b\n",
    "def div():\n",
    "    return a//b\n",
    "def mod():\n",
    "    return a%b\n",
    "\n",
    "while True:\n",
    "    n=int(input())\n",
    "    if n in range(1,7):\n",
    "        if n==6:\n",
    "            break\n",
    "        else:\n",
    "            a=int(input())\n",
    "            b=int(input())\n",
    "            d={1:add(),2:sub(),3:prod(),4:div(),5:mod()}\n",
    "            print(d[n])\n",
    "    else:\n",
    "        print('Invalide Statement')"
   ]
  }
 ],
 "metadata": {
  "kernelspec": {
   "display_name": "Python 3 (ipykernel)",
   "language": "python",
   "name": "python3"
  },
  "language_info": {
   "codemirror_mode": {
    "name": "ipython",
    "version": 3
   },
   "file_extension": ".py",
   "mimetype": "text/x-python",
   "name": "python",
   "nbconvert_exporter": "python",
   "pygments_lexer": "ipython3",
   "version": "3.9.12"
  }
 },
 "nbformat": 4,
 "nbformat_minor": 5
}
