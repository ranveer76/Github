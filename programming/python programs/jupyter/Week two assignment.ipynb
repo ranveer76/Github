{
 "cells": [
  {
   "cell_type": "code",
   "execution_count": 24,
   "id": "29ff2b93",
   "metadata": {},
   "outputs": [
    {
     "name": "stdout",
     "output_type": "stream",
     "text": [
      "4 5 7 8 8 8 2 3 54 1\n",
      "[1, 54, 3, 2, 8, 8, 8, 7, 5, 4]\n"
     ]
    }
   ],
   "source": [
    "a=list(map(int,input().split()))\n",
    "l=len(a)\n",
    "s=0\n",
    "for i in range((l//2)):\n",
    "    a[i],a[(l-i-1)]=a[(l-i-1)],a[i]\n",
    "print(a)"
   ]
  },
  {
   "cell_type": "code",
   "execution_count": 2,
   "id": "425de22b",
   "metadata": {},
   "outputs": [
    {
     "name": "stdout",
     "output_type": "stream",
     "text": [
      "1 2 3 4 5\n",
      "[5, 4, 3, 2, 1]\n"
     ]
    }
   ],
   "source": [
    "a=list(map(int,input().split()))\n",
    "l=(len(a))\n",
    "b=[]\n",
    "for i in range(l,0,-1):\n",
    "    b.append(a[i-1])\n",
    "print(b)"
   ]
  },
  {
   "cell_type": "code",
   "execution_count": 16,
   "id": "77e2c533",
   "metadata": {},
   "outputs": [
    {
     "name": "stdout",
     "output_type": "stream",
     "text": [
      "12 12 3 4 34 34 34 5 5 6 7\n",
      "34 3\n"
     ]
    }
   ],
   "source": [
    "a=list(map(int,input().split()))\n",
    "l=(len(a))\n",
    "b=0\n",
    "c=0\n",
    "for i in range(l):\n",
    "    if b<a[i]:\n",
    "        c=0\n",
    "        b=a[i]\n",
    "        c+=1\n",
    "    elif b==a[i]:\n",
    "        c+=1\n",
    "    \n",
    "print(b,c)"
   ]
  },
  {
   "cell_type": "code",
   "execution_count": 17,
   "id": "db105ae5",
   "metadata": {
    "scrolled": true
   },
   "outputs": [
    {
     "name": "stdout",
     "output_type": "stream",
     "text": [
      "3 4\n",
      "[4, 3]\n"
     ]
    }
   ],
   "source": [
    "a=list(map(int,input().split()))\n",
    "l=(len(a))\n",
    "z=[]\n",
    "for i in range(l):\n",
    "    if i<l-1:\n",
    "        z.append(a[i])\n",
    "    else:\n",
    "        z.insert(0,a[i])\n",
    "print(z)"
   ]
  },
  {
   "cell_type": "code",
   "execution_count": 5,
   "id": "6eb52b72",
   "metadata": {},
   "outputs": [
    {
     "name": "stdout",
     "output_type": "stream",
     "text": [
      "abcdcdabadcsa\n",
      "enter character to remove:\n",
      "a\n",
      "bcdcdbdcs\n"
     ]
    }
   ],
   "source": [
    "b=''\n",
    "a=input()\n",
    "r=input('enter character to remove:\\n')[0]\n",
    "for i in a:\n",
    "    if i!=r:\n",
    "        b+=i\n",
    "print(b)"
   ]
  },
  {
   "cell_type": "code",
   "execution_count": 10,
   "id": "dbe6589b",
   "metadata": {},
   "outputs": [
    {
     "name": "stdout",
     "output_type": "stream",
     "text": [
      "ranveer singh walia\n",
      "enter character to remove:\n",
      "singh\n",
      "ranveer walia \n"
     ]
    }
   ],
   "source": [
    "a=input().split()\n",
    "r=input('enter character to remove:\\n')\n",
    "b=''\n",
    "for i in a:\n",
    "    if i!=r:\n",
    "        b+=i+' '\n",
    "print(b)"
   ]
  },
  {
   "cell_type": "code",
   "execution_count": 6,
   "id": "e90110a6",
   "metadata": {},
   "outputs": [
    {
     "name": "stdout",
     "output_type": "stream",
     "text": [
      "enter date in format of : mm/dd/yyyy\n",
      "04/11/2022\n",
      "April 11, 2022\n"
     ]
    }
   ],
   "source": [
    "a=input('enter date in format of : mm/dd/yyyy\\n').split('/')\n",
    "d={1:'Jan',2:'Feb',3:'March',4:'April',5:'May',6:'June',7:'July',8:'Aug',9:'Sep',10:'Oct',11:'Nov',12:'Dec'}\n",
    "print(d[int(a[0])],a[1]+',',a[2])"
   ]
  },
  {
   "cell_type": "code",
   "execution_count": 7,
   "id": "2436bb91",
   "metadata": {},
   "outputs": [
    {
     "name": "stdout",
     "output_type": "stream",
     "text": [
      "hi there my name is ranveer singh walia\n",
      "Hi There My Name Is Ranveer Singh Walia \n"
     ]
    }
   ],
   "source": [
    "a=input().split()\n",
    "b=''\n",
    "for i in a:\n",
    "    l=len(i)\n",
    "    for j in range(l):\n",
    "        if j==0:\n",
    "            if ord(i[j]) in range(ord('a'),ord('z')+1):\n",
    "                k=ord(i[j])-ord('a')\n",
    "                b+=chr(k+ord('A'))\n",
    "            else:\n",
    "                b+=i[j]\n",
    "        else:\n",
    "            b+=i[j]\n",
    "    b+=' '\n",
    "print(b)"
   ]
  },
  {
   "cell_type": "code",
   "execution_count": 65,
   "id": "ecfcb452",
   "metadata": {
    "scrolled": true
   },
   "outputs": [
    {
     "name": "stdout",
     "output_type": "stream",
     "text": [
      "26\n"
     ]
    }
   ],
   "source": [
    "a=0\n",
    "for i in range(ord('a'),ord('z')+1):\n",
    "    a+=1\n",
    "print(a)"
   ]
  },
  {
   "cell_type": "code",
   "execution_count": 69,
   "id": "a10fc066",
   "metadata": {},
   "outputs": [
    {
     "name": "stdout",
     "output_type": "stream",
     "text": [
      "C\n"
     ]
    }
   ],
   "source": [
    "b=99-97\n",
    "print(chr(b+ord('A')))"
   ]
  }
 ],
 "metadata": {
  "kernelspec": {
   "display_name": "Python 3 (ipykernel)",
   "language": "python",
   "name": "python3"
  },
  "language_info": {
   "codemirror_mode": {
    "name": "ipython",
    "version": 3
   },
   "file_extension": ".py",
   "mimetype": "text/x-python",
   "name": "python",
   "nbconvert_exporter": "python",
   "pygments_lexer": "ipython3",
   "version": "3.9.12"
  }
 },
 "nbformat": 4,
 "nbformat_minor": 5
}
