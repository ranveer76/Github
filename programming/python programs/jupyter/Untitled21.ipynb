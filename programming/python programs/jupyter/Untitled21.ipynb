{
 "cells": [
  {
   "cell_type": "code",
   "execution_count": 9,
   "id": "bd1d0536",
   "metadata": {},
   "outputs": [
    {
     "name": "stdout",
     "output_type": "stream",
     "text": [
      "3\n",
      "m\n",
      "1 5\n",
      "k\n",
      "1 8 9\n",
      "l\n",
      "1 8 9 7\n",
      "{'m': [5], 'k': [], 'l': [7]}\n"
     ]
    }
   ],
   "source": [
    "d={}\n",
    "n=int(input())\n",
    "for i in range(n):\n",
    "    a=input()\n",
    "    d[a]=[int(x) for x in input().split()]\n",
    "for i in d:\n",
    "    a=[]\n",
    "    for j in d[i]:\n",
    "        for e in range(2):\n",
    "            for x in d:\n",
    "                if i!=x and (j in d[x]):\n",
    "                    for k in d[x]:\n",
    "                        if j==k:\n",
    "                            d[x].remove(k)\n",
    "                            a.append(k)\n",
    "                            break\n",
    "        for c in a:\n",
    "            if c==j and c in d[i]:\n",
    "                d[i].remove(j)\n",
    "print(d)"
   ]
  }
 ],
 "metadata": {
  "kernelspec": {
   "display_name": "Python 3 (ipykernel)",
   "language": "python",
   "name": "python3"
  },
  "language_info": {
   "codemirror_mode": {
    "name": "ipython",
    "version": 3
   },
   "file_extension": ".py",
   "mimetype": "text/x-python",
   "name": "python",
   "nbconvert_exporter": "python",
   "pygments_lexer": "ipython3",
   "version": "3.9.12"
  }
 },
 "nbformat": 4,
 "nbformat_minor": 5
}
