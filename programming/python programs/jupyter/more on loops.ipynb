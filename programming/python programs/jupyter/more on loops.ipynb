{
 "cells": [
  {
   "cell_type": "markdown",
   "id": "0daf3864",
   "metadata": {},
   "source": [
    "Binary Pattern"
   ]
  },
  {
   "cell_type": "code",
   "execution_count": 1,
   "id": "945836af",
   "metadata": {
    "scrolled": true
   },
   "outputs": [
    {
     "name": "stdout",
     "output_type": "stream",
     "text": [
      "5\n",
      "11111\n",
      "0000\n",
      "111\n",
      "00\n",
      "1\n"
     ]
    }
   ],
   "source": [
    "n=int(input())\n",
    "for i in range(n):\n",
    "    for y in range(n-i):\n",
    "        if i%2==0:\n",
    "            print('1',end='')\n",
    "        else:\n",
    "            print('0',end='')\n",
    "    print()"
   ]
  },
  {
   "cell_type": "markdown",
   "id": "26584f4b",
   "metadata": {},
   "source": [
    "Print Number Pyramid"
   ]
  },
  {
   "cell_type": "code",
   "execution_count": 2,
   "id": "e493f95e",
   "metadata": {},
   "outputs": [
    {
     "name": "stdout",
     "output_type": "stream",
     "text": [
      "5\n",
      "12345\n",
      " 2345\n",
      "  345\n",
      "   45\n",
      "    5\n",
      "   45\n",
      "  345\n",
      " 2345\n",
      "12345\n"
     ]
    }
   ],
   "source": [
    "n=int(input())\n",
    "for i in range(n):\n",
    "    for s in range(i):\n",
    "        print(' ',end='')\n",
    "    for x in range(i,n):\n",
    "        print(x+1,end='')\n",
    "    print()\n",
    "for j in range(1,n):\n",
    "    for S in range(n-j,1,-1):\n",
    "        print(' ',end='')\n",
    "    for X in range(j+1,0,-1):\n",
    "        print(n-X+1,end='')\n",
    "    print()"
   ]
  },
  {
   "cell_type": "markdown",
   "id": "52d9a702",
   "metadata": {},
   "source": [
    "Diamond of Stars"
   ]
  },
  {
   "cell_type": "code",
   "execution_count": 17,
   "id": "671fac52",
   "metadata": {},
   "outputs": [
    {
     "name": "stdout",
     "output_type": "stream",
     "text": [
      "5\n",
      "  *\n",
      " ***\n",
      "*****\n",
      " ***\n",
      "  *\n"
     ]
    }
   ],
   "source": [
    "n=int(input())\n",
    "for i in range(1,n+1):\n",
    "    for x in range(n-2,i,-1):\n",
    "        print(' ',end=\"\")\n",
    "    if i%2==0:\n",
    "        continue\n",
    "    for y in range(i):\n",
    "        print('*',end='')\n",
    "    print()\n",
    "for z in range(1,n-2):\n",
    "    for a in range(z):\n",
    "        print(' ',end='')\n",
    "    for b in range(n-z,z,-1):\n",
    "        print('*',end='')\n",
    "    print()"
   ]
  },
  {
   "cell_type": "markdown",
   "id": "10046bf9",
   "metadata": {},
   "source": [
    "Rectangular numbers"
   ]
  },
  {
   "cell_type": "code",
   "execution_count": 18,
   "id": "4737d36c",
   "metadata": {},
   "outputs": [
    {
     "name": "stdout",
     "output_type": "stream",
     "text": [
      "5\n",
      "555555555\n",
      "544444445\n",
      "543333345\n",
      "543222345\n",
      "543212345\n",
      "543222345\n",
      "543333345\n",
      "544444445\n",
      "555555555\n"
     ]
    }
   ],
   "source": [
    "n=int(input())\n",
    "K=n*2-1\n",
    "l=0\n",
    "h=K-1\n",
    "v=n\n",
    "m=[[0 for i in range(K)] for j in range(K)]\n",
    "for i in range(n):\n",
    "    for j in range(l,h+1):\n",
    "        m[i][j]=v\n",
    "    for j in range(l+1,h+1):\n",
    "        m[j][i]=v\n",
    "    for j in range(l+1,h+1):\n",
    "        m[h][j]=v\n",
    "    for j in range(l+1,h):\n",
    "        m[j][h]=v\n",
    "    l+=1\n",
    "    h-=1\n",
    "    v-=1\n",
    "for i in range(K):\n",
    "    for j in range(K):\n",
    "        print(m[i][j],end='')\n",
    "    print()"
   ]
  },
  {
   "cell_type": "markdown",
   "id": "28e8666b",
   "metadata": {},
   "source": [
    "Print the pattern"
   ]
  },
  {
   "cell_type": "code",
   "execution_count": 19,
   "id": "efb18e89",
   "metadata": {},
   "outputs": [
    {
     "name": "stdout",
     "output_type": "stream",
     "text": [
      "5\n",
      "1 2 3 4 5 \n",
      "11 12 13 14 15 \n",
      "21 22 23 24 25 \n",
      "16 17 18 19 20 \n",
      "6 7 8 9 10 \n"
     ]
    }
   ],
   "source": [
    "n=int(input())\n",
    "top=0\n",
    "c=1\n",
    "m=[[0 for i in range(n)] for j in range(n)]\n",
    "b=n-1\n",
    "for i in range(n):\n",
    "    if i%2==0:\n",
    "        for j in range(n):\n",
    "            m[top][j]=c\n",
    "            c+=1\n",
    "        top+=1\n",
    "    else:\n",
    "        for j in range(n):\n",
    "            m[b][j]=c\n",
    "            c+=1\n",
    "        b-=1\n",
    "for i in range(n):\n",
    "    for j in range(n):\n",
    "        print(m[i][j],end=' ')\n",
    "    print()"
   ]
  }
 ],
 "metadata": {
  "kernelspec": {
   "display_name": "Python 3 (ipykernel)",
   "language": "python",
   "name": "python3"
  },
  "language_info": {
   "codemirror_mode": {
    "name": "ipython",
    "version": 3
   },
   "file_extension": ".py",
   "mimetype": "text/x-python",
   "name": "python",
   "nbconvert_exporter": "python",
   "pygments_lexer": "ipython3",
   "version": "3.9.12"
  }
 },
 "nbformat": 4,
 "nbformat_minor": 5
}
