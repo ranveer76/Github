{
 "cells": [
  {
   "cell_type": "code",
   "execution_count": null,
   "id": "7d0d519a",
   "metadata": {},
   "outputs": [],
   "source": [
    "a = 1\n",
    "b = \"hello\"\n",
    "\n",
    "a, b = 1, \"hello\"\n",
    "\n",
    "a = b = c = \"hello\"\n"
   ]
  },
  {
   "cell_type": "code",
   "execution_count": 6,
   "id": "80915368",
   "metadata": {},
   "outputs": [
    {
     "name": "stdout",
     "output_type": "stream",
     "text": [
      "navjeet hello 111\n",
      "navjeethello1111abcf\n"
     ]
    }
   ],
   "source": [
    "# print\n",
    "# + means concat\n",
    "print(\"navjeet\", \"hello\", 111)\n",
    "print(\"navjeet\"+\"hello1111\"+\"abcf\")\n"
   ]
  },
  {
   "cell_type": "code",
   "execution_count": null,
   "id": "c094b2de",
   "metadata": {},
   "outputs": [],
   "source": []
  },
  {
   "cell_type": "code",
   "execution_count": 14,
   "id": "55992fdc",
   "metadata": {},
   "outputs": [
    {
     "name": "stdout",
     "output_type": "stream",
     "text": [
      "hello navjeet i am your python faculty\n",
      "hello navjeet i am your python faculty\n"
     ]
    }
   ],
   "source": [
    "a = \"navjeet\"\n",
    "b = \"python faculty\"\n",
    "print(\"hello\", a, \"i am your\", b)\n",
    "print(\"hello \"+a+\" i am your \"+b)\n"
   ]
  },
  {
   "cell_type": "code",
   "execution_count": 25,
   "id": "b2c2baf1",
   "metadata": {},
   "outputs": [
    {
     "name": "stdout",
     "output_type": "stream",
     "text": [
      "2\n"
     ]
    }
   ],
   "source": [
    "a = 10\n",
    "b = 5\n",
    "c = a//b\n",
    "print(c)\n"
   ]
  },
  {
   "cell_type": "code",
   "execution_count": 29,
   "id": "f7046344",
   "metadata": {},
   "outputs": [
    {
     "name": "stdout",
     "output_type": "stream",
     "text": [
      "Enter namenavjeet\n",
      "hello navjeet\n"
     ]
    }
   ],
   "source": [
    "# input\n",
    "# default value intake is only string\n",
    "a = input(\"Enter name\")\n",
    "print(\"hello\", a)\n"
   ]
  },
  {
   "cell_type": "code",
   "execution_count": 31,
   "id": "acbae8a0",
   "metadata": {},
   "outputs": [
    {
     "name": "stdout",
     "output_type": "stream",
     "text": [
      "2\n",
      "3\n",
      "23\n"
     ]
    }
   ],
   "source": [
    "a1 = input()\n",
    "b2 = input()\n",
    "c1 = a1+b2\n",
    "print(c1)\n"
   ]
  },
  {
   "cell_type": "code",
   "execution_count": 35,
   "id": "3226429e",
   "metadata": {},
   "outputs": [
    {
     "name": "stdout",
     "output_type": "stream",
     "text": [
      "2\n",
      "123\n"
     ]
    }
   ],
   "source": [
    "print(a1)\n",
    "a = 1\n",
    "a = \"hello\"\n",
    "a = 123\n",
    "a1 = 234\n",
    "print(a)\n"
   ]
  }
 ],
 "metadata": {
  "kernelspec": {
   "display_name": "Python 3",
   "language": "python",
   "name": "python3"
  },
  "language_info": {
   "codemirror_mode": {
    "name": "ipython",
    "version": 3
   },
   "file_extension": ".py",
   "mimetype": "text/x-python",
   "name": "python",
   "nbconvert_exporter": "python",
   "pygments_lexer": "ipython3",
   "version": "3.8.8"
  }
 },
 "nbformat": 4,
 "nbformat_minor": 5
}
