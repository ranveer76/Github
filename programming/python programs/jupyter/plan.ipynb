{
 "cells": [
  {
   "cell_type": "code",
   "execution_count": 12,
   "id": "8728842e",
   "metadata": {},
   "outputs": [
    {
     "name": "stdout",
     "output_type": "stream",
     "text": [
      "121\n",
      "Transaction may proceed\n"
     ]
    }
   ],
   "source": [
    "n=int(input())\n",
    "a='may proceed'\n",
    "b='declined'\n",
    "t=n\n",
    "s=0\n",
    "while t>0:\n",
    "    x=t%10\n",
    "    s=(s*10)+x\n",
    "    t//=10\n",
    "if n!=s:\n",
    "    a=b\n",
    "print('Transaction {}'.format(a))"
   ]
  },
  {
   "cell_type": "code",
   "execution_count": 14,
   "id": "547831b1",
   "metadata": {},
   "outputs": [
    {
     "name": "stdout",
     "output_type": "stream",
     "text": [
      "120\n",
      "Amount to pay: 100\n"
     ]
    }
   ],
   "source": [
    "n=int(input())\n",
    "s=0\n",
    "if n>100 and n<200:\n",
    "    s=((n-100)*5)\n",
    "elif n>200:\n",
    "    s=((n-100)*5)+((n-200)*10)\n",
    "print('Amount to pay:',s)"
   ]
  },
  {
   "cell_type": "code",
   "execution_count": 17,
   "id": "7aaf9235",
   "metadata": {},
   "outputs": [
    {
     "name": "stdout",
     "output_type": "stream",
     "text": [
      "m\n",
      "15000\n",
      "16500\n"
     ]
    }
   ],
   "source": [
    "a=input()[0]\n",
    "n=int(input())\n",
    "if a=='m':\n",
    "    if n>10000:\n",
    "        m=((n/100)*10)+n\n",
    "    else:\n",
    "        m=((n/100)*12.5)+n\n",
    "elif a=='f':\n",
    "    if n>10000:\n",
    "        m=((n/100)*15)+n\n",
    "    else:\n",
    "        m=((n/100)*17.5)+n\n",
    "print(int(m))"
   ]
  },
  {
   "cell_type": "code",
   "execution_count": 27,
   "id": "21978d5e",
   "metadata": {
    "scrolled": true
   },
   "outputs": [
    {
     "name": "stdout",
     "output_type": "stream",
     "text": [
      "Enter the size of list \n",
      "5\n",
      "Enter Element 1: 1\n",
      "Enter Element 2: 2\n",
      "Enter Element 3: 3\n",
      "Enter Element 4: 4\n",
      "Enter Element 5: 5\n",
      "[1, 2, 6, 24, 120]\n"
     ]
    }
   ],
   "source": [
    "n=int(input('Enter the size of list \\n'))\n",
    "a=[]\n",
    "for i in range(n):\n",
    "    print('Enter Element',i+1,end=': ')\n",
    "    a.append(int(input()))\n",
    "for i in range(1,n):\n",
    "    a[i]*=a[i-1]\n",
    "print(a)"
   ]
  },
  {
   "cell_type": "code",
   "execution_count": 41,
   "id": "82f3c4fa",
   "metadata": {
    "scrolled": true
   },
   "outputs": [
    {
     "name": "stdout",
     "output_type": "stream",
     "text": [
      "4\n",
      "4\n",
      "5\n",
      "3\n",
      "6\n",
      "3\n",
      "2\n",
      "4\n",
      "5\n",
      "4\n",
      "6\n",
      "5\n",
      "2\n",
      "[8, 12, 8, 18]\n"
     ]
    }
   ],
   "source": [
    "n=int(input())\n",
    "d=[]\n",
    "for i in range(n):\n",
    "    a=int(input())\n",
    "    b=int(input())\n",
    "    c=int(input())\n",
    "    x=(b/c)\n",
    "    if int(x)<x:\n",
    "        x=int(x)+1\n",
    "    d.append(int(x)*a)\n",
    "print(d)"
   ]
  },
  {
   "cell_type": "code",
   "execution_count": null,
   "id": "82c0bb85",
   "metadata": {},
   "outputs": [],
   "source": []
  }
 ],
 "metadata": {
  "kernelspec": {
   "display_name": "Python 3 (ipykernel)",
   "language": "python",
   "name": "python3"
  },
  "language_info": {
   "codemirror_mode": {
    "name": "ipython",
    "version": 3
   },
   "file_extension": ".py",
   "mimetype": "text/x-python",
   "name": "python",
   "nbconvert_exporter": "python",
   "pygments_lexer": "ipython3",
   "version": "3.9.12"
  }
 },
 "nbformat": 4,
 "nbformat_minor": 5
}
