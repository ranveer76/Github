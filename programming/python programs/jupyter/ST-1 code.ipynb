{
 "cells": [
  {
   "cell_type": "code",
   "execution_count": 8,
   "id": "7520b9a0",
   "metadata": {},
   "outputs": [
    {
     "name": "stdout",
     "output_type": "stream",
     "text": [
      "5\n",
      "2\n",
      "3\n",
      "4\n",
      "5\n",
      "6\n",
      "5 6\n"
     ]
    }
   ],
   "source": [
    "def f():\n",
    "    global a\n",
    "    b=max(a)\n",
    "    c=a.index(b)\n",
    "    a[c]*=-1\n",
    "    return b,c\n",
    "\n",
    "n=int(input())\n",
    "a=[int(input()) for i in range(n)]\n",
    "\n",
    "b,c=f()\n",
    "k,x=f()\n",
    "if c>x:\n",
    "    b,k=k,b\n",
    "    \n",
    "print(b,k)"
   ]
  },
  {
   "cell_type": "code",
   "execution_count": 3,
   "id": "578eb42f",
   "metadata": {},
   "outputs": [
    {
     "name": "stdout",
     "output_type": "stream",
     "text": [
      "5\n",
      "2\n",
      "3\n",
      "4\n",
      "5\n",
      "6\n",
      "5 6\n"
     ]
    }
   ],
   "source": [
    "n=int(input())\n",
    "a=[int(input()) for i in range(n)]\n",
    "\n",
    "b=max(a)\n",
    "c=a.index(b)\n",
    "a[c]*=-1\n",
    "k=max(a)\n",
    "x=a.index(k)\n",
    "\n",
    "if c>x:\n",
    "    b,k=k,b\n",
    "    \n",
    "print(b,k)"
   ]
  },
  {
   "cell_type": "code",
   "execution_count": 9,
   "id": "23e5aae8",
   "metadata": {},
   "outputs": [
    {
     "name": "stdout",
     "output_type": "stream",
     "text": [
      "[4, 20, 24, 28]\n"
     ]
    }
   ],
   "source": [
    "a=[4,8,12,16]\n",
    "a[1:4]=[20,24,28]\n",
    "print(a)"
   ]
  },
  {
   "cell_type": "code",
   "execution_count": 4,
   "id": "de645081",
   "metadata": {},
   "outputs": [
    {
     "name": "stdout",
     "output_type": "stream",
     "text": [
      "5\n",
      "2\n",
      "3\n",
      "4\n",
      "5\n",
      "6\n",
      "5 6\n"
     ]
    }
   ],
   "source": [
    "n=int(input())\n",
    "a=[]\n",
    "for i in range(n):\n",
    "    a.append(int(input()))\n",
    "s=0\n",
    "for i in range(n-1):\n",
    "    for j in range(1,n):\n",
    "        if i==j:\n",
    "            continue\n",
    "        elif a[i]+a[j]>s:\n",
    "            s=a[i]+a[j]\n",
    "            b,x=a[i],a[j]\n",
    "print(b,x)"
   ]
  }
 ],
 "metadata": {
  "kernelspec": {
   "display_name": "Python 3 (ipykernel)",
   "language": "python",
   "name": "python3"
  },
  "language_info": {
   "codemirror_mode": {
    "name": "ipython",
    "version": 3
   },
   "file_extension": ".py",
   "mimetype": "text/x-python",
   "name": "python",
   "nbconvert_exporter": "python",
   "pygments_lexer": "ipython3",
   "version": "3.9.12"
  }
 },
 "nbformat": 4,
 "nbformat_minor": 5
}
