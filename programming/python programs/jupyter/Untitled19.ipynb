{
 "cells": [
  {
   "cell_type": "code",
   "execution_count": 5,
   "id": "b4696549",
   "metadata": {},
   "outputs": [
    {
     "name": "stdout",
     "output_type": "stream",
     "text": [
      "3\n",
      "3\n",
      "1 2 3\n",
      "4 5 6\n",
      "7 8 9\n",
      "100\n",
      "[(1, 2, 100), (4, 5, 100), (7, 8, 100)]\n"
     ]
    }
   ],
   "source": [
    "row=int(input())\n",
    "col=int(input())\n",
    "l=[tuple(map(int,input().split()))for i in range(row)]\n",
    "ch=int(input())\n",
    "for i in range(row):\n",
    "    a=list(l[i])\n",
    "    a[-1]=ch\n",
    "    l[i]=tuple(a)\n",
    "print(l)"
   ]
  },
  {
   "cell_type": "code",
   "execution_count": null,
   "id": "bca389e0",
   "metadata": {},
   "outputs": [],
   "source": []
  }
 ],
 "metadata": {
  "kernelspec": {
   "display_name": "Python 3 (ipykernel)",
   "language": "python",
   "name": "python3"
  },
  "language_info": {
   "codemirror_mode": {
    "name": "ipython",
    "version": 3
   },
   "file_extension": ".py",
   "mimetype": "text/x-python",
   "name": "python",
   "nbconvert_exporter": "python",
   "pygments_lexer": "ipython3",
   "version": "3.9.12"
  }
 },
 "nbformat": 4,
 "nbformat_minor": 5
}
