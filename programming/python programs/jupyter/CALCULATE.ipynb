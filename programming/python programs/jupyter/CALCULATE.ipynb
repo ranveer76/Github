{
 "cells": [
  {
   "cell_type": "code",
   "execution_count": 14,
   "id": "7aeabbb9",
   "metadata": {},
   "outputs": [
    {
     "name": "stdout",
     "output_type": "stream",
     "text": [
      "1\n",
      "2\n",
      "3\n",
      "5\n",
      "2\n",
      "3\n",
      "4\n",
      "-1\n",
      "3\n",
      "4\n",
      "5\n",
      "20\n",
      "4\n",
      "5\n",
      "6\n",
      "0\n",
      "5\n",
      "6\n",
      "7\n",
      "6\n",
      "7\n",
      "Invalid Operation\n",
      "8\n",
      "Invalid Operation\n",
      "6\n"
     ]
    }
   ],
   "source": [
    "def get():\n",
    "    return int(input())\n",
    "\n",
    "def ev():\n",
    "    return eval(c)\n",
    "\n",
    "x=True\n",
    "a=['+','-','*','//','%']\n",
    "while x:\n",
    "    n=get()\n",
    "    if n==6:\n",
    "        break\n",
    "        \n",
    "    e='Invalid Operation'\n",
    "    if n in range(1,6):\n",
    "        k=get()\n",
    "        b=get()\n",
    "        c=str(k)+a[n-1]+str(b)\n",
    "        e=ev()\n",
    "        \n",
    "\n",
    "    print(e)"
   ]
  }
 ],
 "metadata": {
  "kernelspec": {
   "display_name": "Python 3 (ipykernel)",
   "language": "python",
   "name": "python3"
  },
  "language_info": {
   "codemirror_mode": {
    "name": "ipython",
    "version": 3
   },
   "file_extension": ".py",
   "mimetype": "text/x-python",
   "name": "python",
   "nbconvert_exporter": "python",
   "pygments_lexer": "ipython3",
   "version": "3.9.12"
  }
 },
 "nbformat": 4,
 "nbformat_minor": 5
}
