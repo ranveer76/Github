{
 "cells": [
  {
   "cell_type": "code",
   "execution_count": 204,
   "id": "ce88640e",
   "metadata": {},
   "outputs": [
    {
     "name": "stdout",
     "output_type": "stream",
     "text": [
      "9\n",
      "        * \n",
      "       * * \n",
      "      * * * \n",
      "     * * * * \n",
      "    * * * * * \n",
      "   * * * * * * \n",
      "  * * * * * * * \n",
      " * * * * * * * * \n",
      "* * * * * * * * * \n",
      " * * * * * * * * \n",
      "  * * * * * * * \n",
      "   * * * * * * \n",
      "    * * * * * \n",
      "     * * * * \n",
      "      * * * \n",
      "       * * \n",
      "        * \n",
      "         \n"
     ]
    }
   ],
   "source": [
    "n=int(input())\n",
    "a=n*2\n",
    "for i in range(a):\n",
    "    if i<n:\n",
    "        x=i+1\n",
    "        s=n-i-1\n",
    "    else:\n",
    "        x=a-i-1\n",
    "        s=i-n+1\n",
    "    for j in range(s):\n",
    "        print(' ',end='')\n",
    "    for j in range(x):\n",
    "        print('*',end=' ')\n",
    "    print()"
   ]
  },
  {
   "cell_type": "code",
   "execution_count": 205,
   "id": "77a18e38",
   "metadata": {},
   "outputs": [
    {
     "name": "stdout",
     "output_type": "stream",
     "text": [
      "18\n",
      "         * \n",
      "        * * \n",
      "       * * * \n",
      "      * * * * \n",
      "     * * * * * \n",
      "    * * * * * * \n",
      "   * * * * * * * \n",
      "  * * * * * * * * \n",
      " * * * * * * * * * \n",
      "  * * * * * * * * \n",
      "   * * * * * * * \n",
      "    * * * * * * \n",
      "     * * * * * \n",
      "      * * * * \n",
      "       * * * \n",
      "        * * \n",
      "         * \n",
      "          \n"
     ]
    }
   ],
   "source": [
    "a=int(input())\n",
    "n=(a//2)\n",
    "t=1\n",
    "if a%2!=0:\n",
    "    n+=1\n",
    "    t=0\n",
    "for i in range(a):\n",
    "    if i<n:\n",
    "        x=i+1\n",
    "        s=n-i\n",
    "    else:\n",
    "        s=i-n+2\n",
    "        x=a-i-t\n",
    "    for j in range(s):\n",
    "        print(' ',end='')\n",
    "    for j in range(x):\n",
    "        print('* ',end='')\n",
    "    print()"
   ]
  },
  {
   "cell_type": "code",
   "execution_count": 49,
   "id": "4d2daad6",
   "metadata": {},
   "outputs": [
    {
     "name": "stdout",
     "output_type": "stream",
     "text": [
      "1331\n",
      "true\n"
     ]
    }
   ],
   "source": [
    "def checkPalindrome(num):\n",
    "        a=0\n",
    "        x=num\n",
    "        while (x>0):\n",
    "            a=(a*10)+(x%10)\n",
    "            x//=10\n",
    "        return num==a\n",
    "\n",
    "num = int(input())\n",
    "isPalindrome = checkPalindrome(num)\n",
    "\n",
    "if(isPalindrome):\n",
    "    print('true')\n",
    "else:\n",
    "    print('false')"
   ]
  },
  {
   "cell_type": "code",
   "execution_count": 43,
   "id": "e98df4bd",
   "metadata": {},
   "outputs": [
    {
     "name": "stdout",
     "output_type": "stream",
     "text": [
      "0\n",
      "120\n",
      "20\n",
      "0 \t -17\n",
      "20 \t -6\n",
      "40 \t 4\n",
      "60 \t 15\n",
      "80 \t 26\n",
      "100 \t 37\n",
      "120 \t 48\n"
     ]
    }
   ],
   "source": [
    "def f(s,e,w):\n",
    "    while s<=e:\n",
    "        i=(s-32)*5/9\n",
    "        print(s,'\\t',int(i))\n",
    "        #print(int(i))\n",
    "        s=s+w\n",
    "s=int(input())\n",
    "e=int(input())\n",
    "w=int(input())\n",
    "if 0<=s<=1000 and 0<=e<=1000 and 0<=w<=1000:\n",
    "    f(s,e,w)"
   ]
  },
  {
   "cell_type": "code",
   "execution_count": 30,
   "id": "08e07e1c",
   "metadata": {},
   "outputs": [
    {
     "name": "stdout",
     "output_type": "stream",
     "text": [
      "1\n",
      "0\n"
     ]
    }
   ],
   "source": [
    "    t=int(input())\n",
    "    for i in range(t):\n",
    "        n=int(input())\n",
    "        if 0<n<=10**5:\n",
    "            a=[int(x) for x in input().split()]\n",
    "            for i in range(n):\n",
    "                if i%2==0:\n",
    "                    b=a[i]\n",
    "                    if i<n-1:\n",
    "                        a[i]=a[i+1]\n",
    "                        a[i+1]=b\n",
    "            for i in a:\n",
    "                print(i,end=' ')\n",
    "            print()"
   ]
  },
  {
   "cell_type": "code",
   "execution_count": 32,
   "id": "0facc643",
   "metadata": {},
   "outputs": [
    {
     "name": "stdout",
     "output_type": "stream",
     "text": [
      "1\n",
      "5\n",
      "1 2 3 4 4\n",
      "4\n"
     ]
    }
   ],
   "source": [
    "t=int(input())\n",
    "for i in range(t):\n",
    "    n=int(input())\n",
    "    if 0<n:\n",
    "        a=[int(x) for x in input().split()]\n",
    "        for i in a:\n",
    "            b=0\n",
    "            for j in a:\n",
    "                if i==j:\n",
    "                    b+=1\n",
    "            if b>1:\n",
    "                c=i\n",
    "                break\n",
    "        print(c)"
   ]
  },
  {
   "cell_type": "code",
   "execution_count": 36,
   "id": "7dc2cd48",
   "metadata": {},
   "outputs": [
    {
     "name": "stdout",
     "output_type": "stream",
     "text": [
      "1\n",
      "2\n",
      "3 4\n",
      "7\n",
      "1\n",
      "1\n"
     ]
    }
   ],
   "source": [
    "t=int(input())\n",
    "i=0\n",
    "while i<=t:\n",
    "    s=0\n",
    "    n=int(input())\n",
    "    a=[int(x) for x in input().split()]\n",
    "    if n>0:\n",
    "        j=0\n",
    "        x=int(input())\n",
    "        while j<=n:\n",
    "            while m<=n:\n",
    "                if a[i]+a[j]==x:\n",
    "                    s+=1\n",
    "                    a[i]= -99\n",
    "                    break\n",
    "    print(s)"
   ]
  }
 ],
 "metadata": {
  "kernelspec": {
   "display_name": "Python 3 (ipykernel)",
   "language": "python",
   "name": "python3"
  },
  "language_info": {
   "codemirror_mode": {
    "name": "ipython",
    "version": 3
   },
   "file_extension": ".py",
   "mimetype": "text/x-python",
   "name": "python",
   "nbconvert_exporter": "python",
   "pygments_lexer": "ipython3",
   "version": "3.9.12"
  }
 },
 "nbformat": 4,
 "nbformat_minor": 5
}
