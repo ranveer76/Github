{
 "cells": [
  {
   "cell_type": "code",
   "execution_count": 4,
   "id": "65b4a4e0",
   "metadata": {},
   "outputs": [
    {
     "name": "stdout",
     "output_type": "stream",
     "text": [
      "2.25\n",
      "2\n",
      "1\n"
     ]
    }
   ],
   "source": [
    "# operators with +ve values\n",
    "print(9/4)\n",
    "print(9//4)\n",
    "print(9 % 4)\n"
   ]
  },
  {
   "cell_type": "code",
   "execution_count": 5,
   "id": "966267cf",
   "metadata": {},
   "outputs": [
    {
     "name": "stdout",
     "output_type": "stream",
     "text": [
      "2.25\n",
      "2\n",
      "-1\n"
     ]
    }
   ],
   "source": [
    "# operators with -ve values\n",
    "print(-9/-4)\n",
    "print(-9//-4)\n",
    "print(-9 % -4)\n"
   ]
  },
  {
   "cell_type": "code",
   "execution_count": 6,
   "id": "7a6f75b3",
   "metadata": {},
   "outputs": [
    {
     "name": "stdout",
     "output_type": "stream",
     "text": [
      "-2.25\n",
      "-3\n",
      "3\n"
     ]
    }
   ],
   "source": [
    "# operators with -ve a values\n",
    "print(-9 / 4)\n",
    "print(-9 // 4)\n",
    "print(-9 % 4)\n"
   ]
  },
  {
   "cell_type": "code",
   "execution_count": 7,
   "id": "5603246a",
   "metadata": {},
   "outputs": [
    {
     "name": "stdout",
     "output_type": "stream",
     "text": [
      "-2.25\n",
      "-3\n",
      "-3\n"
     ]
    }
   ],
   "source": [
    "# operators with -ve b values\n",
    "print(9/-4)\n",
    "print(9//-4)\n",
    "print(9 % -4)\n"
   ]
  }
 ],
 "metadata": {
  "kernelspec": {
   "display_name": "Python 3",
   "language": "python",
   "name": "python3"
  },
  "language_info": {
   "codemirror_mode": {
    "name": "ipython",
    "version": 3
   },
   "file_extension": ".py",
   "mimetype": "text/x-python",
   "name": "python",
   "nbconvert_exporter": "python",
   "pygments_lexer": "ipython3",
   "version": "3.8.8"
  }
 },
 "nbformat": 4,
 "nbformat_minor": 5
}
