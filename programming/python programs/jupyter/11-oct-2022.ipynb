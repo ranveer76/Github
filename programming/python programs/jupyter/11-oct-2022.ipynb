{
 "cells": [
  {
   "cell_type": "code",
   "execution_count": 8,
   "id": "daa577e0",
   "metadata": {},
   "outputs": [
    {
     "name": "stdout",
     "output_type": "stream",
     "text": [
      "<class 'float'>\n",
      "<class 'str'>\n",
      "3.0\n"
     ]
    }
   ],
   "source": [
    "# type casting: converting one datatype into another\n",
    "# implicit and explicit\n",
    "# a=5\n",
    "# print(type(a))\n",
    "# int(),float(), str(), casting is also done in sequence type\n",
    "a = 3.0\n",
    "print(type(a))\n",
    "b = str(a)\n",
    "print(type(b))\n",
    "print(b)\n"
   ]
  },
  {
   "cell_type": "code",
   "execution_count": 11,
   "id": "5ff67255",
   "metadata": {},
   "outputs": [
    {
     "name": "stdout",
     "output_type": "stream",
     "text": [
      "Enter 1st number: 4\n",
      "Enter 2nd number: 5\n",
      "Sum is:  9.0\n"
     ]
    }
   ],
   "source": [
    "# sum operation\n",
    "a = float(input(\"Enter 1st number: \"))\n",
    "b = float(input(\"Enter 2nd number: \"))\n",
    "s = a+b\n",
    "print(\"Sum is: \", s)\n"
   ]
  },
  {
   "cell_type": "code",
   "execution_count": 12,
   "id": "1a3b2f7f",
   "metadata": {},
   "outputs": [
    {
     "name": "stdout",
     "output_type": "stream",
     "text": [
      "512\n"
     ]
    }
   ],
   "source": [
    "# precedence and associativity\n",
    "print(2**3**2)\n",
    "# a-b+c\n"
   ]
  },
  {
   "cell_type": "code",
   "execution_count": 19,
   "id": "0c984ce8",
   "metadata": {},
   "outputs": [
    {
     "name": "stdout",
     "output_type": "stream",
     "text": [
      "Enter your age: 65\n",
      "You are too old to join FB!!\n"
     ]
    }
   ],
   "source": [
    "# flow control\n",
    "# order in which statements/blocks of code is executed at runtime\n",
    "# 1. conditional - if else elif nested if\n",
    "# 2. tranfer - break continue pass\n",
    "# 3. iterative - while for\n",
    "\n",
    "# conditional\n",
    "\n",
    "person = int(input(\"Enter your age: \"))\n",
    "if person >= 18 and person <= 60:\n",
    "    print(\"you can join facebook!\")\n",
    "elif person > 60:\n",
    "    print(\"You are too old to join FB!!\")\n",
    "else:\n",
    "    print(\"you can NOT join facebook!\")\n"
   ]
  },
  {
   "cell_type": "code",
   "execution_count": 5,
   "id": "5a6c65fa",
   "metadata": {},
   "outputs": [
    {
     "name": "stdout",
     "output_type": "stream",
     "text": [
      "Enter a number: -9\n",
      "-VE Num\n"
     ]
    }
   ],
   "source": [
    "# nested if\n",
    "# program to check a number is +ve or not.\n",
    "a = int(input(\"Enter a number: \"))\n",
    "if a >= 0:\n",
    "    if a == 0:\n",
    "        print(\"it is a ZERO!\")\n",
    "    else:\n",
    "        print(\"+VE Num\")\n",
    "else:\n",
    "    print(\"-VE Num\")\n"
   ]
  },
  {
   "cell_type": "code",
   "execution_count": 1,
   "id": "e8b6363f",
   "metadata": {},
   "outputs": [
    {
     "name": "stdout",
     "output_type": "stream",
     "text": [
      "0\n",
      "1\n",
      "2\n",
      "3\n",
      "4\n",
      "5\n",
      "6\n",
      "7\n",
      "8\n",
      "9\n",
      "10\n",
      "11\n"
     ]
    }
   ],
   "source": [
    "# while loop\n",
    "# repeat a set of operation while a particular condition is met\n",
    "# unknown iteration\n",
    "# three major component in loops: initilization, condition, update/increment\n",
    "a = 0\n",
    "# while condition:\n",
    "# executing statements\n",
    "# increment/decrement statement\n",
    "while a <= 10:\n",
    "    print(a)\n",
    "    a += 1\n",
    "print(a)  # 11\n"
   ]
  },
  {
   "cell_type": "code",
   "execution_count": 1,
   "id": "8544e5f2",
   "metadata": {},
   "outputs": [
    {
     "name": "stdout",
     "output_type": "stream",
     "text": [
      "1\n",
      "2\n",
      "3\n",
      "4\n",
      "5\n",
      "6\n",
      "7\n",
      "8\n",
      "9\n",
      "10\n"
     ]
    }
   ],
   "source": [
    "# break and continue in while loop\n",
    "# break is the control statement,as soon as it is encountered the execution skips the whole block;\n",
    "# whereas in continue, only the current iteration is skipped\n",
    "a = 1\n",
    "while a <= 10:\n",
    "    if a == 5:\n",
    "        pass\n",
    "    print(a)\n",
    "    a = a+1\n"
   ]
  },
  {
   "cell_type": "code",
   "execution_count": 6,
   "id": "fc836044",
   "metadata": {},
   "outputs": [
    {
     "name": "stdout",
     "output_type": "stream",
     "text": [
      "0 5\n",
      "1 4\n",
      "2 3\n",
      "3 2\n",
      "4 1\n",
      "5 0\n"
     ]
    }
   ],
   "source": [
    "# nested while\n",
    "i = 0\n",
    "j = 5\n",
    "while i <= 5:\n",
    "    while j >= 0:\n",
    "        print(i, j)\n",
    "        i = i+1\n",
    "        j = j-1\n"
   ]
  },
  {
   "cell_type": "code",
   "execution_count": 27,
   "id": "9584a98d",
   "metadata": {},
   "outputs": [
    {
     "name": "stdout",
     "output_type": "stream",
     "text": [
      "0 1 2 3 4 5 6 7 8 9 "
     ]
    }
   ],
   "source": [
    "# for loop\n",
    "# range for iterating via integers\n",
    "# sequence is like string, list, tuple etc\n",
    "# for var in sequence:\n",
    "# dshdgfsh\n",
    "# dsgfsf\n",
    "# s=12345\n",
    "for i in range(10):\n",
    "    print(i, end=\" \")\n"
   ]
  },
  {
   "cell_type": "code",
   "execution_count": null,
   "id": "a04ebc9e",
   "metadata": {},
   "outputs": [],
   "source": []
  }
 ],
 "metadata": {
  "kernelspec": {
   "display_name": "Python 3",
   "language": "python",
   "name": "python3"
  },
  "language_info": {
   "codemirror_mode": {
    "name": "ipython",
    "version": 3
   },
   "file_extension": ".py",
   "mimetype": "text/x-python",
   "name": "python",
   "nbconvert_exporter": "python",
   "pygments_lexer": "ipython3",
   "version": "3.8.8"
  }
 },
 "nbformat": 4,
 "nbformat_minor": 5
}
