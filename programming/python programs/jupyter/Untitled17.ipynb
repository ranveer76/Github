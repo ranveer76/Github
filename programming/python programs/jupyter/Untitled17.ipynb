{
 "cells": [
  {
   "cell_type": "code",
   "execution_count": null,
   "id": "1eb96617",
   "metadata": {},
   "outputs": [],
   "source": [
    "a=[[0,1,2],[3,4,5],[6,7,8]]\n",
    "def t():\n",
    "    l=0\n",
    "    for i in range(5):\n",
    "        s=0\n",
    "        if i%2==0:\n",
    "            for j in range(5):\n",
    "                if j%2==0:\n",
    "                    print(a[l][s],end=' ')\n",
    "                    s+=1\n",
    "                else:\n",
    "                    print('|',end='')\n",
    "            l+=1\n",
    "        else:\n",
    "            print('"
   ]
  },
  {
   "cell_type": "code",
   "execution_count": 16,
   "id": "47c16742",
   "metadata": {},
   "outputs": [
    {
     "name": "stdout",
     "output_type": "stream",
     "text": [
      "0 |1 |2 \n",
      "- - - - \n",
      "3 |4 |5 \n",
      "- - - - \n",
      "6 |7 |8 \n"
     ]
    }
   ],
   "source": [
    "a=[[0,1,2],[3,4,5],[6,7,8]]\n",
    "def t():\n",
    "    l=0\n",
    "    for i in range(5):\n",
    "        s=0\n",
    "        if i%2==0:\n",
    "            for j in range(5):\n",
    "                if j%2==0:\n",
    "                    print(a[l][s],end=' ')\n",
    "                    s+=1\n",
    "                else:\n",
    "                    print('|',end='')\n",
    "            l+=1\n",
    "        else:\n",
    "            for j in range(4):\n",
    "                print('-',end=' ')\n",
    "        print()\n",
    "\n",
    "t()"
   ]
  }
 ],
 "metadata": {
  "kernelspec": {
   "display_name": "Python 3 (ipykernel)",
   "language": "python",
   "name": "python3"
  },
  "language_info": {
   "codemirror_mode": {
    "name": "ipython",
    "version": 3
   },
   "file_extension": ".py",
   "mimetype": "text/x-python",
   "name": "python",
   "nbconvert_exporter": "python",
   "pygments_lexer": "ipython3",
   "version": "3.9.12"
  }
 },
 "nbformat": 4,
 "nbformat_minor": 5
}
