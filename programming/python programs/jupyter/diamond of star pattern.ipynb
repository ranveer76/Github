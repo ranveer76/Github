{
 "cells": [
  {
   "cell_type": "code",
   "execution_count": 7,
   "id": "454c0186",
   "metadata": {},
   "outputs": [
    {
     "name": "stdout",
     "output_type": "stream",
     "text": [
      "12\n",
      "      *\n",
      "     ***\n",
      "    *****\n",
      "   *******\n",
      "  *********\n",
      " ***********\n",
      "*************\n",
      "  *********\n",
      "   *******\n",
      "    *****\n",
      "     ***\n",
      "      *\n"
     ]
    }
   ],
   "source": [
    "n=int(input())\n",
    "k=1\n",
    "for i in range(n):\n",
    "    l=k\n",
    "    if i<=(n//2):\n",
    "        s=(n//2)-i\n",
    "        k+=2\n",
    "    if i==n//2:\n",
    "        k-=4\n",
    "        if n%2==0:\n",
    "            k-=2\n",
    "        s=0\n",
    "    elif i>=(n//2):\n",
    "        if i==(n//2)+1:\n",
    "            if n%2==0:\n",
    "                s+=1\n",
    "        s+=1\n",
    "        k-=2\n",
    "    for j in range(s):\n",
    "        print(' ',end='')\n",
    "    for j in range(l):\n",
    "        print('*',end='')\n",
    "    l=k-1\n",
    "    print()"
   ]
  }
 ],
 "metadata": {
  "kernelspec": {
   "display_name": "Python 3 (ipykernel)",
   "language": "python",
   "name": "python3"
  },
  "language_info": {
   "codemirror_mode": {
    "name": "ipython",
    "version": 3
   },
   "file_extension": ".py",
   "mimetype": "text/x-python",
   "name": "python",
   "nbconvert_exporter": "python",
   "pygments_lexer": "ipython3",
   "version": "3.9.12"
  }
 },
 "nbformat": 4,
 "nbformat_minor": 5
}
