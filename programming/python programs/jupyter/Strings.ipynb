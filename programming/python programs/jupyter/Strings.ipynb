{
 "cells": [
  {
   "cell_type": "markdown",
   "id": "42b9c853",
   "metadata": {},
   "source": [
    "Check Palindrome"
   ]
  },
  {
   "cell_type": "code",
   "execution_count": 13,
   "id": "5d04e201",
   "metadata": {},
   "outputs": [
    {
     "name": "stdout",
     "output_type": "stream",
     "text": [
      "abc\n",
      "false\n"
     ]
    }
   ],
   "source": [
    "def isPalindrome(string) :\n",
    "    # Your code goes here\n",
    "    n=string\n",
    "    l=len(n)\n",
    "    a=''\n",
    "    for i in range(l-1,-1,-1):\n",
    "        a+=n[i]\n",
    "    return a==n\n",
    "\n",
    "\n",
    "\n",
    "#main\n",
    "string =input();\n",
    "ans = isPalindrome(string)\n",
    "\n",
    "if ans :\n",
    "    print('true')\n",
    "else :\n",
    "    print('false')"
   ]
  },
  {
   "cell_type": "markdown",
   "id": "e1f3df1a",
   "metadata": {},
   "source": [
    "Check Permutation"
   ]
  },
  {
   "cell_type": "code",
   "execution_count": 11,
   "id": "4cb9cf61",
   "metadata": {},
   "outputs": [
    {
     "name": "stdout",
     "output_type": "stream",
     "text": [
      "abc\n",
      "cba\n",
      "true\n"
     ]
    }
   ],
   "source": [
    "def isPermutation(string1, string2) :\n",
    "    n=string1.lower()\n",
    "    m=string2.lower()\n",
    "    l=len(n)\n",
    "    L=len(m)\n",
    "    if l!=L:\n",
    "        return False\n",
    "    n=''.join(sorted(n))\n",
    "    m=''.join(sorted(m))\n",
    "    for i in range(l):\n",
    "        if n[i]!=m[i]:\n",
    "            return False\n",
    "    return True\n",
    "string1 = input();\n",
    "string2 = input();\n",
    "ans = isPermutation(string1, string2)\n",
    "if ans :\n",
    "    print('true')\n",
    "else :\n",
    "    print('false')"
   ]
  },
  {
   "cell_type": "markdown",
   "id": "d73910bc",
   "metadata": {},
   "source": [
    "Remove Consecutive Duplicates"
   ]
  },
  {
   "cell_type": "code",
   "execution_count": 15,
   "id": "c83b408f",
   "metadata": {},
   "outputs": [
    {
     "name": "stdout",
     "output_type": "stream",
     "text": [
      "aaabd\n",
      "abd\n"
     ]
    }
   ],
   "source": [
    "def removeConsecutiveDuplicates(string) :\n",
    "\t# Your code goes here\n",
    "    n=string\n",
    "    s=''\n",
    "    for i in n:\n",
    "        if s=='' or i !=s[len(s)-1]:\n",
    "            s+=i\n",
    "    return s\n",
    "\n",
    "\n",
    "\t\n",
    "\n",
    "\n",
    "#main\n",
    "string = input()\n",
    "\n",
    "ans = removeConsecutiveDuplicates(string)\n",
    "\n",
    "print(ans)"
   ]
  },
  {
   "cell_type": "markdown",
   "id": "3359dd5b",
   "metadata": {},
   "source": [
    "Reverse Each Word"
   ]
  },
  {
   "cell_type": "code",
   "execution_count": 17,
   "id": "271c27fb",
   "metadata": {},
   "outputs": [
    {
     "name": "stdout",
     "output_type": "stream",
     "text": [
      "this is my code\n",
      "siht si ym edoc\n"
     ]
    }
   ],
   "source": [
    "def reverseEachWord(string) :\n",
    "\t# Your code goes here\n",
    "    a=string.split()\n",
    "    r=[]\n",
    "    for i in a:\n",
    "        p=i[::-1]\n",
    "        r.append(p)\n",
    "    x=' '.join(r)\n",
    "    return x\n",
    "\n",
    "\n",
    "#main\n",
    "string = input()\n",
    "\n",
    "ans = reverseEachWord(string)\n",
    "\n",
    "print(ans)"
   ]
  },
  {
   "cell_type": "markdown",
   "id": "e03cf902",
   "metadata": {},
   "source": [
    "Remove character"
   ]
  },
  {
   "cell_type": "code",
   "execution_count": 19,
   "id": "e79542d8",
   "metadata": {},
   "outputs": [
    {
     "name": "stdout",
     "output_type": "stream",
     "text": [
      "aacda\n",
      "asdf\n",
      "cd\n"
     ]
    }
   ],
   "source": [
    "def removeAllOccurrencesOfChar(string, ch) :\n",
    "\t# Your code goes here\n",
    "    b=''\n",
    "    for i in string:\n",
    "        if i==ch:\n",
    "            continue\n",
    "        else:\n",
    "            b+=i\n",
    "    return b\n",
    "\n",
    "#main\n",
    "string = input()\n",
    "ch = input()[0]\n",
    "\n",
    "ans = removeAllOccurrencesOfChar(string, ch)\n",
    "\n",
    "print(ans)"
   ]
  },
  {
   "cell_type": "markdown",
   "id": "4d3bbb67",
   "metadata": {},
   "source": [
    "Highest Occuring Character"
   ]
  },
  {
   "cell_type": "code",
   "execution_count": 20,
   "id": "896a47cc",
   "metadata": {},
   "outputs": [
    {
     "name": "stdout",
     "output_type": "stream",
     "text": [
      "asdzxcfdewasfdvgef\n",
      "d\n"
     ]
    }
   ],
   "source": [
    "def highestOccuringChar(string) :\n",
    "\t#Your code goes here\n",
    "    d={}\n",
    "    n=string\n",
    "    l=len(n)\n",
    "    for i in range(l):\n",
    "        if n[i] not in d:\n",
    "            d[n[i]]=1\n",
    "        else:\n",
    "            d[n[i]]+=1\n",
    "    max=-1\n",
    "    for i in range(l):\n",
    "        if max<d[n[i]]:\n",
    "            max=d[n[i]]\n",
    "            r=n[i]\n",
    "    return r\n",
    "\n",
    "#main\n",
    "string = input();\n",
    "ans = highestOccuringChar(string)\n",
    "\n",
    "print(ans)"
   ]
  },
  {
   "cell_type": "markdown",
   "id": "50887fb0",
   "metadata": {},
   "source": [
    "Compress the String"
   ]
  },
  {
   "cell_type": "code",
   "execution_count": 22,
   "id": "24d5e9a2",
   "metadata": {},
   "outputs": [
    {
     "name": "stdout",
     "output_type": "stream",
     "text": [
      "aaaccvd\n",
      "a3c2vd\n"
     ]
    }
   ],
   "source": [
    "def getCompressedString(input) :\n",
    "\t# Write your code here.\n",
    "    n=string\n",
    "    s=''\n",
    "    t=1\n",
    "    for i in n:\n",
    "        if s=='' or i!=s[len(s)-1]:\n",
    "            if t>1:\n",
    "                s+=str(t)\n",
    "                t=1\n",
    "            s+=i\n",
    "            t=1\n",
    "        else:\n",
    "            t+=1\n",
    "    if t>1:\n",
    "        s+=str(t)\n",
    "    print(s)\n",
    "            \n",
    "        \n",
    "\n",
    "# Main.\n",
    "string = input();\n",
    "getCompressedString(string)"
   ]
  }
 ],
 "metadata": {
  "kernelspec": {
   "display_name": "Python 3 (ipykernel)",
   "language": "python",
   "name": "python3"
  },
  "language_info": {
   "codemirror_mode": {
    "name": "ipython",
    "version": 3
   },
   "file_extension": ".py",
   "mimetype": "text/x-python",
   "name": "python",
   "nbconvert_exporter": "python",
   "pygments_lexer": "ipython3",
   "version": "3.9.12"
  }
 },
 "nbformat": 4,
 "nbformat_minor": 5
}
