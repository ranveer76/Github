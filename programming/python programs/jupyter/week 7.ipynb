{
 "cells": [
  {
   "cell_type": "markdown",
   "id": "efbe7316",
   "metadata": {},
   "source": [
    "Sorting"
   ]
  },
  {
   "cell_type": "code",
   "execution_count": 83,
   "id": "8dfcf129",
   "metadata": {},
   "outputs": [],
   "source": [
    "def bubblesort(arr,t=1):#bubble sort\n",
    "    n=len(arr)\n",
    "    for i in range(n):\n",
    "        for j in range(n-i-1):\n",
    "            if arr[j]>arr[j+1]:\n",
    "                arr[j],arr[j+1]=arr[j+1],arr[j]\n",
    "                t+=1\n",
    "    return arr,t#return sorted list\n",
    "\n",
    "def insertionsort(arr,t=1):#insertion sort\n",
    "    n=len(arr)\n",
    "    for i in range(1,n):\n",
    "        c=arr[i]\n",
    "        po=i\n",
    "        while c<arr[po-1] and po>0:\n",
    "            arr[i]=arr[po-1]\n",
    "            po-=1\n",
    "            t+=1\n",
    "        arr[po]=c\n",
    "    return arr,t#return sorted list\n",
    "\n",
    "def selectionsort(arr,t=1):#selection sort\n",
    "    n=len(arr)\n",
    "    for i in range(n-1):\n",
    "        c=i\n",
    "        for j in range(i+1,n):\n",
    "            if arr[j]<arr[c]:\n",
    "                c=j\n",
    "        arr[i],arr[c]=arr[c],arr[i]\n",
    "        t+=1\n",
    "    return arr,t#return sorted list\n",
    "\n",
    "def m(lis,k=1):\n",
    "    if len(lis)>1:\n",
    "        mid=len(lis)//2\n",
    "        l=lis[:mid]\n",
    "        r=lis[mid:]\n",
    "        m(l)\n",
    "        m(r)\n",
    "        k=i=j=0\n",
    "        while i<len(l) and j<len(r):\n",
    "            if l[i]<r[j]:\n",
    "                lis[k]=l[i]\n",
    "                i+=1\n",
    "            else:\n",
    "                lis[k]=r[j]\n",
    "                j+=1\n",
    "            k+=1\n",
    "            \n",
    "        while i<len(l):\n",
    "            lis[k]=l[i]\n",
    "            i+=1\n",
    "            k+=1\n",
    "        while j<len(r):\n",
    "            lis[k]=r[j]\n",
    "            j+=1\n",
    "            k+=1\n",
    "        return lis,k"
   ]
  },
  {
   "cell_type": "markdown",
   "id": "748f7b4b",
   "metadata": {},
   "source": [
    "Searching"
   ]
  },
  {
   "cell_type": "code",
   "execution_count": 85,
   "id": "84efc304",
   "metadata": {},
   "outputs": [],
   "source": [
    "def lin(a,x):#linear search\n",
    "    t=1\n",
    "    upp=len(a)\n",
    "\n",
    "    if x not in a:\n",
    "        t=(' is not in')\n",
    "        return False,a,t\n",
    "    else:\n",
    "        for i in range(upp):\n",
    "            if a[i]==x:\n",
    "                return(True,i,t)#return index no. and no. of time loop run\n",
    "                break\n",
    "            t+=1\n",
    "\n",
    "def bn(a,x):#binary search\n",
    "    print('for bubble sort enter: 1\\n'+'for insertion enter: 2\\n'+'for selection enter: 3\\n'+'for merge sort enter: 4')\n",
    "    x1=int(input())#select sorting method\n",
    "    print()\n",
    "    \n",
    "    t=1\n",
    "    l1=[bubblesort,insertionsort,selectionsort,m]\n",
    "    l2=['Bubble','Insertion','Selection','Merge']\n",
    "    \n",
    "    a,f=l1[x1-1](a,t)\n",
    "    \n",
    "    print(l2[x1-1],'Sorted list:\\n',a,'\\n')\n",
    "    low=0\n",
    "    upp=len(a)\n",
    "    \n",
    "    print()\n",
    "    if x in a:\n",
    "        while low<upp:\n",
    "            mid=(low+upp)//2\n",
    "            if a[mid]==x:\n",
    "                return(True,mid,t)#return index no. and no. of time loop run\n",
    "                break\n",
    "            elif a[mid]>x:\n",
    "                upp=mid\n",
    "            elif a[mid]<x:\n",
    "                low=mid\n",
    "            t+=1\n",
    "    else:\n",
    "        t=(' is not in')\n",
    "        return False,a,t"
   ]
  },
  {
   "cell_type": "markdown",
   "id": "dfc2be9a",
   "metadata": {},
   "source": [
    "Run searching"
   ]
  },
  {
   "cell_type": "code",
   "execution_count": 86,
   "id": "c3571beb",
   "metadata": {},
   "outputs": [
    {
     "name": "stdout",
     "output_type": "stream",
     "text": [
      "list: 4 3 6 5 2 1\n",
      "no. you want to search: 5\n",
      "\n",
      "for binary search enter 1\n",
      " for sequential search enter 2\n",
      "\n",
      "1\n",
      "for bubble sort enter: 1\n",
      "for insertion enter: 2\n",
      "for selection enter: 3\n",
      "for merge sort enter: 4\n",
      "1\n",
      "\n",
      "Bubble Sorted list:\n",
      " [1, 2, 3, 4, 5, 6] \n",
      "\n",
      "\n",
      "5 is on index no. 4\n",
      "loop runned 2 times.\n"
     ]
    }
   ],
   "source": [
    "List=[int(x) for x in input('list: ').split()]\n",
    "search=int(input('no. you want to search: '))\n",
    "l1=[bn,lin]\n",
    "print('\\nfor binary search enter 1\\n','for sequential search enter 2\\n')\n",
    "x1=int(input())\n",
    "a1=True\n",
    "a1,a,t=l1[x1-1](List,search)\n",
    "if a1 == True:\n",
    "    print(search,'is on index no.',a)\n",
    "    print('loop runned',t,'times.')\n",
    "else:\n",
    "    print(str(search)+t,a)"
   ]
  },
  {
   "cell_type": "markdown",
   "id": "9d8ab569",
   "metadata": {},
   "source": [
    "Run Sorting"
   ]
  },
  {
   "cell_type": "code",
   "execution_count": 98,
   "id": "1bfea0e0",
   "metadata": {},
   "outputs": [
    {
     "name": "stdout",
     "output_type": "stream",
     "text": [
      "List: 4 3 2 5 6 1 8 7 4\n",
      "for bubble sort enter: 1\n",
      "for insertion enter: 2\n",
      "for selection enter: 3\n",
      "for merge sort enter: 4\n",
      "4\n",
      "\n",
      "Merge Sorted list:\n",
      " [1, 2, 3, 4, 4, 5, 6, 7, 8] \n",
      "\n",
      "loop runs 9 times.\n"
     ]
    }
   ],
   "source": [
    "l1=[bubblesort,insertionsort,selectionsort,m]\n",
    "l2=['Bubble','Insertion','Selection','Merge']\n",
    "t=1\n",
    "a=[int(x) for x in input('List: ').split()]\n",
    "print('for bubble sort enter: 1\\n'+'for insertion enter: 2\\n'+'for selection enter: 3\\n'+'for merge sort enter: 4')\n",
    "x1=int(input())#select sorting method\n",
    "print()\n",
    "a,t=l1[x1-1](a,t)\n",
    "print(l2[x1-1],'Sorted list:\\n',a,'\\n')\n",
    "print('loop runs',t,'times.')"
   ]
  },
  {
   "cell_type": "markdown",
   "id": "e94d6416",
   "metadata": {},
   "source": [
    "sequetial search"
   ]
  },
  {
   "cell_type": "code",
   "execution_count": 10,
   "id": "1091b06d",
   "metadata": {
    "scrolled": true
   },
   "outputs": [
    {
     "name": "stdout",
     "output_type": "stream",
     "text": [
      "4 3 5 2 1\n",
      "4\n",
      "4 is on index no. 0\n",
      "loop runned 1 times.\n"
     ]
    }
   ],
   "source": [
    "def lin(a,x):#linear search\n",
    "    t=1\n",
    "    upp=len(a)\n",
    "\n",
    "    if x not in a:\n",
    "        return(x,'is not in',a)\n",
    "    else:\n",
    "        for i in range(upp):\n",
    "            if a[i]==x:\n",
    "                return(i,t)#return index no. and no. of time loop run\n",
    "                break\n",
    "            t+=1\n",
    "\n",
    "List=[int(x) for x in input('list: ').split()]\n",
    "search=int(input('no. you want to search: '))\n",
    "l1=[bn,lin]\n",
    "print('\\nfor binary search enter 1\\n','for sequential search enter 2\\n')\n",
    "x1=int(input())\n",
    "\n",
    "a,x=l1[x1-1](List,search)\n",
    "\n",
    "print(search,'is on index no.',a)\n",
    "print('loop runned',x,'times.')"
   ]
  },
  {
   "cell_type": "markdown",
   "id": "7ff8f9af",
   "metadata": {},
   "source": [
    "binary search"
   ]
  },
  {
   "cell_type": "code",
   "execution_count": 79,
   "id": "e0927e95",
   "metadata": {},
   "outputs": [
    {
     "name": "stdout",
     "output_type": "stream",
     "text": [
      "1\n",
      "1\n",
      "1\n",
      "1\n",
      "2\n",
      "1\n",
      "2\n",
      "3\n",
      "4\n",
      "5\n",
      "6\n"
     ]
    }
   ],
   "source": [
    "def m(lis):\n",
    "    if len(lis)>1:\n",
    "        mid=len(lis)//2\n",
    "        l=lis[:mid]\n",
    "        r=lis[mid:]\n",
    "        m(l)\n",
    "        m(r)\n",
    "        k=i=j=0\n",
    "        while i<len(l) and j<len(r):\n",
    "            if l[i]<r[j]:\n",
    "                lis[k]=l[i]\n",
    "                i+=1\n",
    "            else:\n",
    "                lis[k]=r[j]\n",
    "                j+=1\n",
    "            k+=1\n",
    "            print(k)\n",
    "        while i<len(l):\n",
    "            lis[k]=l[i]\n",
    "            i+=1\n",
    "            k+=1\n",
    "        while j<len(r):\n",
    "            lis[k]=r[j]\n",
    "            j+=1\n",
    "            k+=1\n",
    "        return lis\n",
    "            \n",
    "a=[4, 5, 6, 9, 3, 2]\n",
    "print(m(a))"
   ]
  }
 ],
 "metadata": {
  "kernelspec": {
   "display_name": "Python 3 (ipykernel)",
   "language": "python",
   "name": "python3"
  },
  "language_info": {
   "codemirror_mode": {
    "name": "ipython",
    "version": 3
   },
   "file_extension": ".py",
   "mimetype": "text/x-python",
   "name": "python",
   "nbconvert_exporter": "python",
   "pygments_lexer": "ipython3",
   "version": "3.9.12"
  }
 },
 "nbformat": 4,
 "nbformat_minor": 5
}
