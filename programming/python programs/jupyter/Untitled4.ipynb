{
 "cells": [
  {
   "cell_type": "code",
   "execution_count": 55,
   "id": "de87d130",
   "metadata": {},
   "outputs": [
    {
     "name": "stdout",
     "output_type": "stream",
     "text": [
      "5\n",
      "* \n",
      " * * \n",
      "  * * * \n",
      " * * \n",
      "* \n"
     ]
    }
   ],
   "source": [
    "n=int(input())\n",
    "a=(n//2)+1\n",
    "i=1\n",
    "while i<=n:\n",
    "    j=1\n",
    "    if i<=a:\n",
    "        z=i\n",
    "    else:\n",
    "        z=n-i+1\n",
    "\n",
    "    while j<(z):\n",
    "        print(' ',end='')\n",
    "        j+=1\n",
    "    j=1\n",
    "    while j<=(z):\n",
    "        print('*',end=' ')\n",
    "        j+=1\n",
    "    i+=1\n",
    "    print() "
   ]
  },
  {
   "cell_type": "code",
   "execution_count": 90,
   "id": "b116f10e",
   "metadata": {},
   "outputs": [
    {
     "name": "stdout",
     "output_type": "stream",
     "text": [
      "6\n",
      "\n",
      "*\n",
      " **\n",
      "  ***\n",
      "  ***\n",
      " **\n",
      "*\n"
     ]
    }
   ],
   "source": [
    "n=int(input())\n",
    "for i in range(n+1):\n",
    "    if i<=(n+1)//2:\n",
    "        z=i\n",
    "    else:\n",
    "        z=n-i+1\n",
    "    for j in range(z-1):\n",
    "        print(' ',end='')\n",
    "    for i in range(z):\n",
    "        print('*',end='')\n",
    "    print()"
   ]
  },
  {
   "cell_type": "code",
   "execution_count": 94,
   "id": "4c8fb665",
   "metadata": {},
   "outputs": [
    {
     "name": "stdout",
     "output_type": "stream",
     "text": [
      "1234\n",
      "4\n"
     ]
    }
   ],
   "source": [
    "n=int(input())\n",
    "print(len(str(n)))"
   ]
  },
  {
   "cell_type": "code",
   "execution_count": null,
   "id": "dcce6438",
   "metadata": {},
   "outputs": [],
   "source": [
    "t=int(input())\n",
    "for i in range(t):\n",
    "    n=int(input())\n",
    "    if 0<n:\n",
    "        a=[int(x) for x in input().split()]\n",
    "        for i in a:\n",
    "            b=a.count(i)\n",
    "            if b==1:\n",
    "                c=i\n",
    "                break\n",
    "        print(c)"
   ]
  }
 ],
 "metadata": {
  "kernelspec": {
   "display_name": "Python 3 (ipykernel)",
   "language": "python",
   "name": "python3"
  },
  "language_info": {
   "codemirror_mode": {
    "name": "ipython",
    "version": 3
   },
   "file_extension": ".py",
   "mimetype": "text/x-python",
   "name": "python",
   "nbconvert_exporter": "python",
   "pygments_lexer": "ipython3",
   "version": "3.9.12"
  }
 },
 "nbformat": 4,
 "nbformat_minor": 5
}
