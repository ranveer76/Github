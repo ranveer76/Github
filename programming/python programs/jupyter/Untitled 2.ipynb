{
 "cells": [
  {
   "cell_type": "code",
   "execution_count": 17,
   "id": "a95751c6",
   "metadata": {},
   "outputs": [
    {
     "name": "stdout",
     "output_type": "stream",
     "text": [
      "5 1 1\n",
      "4\n",
      "5\n",
      "-1\n"
     ]
    }
   ],
   "source": [
    "s = list(map(int, input().split()))\n",
    "n, m = list(map(int, input().split())), list(map(int, input().split()))\n",
    "S = -1\n",
    "for i in range(s[1]):\n",
    "    for j in range(s[2]):\n",
    "        if s[0] >= (n[i]+m[j]):\n",
    "            S = (n[i]+m[j])\n",
    "            b, c = n[i], m[j]\n",
    "print(S)\n"
   ]
  },
  {
   "cell_type": "code",
   "execution_count": 19,
   "id": "56c75a76",
   "metadata": {},
   "outputs": [
    {
     "name": "stdout",
     "output_type": "stream",
     "text": [
      "11\n",
      "1 2 3 4 5 4 3 2 1 3 4\n",
      "3 3\n"
     ]
    }
   ],
   "source": [
    "n = int(input())\n",
    "arr = list(map(int, input().split()))\n",
    "arr.sort()\n",
    "a = []\n",
    "l = []\n",
    "s = 0\n",
    "for i in range(n):\n",
    "    if arr[i] not in a:\n",
    "        a.append(arr[i])\n",
    "        l.append((arr.count(arr[i])))\n",
    "for i in range((len(l))):\n",
    "    if l[i] >= s:\n",
    "        s = l[i]\n",
    "        h = l.index(s)\n",
    "        P = a[h]\n",
    "print(P, s)\n"
   ]
  },
  {
   "cell_type": "code",
   "execution_count": 15,
   "id": "23d7897b",
   "metadata": {},
   "outputs": [
    {
     "name": "stdout",
     "output_type": "stream",
     "text": [
      "6\n",
      "1 4 4 4 5 3\n",
      "4\n"
     ]
    }
   ],
   "source": [
    "n = int(input())\n",
    "arr = list(map(int, input().split()))\n",
    "a = []\n",
    "l = []\n",
    "s = 0\n",
    "for i in range(n):\n",
    "    if arr[i] not in a:\n",
    "        a.append(arr[i])\n",
    "for i in a:\n",
    "    k = 0\n",
    "    for j in arr:\n",
    "        if i == j:\n",
    "            k += 1\n",
    "    l.append(k)\n",
    "for i in range((len(l))):\n",
    "    if s < l[i]:\n",
    "        s = l[i]\n",
    "        p = a[i]\n",
    "print(p)\n"
   ]
  },
  {
   "cell_type": "code",
   "execution_count": 4,
   "id": "344dedcc",
   "metadata": {},
   "outputs": [
    {
     "name": "stdout",
     "output_type": "stream",
     "text": [
      "[0, 12, 1, 3, 2]\n"
     ]
    }
   ],
   "source": [
    "a = [0, 1, 3, 2]\n",
    "a.insert(1, 12)\n",
    "print(a)\n"
   ]
  },
  {
   "cell_type": "code",
   "execution_count": 40,
   "id": "58bb03ba",
   "metadata": {},
   "outputs": [
    {
     "name": "stdout",
     "output_type": "stream",
     "text": [
      "abc bcd cde\n"
     ]
    }
   ],
   "source": [
    "print('{a} {b} {c}'.format(a='abc', b='bcd', c='cde'))\n"
   ]
  },
  {
   "cell_type": "code",
   "execution_count": null,
   "id": "37fab38e",
   "metadata": {},
   "outputs": [],
   "source": []
  }
 ],
 "metadata": {
  "kernelspec": {
   "display_name": "Python 3 (ipykernel)",
   "language": "python",
   "name": "python3"
  },
  "language_info": {
   "codemirror_mode": {
    "name": "ipython",
    "version": 3
   },
   "file_extension": ".py",
   "mimetype": "text/x-python",
   "name": "python",
   "nbconvert_exporter": "python",
   "pygments_lexer": "ipython3",
   "version": "3.9.12"
  }
 },
 "nbformat": 4,
 "nbformat_minor": 5
}
