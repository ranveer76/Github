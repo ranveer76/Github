{
 "cells": [
  {
   "cell_type": "code",
   "execution_count": null,
   "id": "2a251041",
   "metadata": {},
   "outputs": [],
   "source": [
    "n=int(input())\n",
    "a=[[int(x) for x in input().split()]for j in range(n)]\n",
    "for i in range(n):\n",
    "    z=0\n",
    "    if (a[i][1]//a[i][2])<(a[i][1]/a[i][2]):\n",
    "        z=1\n",
    "    b=a[i][0]*(((a[i][1])//(a[i][2])+z))\n",
    "    print(b)"
   ]
  },
  {
   "cell_type": "code",
   "execution_count": null,
   "id": "8c6acfb7",
   "metadata": {},
   "outputs": [],
   "source": [
    "n=int(input())\n",
    "m=[]\n",
    "for i in range(n):\n",
    "    z=0\n",
    "    a=list(map(int,input().split()))\n",
    "    if (a[1]//a[2])<(a[1]/a[2]):\n",
    "        z=1\n",
    "    b=a[0]*((a[1]//a[2])+z)\n",
    "    m.append(b)\n",
    "for i in m:\n",
    "    print(i)"
   ]
  }
 ],
 "metadata": {
  "kernelspec": {
   "display_name": "Python 3 (ipykernel)",
   "language": "python",
   "name": "python3"
  },
  "language_info": {
   "codemirror_mode": {
    "name": "ipython",
    "version": 3
   },
   "file_extension": ".py",
   "mimetype": "text/x-python",
   "name": "python",
   "nbconvert_exporter": "python",
   "pygments_lexer": "ipython3",
   "version": "3.9.12"
  }
 },
 "nbformat": 4,
 "nbformat_minor": 5
}
