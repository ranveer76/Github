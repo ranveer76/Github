{
 "cells": [
  {
   "cell_type": "markdown",
   "id": "ffd02d9d",
   "metadata": {},
   "source": [
    "Code : Inverted Number Pattern"
   ]
  },
  {
   "cell_type": "code",
   "execution_count": 1,
   "id": "8c2a668d",
   "metadata": {},
   "outputs": [
    {
     "name": "stdout",
     "output_type": "stream",
     "text": [
      "5\n",
      "55555\n",
      "4444\n",
      "333\n",
      "22\n",
      "1\n"
     ]
    }
   ],
   "source": [
    "n=int(input())\n",
    "for i in range(n):\n",
    "    for j in range(n-i):\n",
    "        print(n-i,end='')\n",
    "    print()"
   ]
  },
  {
   "cell_type": "markdown",
   "id": "a8b4eac3",
   "metadata": {},
   "source": [
    "Code : Mirror Number Pattern"
   ]
  },
  {
   "cell_type": "code",
   "execution_count": 3,
   "id": "100222d1",
   "metadata": {
    "scrolled": false
   },
   "outputs": [
    {
     "name": "stdout",
     "output_type": "stream",
     "text": [
      "5\n",
      "    1\n",
      "   12\n",
      "  123\n",
      " 1234\n",
      "12345\n"
     ]
    }
   ],
   "source": [
    "n=int(input())\n",
    "for i in range(n):\n",
    "    for j in range(1,n-i):\n",
    "        print(' ',end='')\n",
    "    for r in range(i+1):\n",
    "        print(r+1,end='')\n",
    "    print()"
   ]
  },
  {
   "cell_type": "markdown",
   "id": "5bddccda",
   "metadata": {},
   "source": [
    "Code : Star Pattern"
   ]
  },
  {
   "cell_type": "code",
   "execution_count": 12,
   "id": "3c15b39c",
   "metadata": {},
   "outputs": [
    {
     "name": "stdout",
     "output_type": "stream",
     "text": [
      "2\n",
      " *\n",
      "***\n"
     ]
    }
   ],
   "source": [
    "n=int(input())\n",
    "for i in range(n):\n",
    "    for j in range(1,n-i):\n",
    "        print(' ',end='')\n",
    "    for r in range(i+1):\n",
    "        print('*',end='')\n",
    "    for x in range(i):\n",
    "        print('*',end='')\n",
    "    print()"
   ]
  },
  {
   "cell_type": "markdown",
   "id": "8d9ba8ae",
   "metadata": {},
   "source": [
    "Code : Triangle of Numbers"
   ]
  },
  {
   "cell_type": "code",
   "execution_count": 29,
   "id": "81a67906",
   "metadata": {},
   "outputs": [
    {
     "name": "stdout",
     "output_type": "stream",
     "text": [
      "5\n",
      "    1\n",
      "   232\n",
      "  34543\n",
      " 4567654\n",
      "567898765\n"
     ]
    }
   ],
   "source": [
    "n=int(input())\n",
    "for i in range(n):\n",
    "    s=i\n",
    "    d=i*2\n",
    "    for j in range(1,n-i):\n",
    "        print(' ',end='')\n",
    "    for r in range(i+1):\n",
    "        s+=1\n",
    "        print(s,end='')\n",
    "    for x in range(i):\n",
    "        print(d, end='')\n",
    "        d-=1\n",
    "    print()"
   ]
  },
  {
   "cell_type": "markdown",
   "id": "8a0ad736",
   "metadata": {},
   "source": [
    "Code : Diamond of stars"
   ]
  },
  {
   "cell_type": "code",
   "execution_count": 10,
   "id": "0642e154",
   "metadata": {},
   "outputs": [
    {
     "name": "stdout",
     "output_type": "stream",
     "text": [
      "5\n",
      "  *\n",
      " ***\n",
      "*****\n",
      " ***\n",
      "  *\n"
     ]
    }
   ],
   "source": [
    "n=int(input())\n",
    "for i in range(1,n+1):\n",
    "    for x in range(n-2,i,-1):\n",
    "        print(' ',end=\"\")\n",
    "    if i%2==0:\n",
    "        continue\n",
    "    for y in range(i):\n",
    "        print('*',end='')\n",
    "    print()\n",
    "for z in range(1,n-2):\n",
    "    for a in range(z):\n",
    "        print(' ',end='')\n",
    "    for b in range(n-z,z,-1):\n",
    "        print('*',end='')\n",
    "    print()"
   ]
  },
  {
   "cell_type": "markdown",
   "id": "dca069ac",
   "metadata": {},
   "source": [
    "Number Pattern"
   ]
  },
  {
   "cell_type": "code",
   "execution_count": 31,
   "id": "377ea436",
   "metadata": {
    "scrolled": true
   },
   "outputs": [
    {
     "name": "stdout",
     "output_type": "stream",
     "text": [
      "5\n",
      "1        1\n",
      "12      21\n",
      "123    321\n",
      "1234  4321\n",
      "1234554321\n"
     ]
    }
   ],
   "source": [
    "n=int(input())\n",
    "for i in range(n):\n",
    "    for j in range(i+1):\n",
    "        print(j+1,end='')\n",
    "    for s in range(1,n-i):\n",
    "        print('  ',end='')\n",
    "    for y in range(i+1):\n",
    "        print(i+1,end='')\n",
    "        i-=1\n",
    "    print()"
   ]
  },
  {
   "cell_type": "markdown",
   "id": "da4f5bdc",
   "metadata": {},
   "source": [
    "Zeros and Stars Pattern"
   ]
  },
  {
   "cell_type": "code",
   "execution_count": 32,
   "id": "2047a3d9",
   "metadata": {},
   "outputs": [
    {
     "name": "stdout",
     "output_type": "stream",
     "text": [
      "5\n",
      "*0000*0000*\n",
      "0*000*000*0\n",
      "00*00*00*00\n",
      "000*0*0*000\n",
      "0000***0000\n"
     ]
    }
   ],
   "source": [
    "def f(i,n):\n",
    "    for j in range(i):\n",
    "        print(0,end='')\n",
    "def d(i,n):\n",
    "    for j in range(1):\n",
    "        print('*',end='')\n",
    "def g(i,n):\n",
    "    for j in range(n-i-1):\n",
    "        print(0,end='')\n",
    "n=int(input())\n",
    "for i in range(n):\n",
    "    f(i,n)\n",
    "    d(i,n)\n",
    "    g(i,n)\n",
    "    d(i,n)\n",
    "    g(i,n)\n",
    "    d(i,n)\n",
    "    f(i,n)\n",
    "    print()"
   ]
  },
  {
   "cell_type": "markdown",
   "id": "b12c25df",
   "metadata": {},
   "source": [
    "Pyramid Number Pattern"
   ]
  },
  {
   "cell_type": "code",
   "execution_count": 33,
   "id": "a41f34b7",
   "metadata": {},
   "outputs": [
    {
     "name": "stdout",
     "output_type": "stream",
     "text": [
      "5\n",
      "    1\n",
      "   212\n",
      "  32123\n",
      " 4321234\n",
      "543212345\n"
     ]
    }
   ],
   "source": [
    "n=int(input())\n",
    "for i in range(n):\n",
    "    for s in range(n-i-1):\n",
    "        print(' ',end='')\n",
    "    a=i\n",
    "    for j in range(i+1):\n",
    "        print(a+1,end='')\n",
    "        a-=1\n",
    "    for y in range(i):\n",
    "        print(y+2,end='')\n",
    "    print()"
   ]
  },
  {
   "cell_type": "markdown",
   "id": "43d9c07c",
   "metadata": {},
   "source": [
    "Arrow pattern"
   ]
  },
  {
   "cell_type": "code",
   "execution_count": 35,
   "id": "d41ff240",
   "metadata": {},
   "outputs": [
    {
     "name": "stdout",
     "output_type": "stream",
     "text": [
      "7\n",
      "* \n",
      " * * \n",
      "  * * * \n",
      "   * * * * \n",
      "  * * * \n",
      " * * \n",
      "* \n"
     ]
    }
   ],
   "source": [
    "def f(i,j,n):\n",
    "    if i<=a:\n",
    "        return i\n",
    "    else:\n",
    "        return n-i+1\n",
    "n=int(input())\n",
    "a=(n//2)+1\n",
    "i=1\n",
    "while i<=n:\n",
    "    j=1\n",
    "\n",
    "    while j<(f(i,j,n)):\n",
    "        print(' ',end='')\n",
    "        j+=1\n",
    "    j=1\n",
    "    while j<=(f(i,j,n)):\n",
    "        print('*',end=' ')\n",
    "        j+=1\n",
    "    i+=1\n",
    "    print() "
   ]
  },
  {
   "cell_type": "code",
   "execution_count": 2,
   "id": "acc6ec2c",
   "metadata": {},
   "outputs": [
    {
     "name": "stdout",
     "output_type": "stream",
     "text": [
      "1 2 "
     ]
    }
   ],
   "source": [
    "i=1\n",
    "while i<5:\n",
    "    if i == 3:\n",
    "        break\n",
    "    print(i, end=\" \")\n",
    "    i = i + 1\n",
    "else:\n",
    "    print('Else is also printed')"
   ]
  }
 ],
 "metadata": {
  "kernelspec": {
   "display_name": "Python 3 (ipykernel)",
   "language": "python",
   "name": "python3"
  },
  "language_info": {
   "codemirror_mode": {
    "name": "ipython",
    "version": 3
   },
   "file_extension": ".py",
   "mimetype": "text/x-python",
   "name": "python",
   "nbconvert_exporter": "python",
   "pygments_lexer": "ipython3",
   "version": "3.9.12"
  }
 },
 "nbformat": 4,
 "nbformat_minor": 5
}
