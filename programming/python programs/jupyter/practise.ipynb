{
 "cells": [
  {
   "cell_type": "code",
   "execution_count": 65,
   "id": "10c61fa0",
   "metadata": {},
   "outputs": [
    {
     "name": "stdout",
     "output_type": "stream",
     "text": [
      "3\n",
      "1 2 3 4\n",
      "4 5\n",
      "6 7 8\n",
      "23\n",
      "[(1, 2, 3, 23), (4, 23), (6, 7, 23)]\n"
     ]
    }
   ],
   "source": [
    "n=int(input())\n",
    "a=[(tuple(int(x) for x in input().split()))for j in range(n)]\n",
    "d=int(input())\n",
    "for i in range(n):\n",
    "    a[i]=a[i][:-1]+(d,)\n",
    "print(a)"
   ]
  },
  {
   "cell_type": "code",
   "execution_count": 27,
   "id": "d6e4691d",
   "metadata": {},
   "outputs": [
    {
     "name": "stdout",
     "output_type": "stream",
     "text": [
      "9\n",
      "                1                 \n",
      "              2 3 2               \n",
      "            3 4 5 4 3             \n",
      "          4 5 6 7 6 5 4           \n",
      "        5 6 7 8 9 8 7 6 5         \n",
      "      6 7 8 9 10 11 10 9 8 7 6       \n",
      "    7 8 9 10 11 12 13 12 11 10 9 8 7     \n",
      "  8 9 10 11 12 13 14 15 14 13 12 11 10 9 8   \n",
      "9 10 11 12 13 14 15 16 17 16 15 14 13 12 11 10 9 \n"
     ]
    }
   ],
   "source": [
    "n=int(input())\n",
    "k=0\n",
    "for i in range(1,n+1):\n",
    "    for j in range(1,n*2):\n",
    "        if j>=n-(i-1) and j<=n+(i-1):\n",
    "            if j<=n:\n",
    "                k+=1\n",
    "            else:\n",
    "                k-=1\n",
    "            print(k,end=' ')\n",
    "        else:\n",
    "            print(' ',end=' ')\n",
    "    print()"
   ]
  }
 ],
 "metadata": {
  "kernelspec": {
   "display_name": "Python 3 (ipykernel)",
   "language": "python",
   "name": "python3"
  },
  "language_info": {
   "codemirror_mode": {
    "name": "ipython",
    "version": 3
   },
   "file_extension": ".py",
   "mimetype": "text/x-python",
   "name": "python",
   "nbconvert_exporter": "python",
   "pygments_lexer": "ipython3",
   "version": "3.9.12"
  }
 },
 "nbformat": 4,
 "nbformat_minor": 5
}
