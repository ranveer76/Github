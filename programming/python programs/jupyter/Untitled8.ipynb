{
 "cells": [
  {
   "cell_type": "code",
   "execution_count": 20,
   "id": "876f74f5",
   "metadata": {},
   "outputs": [
    {
     "name": "stdout",
     "output_type": "stream",
     "text": [
      "123456\n",
      "\n",
      "321456\n",
      "\n",
      "Enter space to seperate number: \n",
      "\n",
      "1 2 3 45 \n",
      "51\n"
     ]
    }
   ],
   "source": [
    "n='123456'\n",
    "print(n,end='\\n\\n')\n",
    "n=n.replace('123','321')\n",
    "print(n,end='\\n\\n')\n",
    "n=list(map(int,input('Enter space to seperate number: \\n\\n').split()))#take input in list with int class or float class\n",
    "n=sum(n)\n",
    "print(n)"
   ]
  },
  {
   "cell_type": "code",
   "execution_count": 117,
   "id": "2b4838e5",
   "metadata": {},
   "outputs": [
    {
     "name": "stdout",
     "output_type": "stream",
     "text": [
      "A\n",
      "5\n",
      " *** \n",
      "*   *\n",
      "*****\n",
      "*   *\n",
      "*   *\n"
     ]
    }
   ],
   "source": [
    "def x(n,z):\n",
    "    global i,a,b,j\n",
    "    if n%2==0:\n",
    "        n+=1\n",
    "        if not((i==0 or i==n-1) and j==n//2) and (i==0 or j==n//2 or i==n-1):\n",
    "            return a\n",
    "        else:\n",
    "            return b\n",
    "    else:\n",
    "        if(i==0 or j==n//2 or i==n-1):\n",
    "            return a\n",
    "        else:\n",
    "            return b\n",
    "def X(n,z):\n",
    "        if ((i==z-1)or(j==n//2)or(i==2 and (j<=(n//2)))) and not(i==1):\n",
    "            return a\n",
    "        else:\n",
    "            return b\n",
    "def A(n,z):\n",
    "    if (i==0 or j==0 or j==z-1 or i==z//2)and not(i==0 and(j==0 or j==z-1)):\n",
    "        return a\n",
    "    else:\n",
    "        return b\n",
    "\n",
    "O=input()[0]\n",
    "z=n=int(input())\n",
    "a='*'\n",
    "b=' '\n",
    "l={'i':X,'I':x,'A':A}\n",
    "if n%2==0:\n",
    "    z=n+1\n",
    "for i in range(z):\n",
    "    for j in range(z):\n",
    "        print(l[O](n,z),end='')\n",
    "        \n",
    "    print()"
   ]
  },
  {
   "cell_type": "code",
   "execution_count": 158,
   "id": "39321c20",
   "metadata": {},
   "outputs": [
    {
     "name": "stdout",
     "output_type": "stream",
     "text": [
      "8\n",
      "        \n",
      "        \n",
      "        \n",
      "    *** \n",
      "       *\n",
      "    ****\n",
      "   *   *\n",
      "    *** \n"
     ]
    }
   ],
   "source": [
    "K=int(input())\n",
    "for x in range(K):\n",
    "    for j in range(K):\n",
    "        if (x==(K//2)-1 or (j==(K//2)-1)or x==K-1 or x==((K//2)+(K//4))-1 or j==K-1)and not(((x<=((K//2)+(K//4))-1)and(j==(K//2)-1))or(x<(K//2)-1)or(j<(K//2)-1)or((x==K-1 or(x==(K//2)-1))and((j==(K//2)-1)or(j==K-1)))):\n",
    "            print('*',end='')\n",
    "        else:\n",
    "            print(' ',end='')\n",
    "    print()"
   ]
  }
 ],
 "metadata": {
  "kernelspec": {
   "display_name": "Python 3 (ipykernel)",
   "language": "python",
   "name": "python3"
  },
  "language_info": {
   "codemirror_mode": {
    "name": "ipython",
    "version": 3
   },
   "file_extension": ".py",
   "mimetype": "text/x-python",
   "name": "python",
   "nbconvert_exporter": "python",
   "pygments_lexer": "ipython3",
   "version": "3.9.12"
  }
 },
 "nbformat": 4,
 "nbformat_minor": 5
}
