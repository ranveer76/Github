{
 "cells": [
  {
   "cell_type": "code",
   "execution_count": 21,
   "id": "9e20e16a",
   "metadata": {},
   "outputs": [
    {
     "name": "stdout",
     "output_type": "stream",
     "text": [
      "hello navjeet, you like coffee\n",
      "hello coffee, you like 1234\n",
      "hello 101, you like navjeet, my roll no is tea\n",
      "hello 101, you like navjeet, my roll no is hello\n"
     ]
    }
   ],
   "source": [
    "a = \"navjeet\"\n",
    "b = 'tea'\n",
    "c = 101\n",
    "print(\"hello {}, you like {}\".format(\"navjeet\", \"coffee\"))\n",
    "print(\"hello {1}, you like {2}\".format(\"navjeet\", \"coffee\", 1234))\n",
    "print(\"hello {}, you like {}, my roll no is {}\".format(c, a, b))\n",
    "print(\"hello {0}, you like {1}, my roll no is {b}\".format(c, a, b=\"hello\"))\n",
    "# print(\"hello {c1}, you like {a1}.format(c1=\"ab\",a1=\"cd\"))\n"
   ]
  },
  {
   "cell_type": "code",
   "execution_count": null,
   "id": "7aa7ed7e",
   "metadata": {},
   "outputs": [],
   "source": []
  },
  {
   "cell_type": "code",
   "execution_count": 17,
   "id": "89bdc7f2",
   "metadata": {},
   "outputs": [
    {
     "name": "stdout",
     "output_type": "stream",
     "text": [
      "value of a is: 123.456\n",
      "value of a is: 123.5\n",
      "value of a is: 111.22, value of b is: 123.5\n"
     ]
    }
   ],
   "source": [
    "a = 123.456\n",
    "b = 111.222\n",
    "print(\"value of a is: {}\".format(a))\n",
    "print(\"value of a is: {:.1f}\".format(a))\n",
    "print(\"value of a is: {1:.2f}, value of b is: {0:.1f}\".format(a, b))\n"
   ]
  },
  {
   "cell_type": "code",
   "execution_count": 23,
   "id": "66875d11",
   "metadata": {},
   "outputs": [
    {
     "name": "stdout",
     "output_type": "stream",
     "text": [
      "<class 'int'>\n",
      "<class 'complex'>\n",
      "<class 'float'>\n"
     ]
    }
   ],
   "source": [
    "# data types\n",
    "# all data types are classes in python and variables are objects\n",
    "# numbers- int, complex, float(upto 15 decimal)\n",
    "# no max size\n",
    "a = 12\n",
    "b = 2+3j\n",
    "c = 12.34\n",
    "print(type(a))\n",
    "print(type(b))\n",
    "print(type(c))\n"
   ]
  },
  {
   "cell_type": "code",
   "execution_count": 31,
   "id": "f3663851",
   "metadata": {},
   "outputs": [
    {
     "name": "stdout",
     "output_type": "stream",
     "text": [
      "<class 'str'>\n",
      "<class 'str'>\n",
      "hellohellohellohello\n"
     ]
    }
   ],
   "source": [
    "# string data type\n",
    "a = \"hello\"+'navjeet'\n",
    "c = '''hello\n",
    "shgsgdh\n",
    "svbdhsbdhw\n",
    "shdvhs'''\n",
    "d = \"hello\"*4\n",
    "print(type(a))\n",
    "print(type(c))\n",
    "print(d)\n"
   ]
  },
  {
   "cell_type": "code",
   "execution_count": 6,
   "id": "a6e38e29",
   "metadata": {},
   "outputs": [
    {
     "name": "stdout",
     "output_type": "stream",
     "text": [
      "23\n",
      "[100, 200, 400, 500, 600, 1, 'a', 23, 'hello', 1, 'a', [2, 3], 23]\n",
      "[100, 200, 400, 500, 600, 100, 200, 400, 500, 600]\n",
      "[100, 200, 123, 500, 600]\n"
     ]
    }
   ],
   "source": [
    "# list data type- ordered collection\n",
    "# list can contain any kind of data type except dic\n",
    "# mutable in nature\n",
    "a = []  # empty list\n",
    "b = [100, 200, 400, 500, 600]  # items in the list\n",
    "c = [1, \"a\", 23, \"hello\"]  # items with different data types\n",
    "d = [1, \"a\", [2, 3], 23]\n",
    "print(c[2])\n",
    "print(a+b+c+d)\n",
    "print(b*2)\n",
    "b[2] = 123\n",
    "print(b)\n"
   ]
  },
  {
   "cell_type": "code",
   "execution_count": 11,
   "id": "6850d887",
   "metadata": {},
   "outputs": [
    {
     "name": "stdout",
     "output_type": "stream",
     "text": [
      "33\n",
      "(11, 22, 33, 4, 5, 2, '33', 45)\n",
      "(11, 22, 33, 4, 5, 11, 22, 33, 4, 5)\n",
      "<class 'tuple'>\n"
     ]
    }
   ],
   "source": [
    "# TUPLES- ordered collection jus like lists\n",
    "# immutable in nature(cant modify, read-only data)\n",
    "a = 11, 22, 33, 4, 5\n",
    "b = (2, \"33\", 45)\n",
    "c = 2,  # tuple with single element\n",
    "d = (2)  # incorrect method- its not a tuple\n",
    "print(a[2])\n",
    "print(a+b)\n",
    "print(a*2)\n",
    "# a[2]=555\n",
    "print(type(a))\n"
   ]
  },
  {
   "cell_type": "code",
   "execution_count": 14,
   "id": "e8064483",
   "metadata": {},
   "outputs": [
    {
     "ename": "TypeError",
     "evalue": "unsupported operand type(s) for *: 'set' and 'int'",
     "output_type": "error",
     "traceback": [
      "\u001b[1;31m---------------------------------------------------------------------------\u001b[0m",
      "\u001b[1;31mTypeError\u001b[0m                                 Traceback (most recent call last)",
      "\u001b[1;32m<ipython-input-14-de36a471241f>\u001b[0m in \u001b[0;36m<module>\u001b[1;34m\u001b[0m\n\u001b[0;32m      4\u001b[0m \u001b[0ma\u001b[0m\u001b[1;33m=\u001b[0m\u001b[1;33m{\u001b[0m\u001b[1;36m11\u001b[0m\u001b[1;33m,\u001b[0m\u001b[1;36m22\u001b[0m\u001b[1;33m,\u001b[0m\u001b[1;36m33\u001b[0m\u001b[1;33m,\u001b[0m\u001b[1;36m44\u001b[0m\u001b[1;33m,\u001b[0m\u001b[1;36m55\u001b[0m\u001b[1;33m}\u001b[0m\u001b[1;33m\u001b[0m\u001b[1;33m\u001b[0m\u001b[0m\n\u001b[0;32m      5\u001b[0m \u001b[0mb\u001b[0m\u001b[1;33m=\u001b[0m\u001b[1;33m{\u001b[0m\u001b[1;36m66\u001b[0m\u001b[1;33m,\u001b[0m\u001b[1;36m77\u001b[0m\u001b[1;33m}\u001b[0m\u001b[1;33m\u001b[0m\u001b[1;33m\u001b[0m\u001b[0m\n\u001b[1;32m----> 6\u001b[1;33m \u001b[0mprint\u001b[0m\u001b[1;33m(\u001b[0m\u001b[0ma\u001b[0m\u001b[1;33m*\u001b[0m\u001b[1;36m2\u001b[0m\u001b[1;33m)\u001b[0m\u001b[1;33m\u001b[0m\u001b[1;33m\u001b[0m\u001b[0m\n\u001b[0m",
      "\u001b[1;31mTypeError\u001b[0m: unsupported operand type(s) for *: 'set' and 'int'"
     ]
    }
   ],
   "source": [
    "# sets- unordered collection\n",
    "a = {}  # empty dic\n",
    "a = set()  # empty set\n",
    "a = {11, 22, 33, 44, 55}\n",
    "b = {66, 77}\n",
    "# print(a*2)\n"
   ]
  },
  {
   "cell_type": "code",
   "execution_count": 19,
   "id": "63cd85fb",
   "metadata": {},
   "outputs": [
    {
     "name": "stdout",
     "output_type": "stream",
     "text": [
      "aaa\n",
      "34\n",
      "(10, 20)\n",
      "[4, 5, 6]\n",
      "5\n"
     ]
    }
   ],
   "source": [
    "# dictionary- unordered collection\n",
    "# key: value pair\n",
    "d = {}  # empty dic\n",
    "# d1={key1:value1,key2:value2...... } key can be taken as a int,str\n",
    "# key must be unique (no duplicate vale in key)\n",
    "d2 = {1: \"aaa\", \"bbb\": 34, 3: [4, 5, 6], 4: (10, 20)}\n",
    "# d2[key]\n",
    "print(d2[1])\n",
    "print(d2[\"bbb\"])\n",
    "print(d2[4])\n",
    "print(d2[3])\n",
    "print(d2[3][1])\n"
   ]
  },
  {
   "cell_type": "code",
   "execution_count": 20,
   "id": "3f71d73d",
   "metadata": {},
   "outputs": [
    {
     "name": "stdout",
     "output_type": "stream",
     "text": [
      "<class 'bool'>\n"
     ]
    }
   ],
   "source": [
    "# boolean\n",
    "# True or False\n",
    "print(type(True))\n"
   ]
  }
 ],
 "metadata": {
  "kernelspec": {
   "display_name": "Python 3",
   "language": "python",
   "name": "python3"
  },
  "language_info": {
   "codemirror_mode": {
    "name": "ipython",
    "version": 3
   },
   "file_extension": ".py",
   "mimetype": "text/x-python",
   "name": "python",
   "nbconvert_exporter": "python",
   "pygments_lexer": "ipython3",
   "version": "3.8.8"
  }
 },
 "nbformat": 4,
 "nbformat_minor": 5
}
