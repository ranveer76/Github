{
 "cells": [
  {
   "cell_type": "code",
   "execution_count": 8,
   "id": "6279c5be",
   "metadata": {},
   "outputs": [
    {
     "name": "stdout",
     "output_type": "stream",
     "text": [
      "False\n"
     ]
    }
   ],
   "source": [
    "# comparsion operators\n",
    "# >, <, ==, !=, >=, <=\n",
    "# return True or False\n",
    "a = 10\n",
    "b = \"10\"\n",
    "print(a == b)\n"
   ]
  },
  {
   "cell_type": "code",
   "execution_count": 13,
   "id": "26310720",
   "metadata": {},
   "outputs": [
    {
     "name": "stdout",
     "output_type": "stream",
     "text": [
      "False\n",
      "True\n",
      "True\n",
      "False\n"
     ]
    }
   ],
   "source": [
    "# Logical operators\n",
    "# and, or and not\n",
    "# return True or False\n",
    "# and: true, if both values are true\n",
    "# or: true, if any one value is true\n",
    "# not: true, if value is false\n",
    "a = 20\n",
    "b = 10\n",
    "c = 5\n",
    "print(a > 10 and b < 10)\n",
    "print(a > 10 or b > 10)\n",
    "print(a > 10 and b > 10 or c == 5)\n",
    "print(not a > 10)\n"
   ]
  },
  {
   "cell_type": "code",
   "execution_count": null,
   "id": "01d34878",
   "metadata": {},
   "outputs": [],
   "source": [
    "# Assignment operators\n",
    "# =, +=,-=,*=, /=, %=, **=\n",
    "a = 5\n",
    "b = \"ssss\"\n",
    "a = a+5 == a += 5\n",
    "a = a-5 == a -= 5\n",
    "a = a*5 == a *= 5\n",
    "a = a % 5 == a %= 5\n"
   ]
  },
  {
   "cell_type": "code",
   "execution_count": 29,
   "id": "422354a8",
   "metadata": {},
   "outputs": [
    {
     "name": "stdout",
     "output_type": "stream",
     "text": [
      "True\n"
     ]
    }
   ],
   "source": [
    "# Special operators- identity and membership\n",
    "# identity: is, is not\n",
    "# they look for identical values and saved at same part of memory.\n",
    "a = \"abc\"\n",
    "b = \"abc\"\n",
    "# print(a is not b)\n",
    "# membership operators\n",
    "# in,not in\n",
    "# it is done with sequence type only\n",
    "a = 2\n",
    "b = (2, 3, 4, 5)  # list sequence\n",
    "print(3 in b)\n"
   ]
  },
  {
   "cell_type": "code",
   "execution_count": 34,
   "id": "8469c2ed",
   "metadata": {},
   "outputs": [
    {
     "name": "stdout",
     "output_type": "stream",
     "text": [
      "5\n"
     ]
    }
   ],
   "source": [
    "# bitwise operators\n",
    "# bits 0,1\n",
    "# 1byte=08 bits\n",
    "# & ,| , ^\n",
    "a = 20\n",
    "b = 4\n",
    "# print(a&b)\n",
    "# complement ~, shift left <<, shift right >>\n",
    "# print(~20)\n",
    "print(20 >> 2)\n"
   ]
  }
 ],
 "metadata": {
  "kernelspec": {
   "display_name": "Python 3 (ipykernel)",
   "language": "python",
   "name": "python3"
  },
  "language_info": {
   "codemirror_mode": {
    "name": "ipython",
    "version": 3
   },
   "file_extension": ".py",
   "mimetype": "text/x-python",
   "name": "python",
   "nbconvert_exporter": "python",
   "pygments_lexer": "ipython3",
   "version": "3.8.8"
  }
 },
 "nbformat": 4,
 "nbformat_minor": 5
}
