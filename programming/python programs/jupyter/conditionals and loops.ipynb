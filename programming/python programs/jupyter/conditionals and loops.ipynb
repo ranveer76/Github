{
 "cells": [
  {
   "cell_type": "markdown",
   "id": "72b8cdae",
   "metadata": {},
   "source": [
    "check number"
   ]
  },
  {
   "cell_type": "code",
   "execution_count": 64,
   "id": "4e751b59",
   "metadata": {},
   "outputs": [
    {
     "name": "stdout",
     "output_type": "stream",
     "text": [
      "987654\n",
      "Positive\n"
     ]
    }
   ],
   "source": [
    "n=int(input())\n",
    "if n==0:\n",
    "    print('Zero')\n",
    "elif n<0:\n",
    "    print('Negative')\n",
    "else:\n",
    "    print('Positive')"
   ]
  },
  {
   "cell_type": "markdown",
   "id": "44d34a84",
   "metadata": {},
   "source": [
    "sum of n number"
   ]
  },
  {
   "cell_type": "code",
   "execution_count": 69,
   "id": "3216fb14",
   "metadata": {
    "scrolled": true
   },
   "outputs": [
    {
     "name": "stdout",
     "output_type": "stream",
     "text": [
      "5\n",
      "15\n"
     ]
    }
   ],
   "source": [
    "n=int(input())\n",
    "sum=0\n",
    "for i in range(1,n+1):\n",
    "      sum=sum+i\n",
    "print(sum)"
   ]
  },
  {
   "cell_type": "markdown",
   "id": "89db4916",
   "metadata": {},
   "source": [
    "sum of even numbers"
   ]
  },
  {
   "cell_type": "code",
   "execution_count": 82,
   "id": "d5000bd3",
   "metadata": {},
   "outputs": [
    {
     "name": "stdout",
     "output_type": "stream",
     "text": [
      "3\n",
      "2\n"
     ]
    }
   ],
   "source": [
    "n=int(input())\n",
    "sum=0\n",
    "for i in range(n+1):\n",
    "    if (i%2==0):\n",
    "        sum=sum+i\n",
    "print(sum)"
   ]
  },
  {
   "cell_type": "markdown",
   "id": "b297c0b8",
   "metadata": {},
   "source": [
    "Fahrenheit to Celsius"
   ]
  },
  {
   "cell_type": "code",
   "execution_count": 83,
   "id": "5ebcbd6b",
   "metadata": {},
   "outputs": [
    {
     "name": "stdout",
     "output_type": "stream",
     "text": [
      "0\n",
      "120\n",
      "20\n",
      "0 -17\n",
      "20 -6\n",
      "40 4\n",
      "60 15\n",
      "80 26\n",
      "100 37\n",
      "120 48\n"
     ]
    }
   ],
   "source": [
    "S=int(input())\n",
    "E=int(input())\n",
    "W=int(input())\n",
    "while S<=E:\n",
    "    e=(S-32)*(5/9)\n",
    "    print(S,int(e))\n",
    "    S=S+W"
   ]
  },
  {
   "cell_type": "markdown",
   "id": "e5f004e1",
   "metadata": {},
   "source": [
    "Calculator"
   ]
  },
  {
   "cell_type": "code",
   "execution_count": 86,
   "id": "7f274e8f",
   "metadata": {},
   "outputs": [
    {
     "name": "stdout",
     "output_type": "stream",
     "text": [
      "1\n",
      "2\n",
      "3\n",
      "5\n",
      "6\n"
     ]
    }
   ],
   "source": [
    "while True:\n",
    "    a=int(input())\n",
    "        \n",
    "    if a<0 or a>=6:\n",
    "        if a==6:\n",
    "            break\n",
    "        print('Invalid Operation')\n",
    "        continue\n",
    "        \n",
    "    b=int(input())\n",
    "    c=int(input())\n",
    "    \n",
    "        \n",
    "    if a==1:\n",
    "        print(b+c)\n",
    "        \n",
    "    elif a==2:\n",
    "        print(b-c)\n",
    "        \n",
    "    elif a==3:\n",
    "        print(b*c)\n",
    "        \n",
    "    elif a==4:\n",
    "        print(b//c)\n",
    "        \n",
    "    elif a==5:\n",
    "        print(b%c)"
   ]
  },
  {
   "cell_type": "markdown",
   "id": "2d0e4a73",
   "metadata": {},
   "source": [
    "Reverse of a number"
   ]
  },
  {
   "cell_type": "code",
   "execution_count": 87,
   "id": "2b692165",
   "metadata": {},
   "outputs": [
    {
     "name": "stdout",
     "output_type": "stream",
     "text": [
      "1234\n",
      "4321\n"
     ]
    }
   ],
   "source": [
    "n=int(input())\n",
    "a=0\n",
    "while (n>0):\n",
    "    a=(a*10)+(n%10)\n",
    "    n//=10\n",
    "print(a)"
   ]
  },
  {
   "cell_type": "markdown",
   "id": "dfcf5f66",
   "metadata": {},
   "source": [
    "Palindrome number"
   ]
  },
  {
   "cell_type": "code",
   "execution_count": 89,
   "id": "0d96186c",
   "metadata": {},
   "outputs": [
    {
     "name": "stdout",
     "output_type": "stream",
     "text": [
      "1234\n",
      "false\n"
     ]
    }
   ],
   "source": [
    "n=int(input())\n",
    "a=0\n",
    "x=n\n",
    "while (n>0):\n",
    "    a=(a*10)+(n%10)\n",
    "    n//=10\n",
    "if x==a:\n",
    "    print('true')\n",
    "else:\n",
    "    print('false')"
   ]
  },
  {
   "cell_type": "markdown",
   "id": "dd2abe4e",
   "metadata": {},
   "source": [
    "Sum of even & odd"
   ]
  },
  {
   "cell_type": "code",
   "execution_count": 93,
   "id": "737cdeb6",
   "metadata": {},
   "outputs": [
    {
     "name": "stdout",
     "output_type": "stream",
     "text": [
      "9876543\n",
      "18 24\n"
     ]
    }
   ],
   "source": [
    "n=int(input())\n",
    "e=o=0\n",
    "if (0<=n<=10**8):\n",
    "    while(n>0):\n",
    "        d=n%10\n",
    "        if d%2==0:\n",
    "            e=e+d\n",
    "        else:\n",
    "            o=o+d\n",
    "        n=n//10\n",
    "    print(e,o)"
   ]
  },
  {
   "cell_type": "markdown",
   "id": "2f9ac610",
   "metadata": {},
   "source": [
    "Nth Fibonacci Number"
   ]
  },
  {
   "cell_type": "code",
   "execution_count": 107,
   "id": "fa8413a4",
   "metadata": {},
   "outputs": [
    {
     "name": "stdout",
     "output_type": "stream",
     "text": [
      "6\n",
      "8\n"
     ]
    }
   ],
   "source": [
    "n=int(input())\n",
    "a=b=1\n",
    "c,i=0,3\n",
    "if n==1 or n==2:\n",
    "    c=1\n",
    "    print(c)\n",
    "else:\n",
    "    while i<=n:\n",
    "        c=a+b\n",
    "        a=b\n",
    "        b=c\n",
    "        i+=1\n",
    "    print(c)"
   ]
  }
 ],
 "metadata": {
  "kernelspec": {
   "display_name": "Python 3 (ipykernel)",
   "language": "python",
   "name": "python3"
  },
  "language_info": {
   "codemirror_mode": {
    "name": "ipython",
    "version": 3
   },
   "file_extension": ".py",
   "mimetype": "text/x-python",
   "name": "python",
   "nbconvert_exporter": "python",
   "pygments_lexer": "ipython3",
   "version": "3.9.12"
  }
 },
 "nbformat": 4,
 "nbformat_minor": 5
}
