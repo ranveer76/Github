{
 "cells": [
  {
   "cell_type": "code",
   "execution_count": 1,
   "id": "6ea64fa7",
   "metadata": {},
   "outputs": [
    {
     "name": "stdout",
     "output_type": "stream",
     "text": [
      "passing one argument\n",
      "n1 is 10\n",
      "n2 is 20\n",
      "passing two argument\n",
      "n1 is 30\n",
      "n2 is 5\n"
     ]
    }
   ],
   "source": [
    "def f(n1,n2=20):\n",
    "    print('n1 is',n1)\n",
    "    print('n2 is',n2)\n",
    "n1=10\n",
    "print('passing one argument')\n",
    "f(n1)\n",
    "\n",
    "print('passing two argument')\n",
    "f(30,5)"
   ]
  },
  {
   "cell_type": "code",
   "execution_count": 3,
   "id": "f203571f",
   "metadata": {},
   "outputs": [
    {
     "name": "stdout",
     "output_type": "stream",
     "text": [
      "hello\n",
      "world\n",
      "this\n",
      "is\n",
      "my\n",
      "python\n",
      "code\n"
     ]
    }
   ],
   "source": [
    "def f(*args):\n",
    "    for args in args:\n",
    "        print(args)\n",
    "f('hello','world','this','is','my','python','code')"
   ]
  },
  {
   "cell_type": "code",
   "execution_count": 7,
   "id": "abe0c85a",
   "metadata": {},
   "outputs": [
    {
     "name": "stdout",
     "output_type": "stream",
     "text": [
      "Enter number55\n",
      "Enter65\n",
      "120\n"
     ]
    }
   ],
   "source": [
    "def a():\n",
    "    b=int(input(\"Enter number\" ))\n",
    "    c=int(input(\"Enter\" ))\n",
    "    d=b+c\n",
    "    print(d)\n",
    "a()"
   ]
  },
  {
   "cell_type": "code",
   "execution_count": 8,
   "id": "11c4e425",
   "metadata": {},
   "outputs": [
    {
     "name": "stdout",
     "output_type": "stream",
     "text": [
      "hello Steve\n",
      "hello Bill\n",
      "hello Yash\n",
      "hello ranveer\n",
      "hello priyanshu\n",
      "hello saini\n",
      "hello sharma\n",
      "hello rohit\n",
      "hello rohan\n"
     ]
    }
   ],
   "source": [
    "def g(*n):\n",
    "    for i in n:\n",
    "        print('hello',i)\n",
    "        \n",
    "g('Steve','Bill','Yash')\n",
    "g('ranveer','priyanshu','saini','sharma','rohit','rohan')"
   ]
  },
  {
   "cell_type": "code",
   "execution_count": 11,
   "id": "b73352b2",
   "metadata": {},
   "outputs": [
    {
     "name": "stdout",
     "output_type": "stream",
     "text": [
      "None\n"
     ]
    },
    {
     "ename": "TypeError",
     "evalue": "g() takes 0 positional arguments but 3 were given",
     "output_type": "error",
     "traceback": [
      "\u001b[1;31m---------------------------------------------------------------------------\u001b[0m",
      "\u001b[1;31mTypeError\u001b[0m                                 Traceback (most recent call last)",
      "Input \u001b[1;32mIn [11]\u001b[0m, in \u001b[0;36m<cell line: 11>\u001b[1;34m()\u001b[0m\n\u001b[0;32m      9\u001b[0m     \u001b[38;5;28;01mfor\u001b[39;00m key,value \u001b[38;5;129;01min\u001b[39;00m karg:\n\u001b[0;32m     10\u001b[0m         a\u001b[38;5;241m.\u001b[39mappend(key,value)\n\u001b[1;32m---> 11\u001b[0m o\u001b[38;5;241m=\u001b[39m\u001b[43mg\u001b[49m\u001b[43m(\u001b[49m\u001b[38;5;124;43m'\u001b[39;49m\u001b[38;5;124;43mhello\u001b[39;49m\u001b[38;5;124;43m'\u001b[39;49m\u001b[43m,\u001b[49m\u001b[38;5;124;43m'\u001b[39;49m\u001b[38;5;124;43mworld\u001b[39;49m\u001b[38;5;124;43m'\u001b[39;49m\u001b[43m,\u001b[49m\u001b[38;5;124;43m'\u001b[39;49m\u001b[38;5;124;43mrahul\u001b[39;49m\u001b[38;5;124;43m'\u001b[39;49m\u001b[43m)\u001b[49m\n\u001b[0;32m     12\u001b[0m \u001b[38;5;28mprint\u001b[39m(o)\n",
      "\u001b[1;31mTypeError\u001b[0m: g() takes 0 positional arguments but 3 were given"
     ]
    }
   ],
   "source": [
    "def f(*arg):\n",
    "    a=[]\n",
    "    for i in arg:\n",
    "        a.append(i.upper())\n",
    "Object=f('hello','pubg','mobile','call of duty')\n",
    "print(Object)\n",
    "def g(**karg):\n",
    "    a=[]\n",
    "    for key,value in karg:\n",
    "        a.append(key,value)\n",
    "o=g('hello','world','rahul')\n",
    "print(o)"
   ]
  }
 ],
 "metadata": {
  "kernelspec": {
   "display_name": "Python 3 (ipykernel)",
   "language": "python",
   "name": "python3"
  },
  "language_info": {
   "codemirror_mode": {
    "name": "ipython",
    "version": 3
   },
   "file_extension": ".py",
   "mimetype": "text/x-python",
   "name": "python",
   "nbconvert_exporter": "python",
   "pygments_lexer": "ipython3",
   "version": "3.9.12"
  }
 },
 "nbformat": 4,
 "nbformat_minor": 5
}
